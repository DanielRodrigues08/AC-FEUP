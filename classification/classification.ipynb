{
 "cells": [
  {
   "cell_type": "markdown",
   "id": "2ed40a56baf647a8",
   "metadata": {
    "collapsed": false
   },
   "source": [
    "# Classification"
   ]
  },
  {
   "cell_type": "code",
   "execution_count": 45,
   "id": "30f83a10a7c945af",
   "metadata": {
    "ExecuteTime": {
     "start_time": "2023-11-23T21:33:03.916285162Z"
    },
    "collapsed": false,
    "is_executing": true
   },
   "outputs": [
    {
     "data": {
      "text/html": [
       "<div>\n",
       "<style scoped>\n",
       "    .dataframe tbody tr th:only-of-type {\n",
       "        vertical-align: middle;\n",
       "    }\n",
       "\n",
       "    .dataframe tbody tr th {\n",
       "        vertical-align: top;\n",
       "    }\n",
       "\n",
       "    .dataframe thead th {\n",
       "        text-align: right;\n",
       "    }\n",
       "</style>\n",
       "<table border=\"1\" class=\"dataframe\">\n",
       "  <thead>\n",
       "    <tr style=\"text-align: right;\">\n",
       "      <th></th>\n",
       "      <th>PC1</th>\n",
       "      <th>PC2</th>\n",
       "      <th>PC3</th>\n",
       "      <th>PC4</th>\n",
       "      <th>PC5</th>\n",
       "      <th>PC6</th>\n",
       "      <th>PC7</th>\n",
       "      <th>PC8</th>\n",
       "      <th>PC9</th>\n",
       "      <th>PC10</th>\n",
       "      <th>...</th>\n",
       "      <th>coachID_2</th>\n",
       "      <th>coachID_3</th>\n",
       "      <th>coachID_4</th>\n",
       "      <th>coachID_5</th>\n",
       "      <th>confID</th>\n",
       "      <th>year</th>\n",
       "      <th>firstRound</th>\n",
       "      <th>semis</th>\n",
       "      <th>finals</th>\n",
       "      <th>playoff</th>\n",
       "    </tr>\n",
       "  </thead>\n",
       "  <tbody>\n",
       "    <tr>\n",
       "      <th>0</th>\n",
       "      <td>-4.478372</td>\n",
       "      <td>-0.943852</td>\n",
       "      <td>-0.778227</td>\n",
       "      <td>-1.366925</td>\n",
       "      <td>1.369128</td>\n",
       "      <td>-0.050656</td>\n",
       "      <td>0.128159</td>\n",
       "      <td>-0.629079</td>\n",
       "      <td>-0.022620</td>\n",
       "      <td>-0.714297</td>\n",
       "      <td>...</td>\n",
       "      <td>0</td>\n",
       "      <td>0</td>\n",
       "      <td>0</td>\n",
       "      <td>1</td>\n",
       "      <td>0</td>\n",
       "      <td>2</td>\n",
       "      <td>0</td>\n",
       "      <td>0</td>\n",
       "      <td>0</td>\n",
       "      <td>1</td>\n",
       "    </tr>\n",
       "    <tr>\n",
       "      <th>1</th>\n",
       "      <td>0.134260</td>\n",
       "      <td>-3.251203</td>\n",
       "      <td>-2.133470</td>\n",
       "      <td>1.655649</td>\n",
       "      <td>0.866988</td>\n",
       "      <td>1.913713</td>\n",
       "      <td>0.928812</td>\n",
       "      <td>0.750102</td>\n",
       "      <td>1.115097</td>\n",
       "      <td>1.395090</td>\n",
       "      <td>...</td>\n",
       "      <td>0</td>\n",
       "      <td>0</td>\n",
       "      <td>1</td>\n",
       "      <td>0</td>\n",
       "      <td>0</td>\n",
       "      <td>2</td>\n",
       "      <td>1</td>\n",
       "      <td>1</td>\n",
       "      <td>0</td>\n",
       "      <td>1</td>\n",
       "    </tr>\n",
       "    <tr>\n",
       "      <th>2</th>\n",
       "      <td>-2.500967</td>\n",
       "      <td>-0.465947</td>\n",
       "      <td>1.830461</td>\n",
       "      <td>0.674919</td>\n",
       "      <td>1.261897</td>\n",
       "      <td>0.331495</td>\n",
       "      <td>-0.838341</td>\n",
       "      <td>-0.488419</td>\n",
       "      <td>-1.579522</td>\n",
       "      <td>1.053487</td>\n",
       "      <td>...</td>\n",
       "      <td>0</td>\n",
       "      <td>0</td>\n",
       "      <td>1</td>\n",
       "      <td>1</td>\n",
       "      <td>0</td>\n",
       "      <td>2</td>\n",
       "      <td>0</td>\n",
       "      <td>0</td>\n",
       "      <td>0</td>\n",
       "      <td>0</td>\n",
       "    </tr>\n",
       "    <tr>\n",
       "      <th>3</th>\n",
       "      <td>4.730350</td>\n",
       "      <td>-3.834687</td>\n",
       "      <td>1.053762</td>\n",
       "      <td>0.727773</td>\n",
       "      <td>1.867218</td>\n",
       "      <td>-0.393381</td>\n",
       "      <td>-0.134828</td>\n",
       "      <td>-1.471043</td>\n",
       "      <td>-0.213506</td>\n",
       "      <td>0.070260</td>\n",
       "      <td>...</td>\n",
       "      <td>0</td>\n",
       "      <td>1</td>\n",
       "      <td>0</td>\n",
       "      <td>0</td>\n",
       "      <td>1</td>\n",
       "      <td>2</td>\n",
       "      <td>1</td>\n",
       "      <td>1</td>\n",
       "      <td>1</td>\n",
       "      <td>1</td>\n",
       "    </tr>\n",
       "    <tr>\n",
       "      <th>4</th>\n",
       "      <td>-3.863173</td>\n",
       "      <td>-1.996960</td>\n",
       "      <td>1.524079</td>\n",
       "      <td>0.984937</td>\n",
       "      <td>0.875083</td>\n",
       "      <td>-0.285683</td>\n",
       "      <td>1.277070</td>\n",
       "      <td>0.923469</td>\n",
       "      <td>-0.154877</td>\n",
       "      <td>-0.868089</td>\n",
       "      <td>...</td>\n",
       "      <td>0</td>\n",
       "      <td>1</td>\n",
       "      <td>0</td>\n",
       "      <td>1</td>\n",
       "      <td>0</td>\n",
       "      <td>2</td>\n",
       "      <td>0</td>\n",
       "      <td>0</td>\n",
       "      <td>0</td>\n",
       "      <td>0</td>\n",
       "    </tr>\n",
       "  </tbody>\n",
       "</table>\n",
       "<p>5 rows × 29 columns</p>\n",
       "</div>"
      ],
      "text/plain": [
       "        PC1       PC2       PC3       PC4       PC5       PC6       PC7  \\\n",
       "0 -4.478372 -0.943852 -0.778227 -1.366925  1.369128 -0.050656  0.128159   \n",
       "1  0.134260 -3.251203 -2.133470  1.655649  0.866988  1.913713  0.928812   \n",
       "2 -2.500967 -0.465947  1.830461  0.674919  1.261897  0.331495 -0.838341   \n",
       "3  4.730350 -3.834687  1.053762  0.727773  1.867218 -0.393381 -0.134828   \n",
       "4 -3.863173 -1.996960  1.524079  0.984937  0.875083 -0.285683  1.277070   \n",
       "\n",
       "        PC8       PC9      PC10  ...  coachID_2  coachID_3  coachID_4  \\\n",
       "0 -0.629079 -0.022620 -0.714297  ...          0          0          0   \n",
       "1  0.750102  1.115097  1.395090  ...          0          0          1   \n",
       "2 -0.488419 -1.579522  1.053487  ...          0          0          1   \n",
       "3 -1.471043 -0.213506  0.070260  ...          0          1          0   \n",
       "4  0.923469 -0.154877 -0.868089  ...          0          1          0   \n",
       "\n",
       "   coachID_5  confID  year  firstRound  semis  finals  playoff  \n",
       "0          1       0     2           0      0       0        1  \n",
       "1          0       0     2           1      1       0        1  \n",
       "2          1       0     2           0      0       0        0  \n",
       "3          0       1     2           1      1       1        1  \n",
       "4          1       0     2           0      0       0        0  \n",
       "\n",
       "[5 rows x 29 columns]"
      ]
     },
     "execution_count": 45,
     "metadata": {},
     "output_type": "execute_result"
    }
   ],
   "source": [
    "import pandas as pd\n",
    "from sklearn.metrics import accuracy_score\n",
    "\n",
    "import evaluation as eval\n",
    "import classification_utils as class_utils\n",
    "\n",
    "df = pd.read_csv('../data/transformed.csv')\n",
    "df.head()"
   ]
  },
  {
   "cell_type": "markdown",
   "id": "f63e73a7341ce9a2",
   "metadata": {
    "collapsed": false
   },
   "source": [
    "## Algorithms and Param Grids"
   ]
  },
  {
   "cell_type": "code",
   "execution_count": 46,
   "id": "319e9fdb9641dfc9",
   "metadata": {
    "ExecuteTime": {
     "start_time": "2023-11-23T21:33:03.978262701Z"
    },
    "collapsed": false,
    "is_executing": true
   },
   "outputs": [],
   "source": [
    "from sklearn.tree import DecisionTreeClassifier\n",
    "\n",
    "dtc = DecisionTreeClassifier()\n",
    "dtc_param_grid = {\n",
    "    'criterion': ['gini', 'entropy'],\n",
    "    'max_depth': [10, 20, 30, 40, 50],\n",
    "    'min_samples_split': [2, 5, 10],\n",
    "    'min_samples_leaf': [1, 2, 4],\n",
    "    'max_features': ['auto', 'sqrt', 'log2'],\n",
    "}"
   ]
  },
  {
   "cell_type": "code",
   "execution_count": 47,
   "id": "2cfdf50fd8988105",
   "metadata": {
    "ExecuteTime": {
     "start_time": "2023-11-23T21:33:03.978525292Z"
    },
    "collapsed": false,
    "is_executing": true
   },
   "outputs": [],
   "source": [
    "from sklearn.neural_network import MLPClassifier\n",
    "\n",
    "mlp = MLPClassifier(batch_size=8, max_iter=10000, random_state=42)\n",
    "mlp_param_grid = {\n",
    "    'hidden_layer_sizes': [(50, 50, 50), (50, 100, 50), (100,)],\n",
    "    'activation': ['tanh', 'relu'],\n",
    "    'solver': ['sgd', 'adam'],\n",
    "    'alpha': [0.0001, 0.05, 0.1, 0.5],\n",
    "    'learning_rate': ['constant', 'adaptive'],\n",
    "}"
   ]
  },
  {
   "cell_type": "code",
   "execution_count": 48,
   "id": "5e3f99f5329c6c37",
   "metadata": {
    "collapsed": false,
    "is_executing": true
   },
   "outputs": [],
   "source": [
    "from sklearn.svm import SVC\n",
    "\n",
    "svm = SVC(probability=True)\n",
    "svm_param_grid = {\n",
    "    'kernel': ['linear'],\n",
    "    'C': [0.001, 0.01, 0.1, 1, 10, 100],\n",
    "}"
   ]
  },
  {
   "cell_type": "code",
   "execution_count": 49,
   "id": "78f1a6c4aed01f1b",
   "metadata": {
    "collapsed": false,
    "is_executing": true
   },
   "outputs": [],
   "source": [
    "from sklearn.neighbors import KNeighborsClassifier\n",
    "\n",
    "knn = KNeighborsClassifier()\n",
    "param_grid_knn = {\n",
    "    'n_neighbors': [3, 5, 7, 9, 11],\n",
    "    'weights': ['uniform', 'distance'],\n",
    "    'p': [1, 2],\n",
    "    'metric': ['euclidean', 'manhattan']\n",
    "}"
   ]
  },
  {
   "cell_type": "markdown",
   "id": "86badbcf69bb64fc",
   "metadata": {
    "collapsed": false
   },
   "source": [
    "### Ensembles"
   ]
  },
  {
   "cell_type": "code",
   "execution_count": 50,
   "id": "484cceb9f73452f8",
   "metadata": {
    "ExecuteTime": {
     "end_time": "2023-11-23T21:33:03.978668146Z",
     "start_time": "2023-11-23T21:33:03.978389094Z"
    },
    "collapsed": false
   },
   "outputs": [],
   "source": [
    "from sklearn.ensemble import BaggingClassifier\n",
    "\n",
    "bagging = BaggingClassifier()\n",
    "bagging_param_grid = {\n",
    "    'n_estimators': [10, 20, 50, 100],\n",
    "    'max_samples': [0.5, 0.75, 1.0],\n",
    "    'bootstrap': [True, False],\n",
    "    'bootstrap_features': [True, False],\n",
    "}"
   ]
  },
  {
   "cell_type": "code",
   "execution_count": 51,
   "id": "66303a3b67718b2c",
   "metadata": {
    "ExecuteTime": {
     "end_time": "2023-11-23T21:33:03.978896723Z",
     "start_time": "2023-11-23T21:33:03.978609773Z"
    },
    "collapsed": false
   },
   "outputs": [],
   "source": [
    "from sklearn.ensemble import AdaBoostClassifier\n",
    "\n",
    "ada_boost = AdaBoostClassifier()\n",
    "ada_boost_param_grid = {\n",
    "    'n_estimators': [10, 20, 50, 100, 200, 500],\n",
    "    'learning_rate': [0.1, 0.5, 1.0],\n",
    "    'algorithm': ['SAMME', 'SAMME.R'],\n",
    "}"
   ]
  },
  {
   "cell_type": "code",
   "execution_count": 52,
   "id": "1b35e6a4279c48a3",
   "metadata": {
    "ExecuteTime": {
     "end_time": "2023-11-23T21:33:03.979590830Z",
     "start_time": "2023-11-23T21:33:03.978764031Z"
    },
    "collapsed": false
   },
   "outputs": [],
   "source": [
    "from sklearn.ensemble import GradientBoostingClassifier\n",
    "\n",
    "gradient_boosting = GradientBoostingClassifier()\n",
    "gradient_boosting_param_grid = {\n",
    "    'n_estimators': [10, 20, 50, 100, 200, 500],\n",
    "    'learning_rate': [0.01, 0.1, 0.5, 1.0],\n",
    "    'max_depth': [3, 5, 10],\n",
    "    'min_samples_split': [2, 5, 10],\n",
    "    'min_samples_leaf': [1, 2, 5],\n",
    "    'subsample': [0.5, 0.75, 1.0],\n",
    "    'loss': ['deviance', 'exponential'],\n",
    "}"
   ]
  },
  {
   "cell_type": "code",
   "execution_count": 53,
   "id": "5bec62e7258755ec",
   "metadata": {
    "ExecuteTime": {
     "end_time": "2023-11-23T21:33:03.979738242Z",
     "start_time": "2023-11-23T21:33:03.978860856Z"
    },
    "collapsed": false
   },
   "outputs": [],
   "source": [
    "from sklearn.ensemble import RandomForestClassifier\n",
    "\n",
    "random_forest = RandomForestClassifier()\n",
    "random_forest_param_grid = {\n",
    "    'n_estimators': [10, 20, 50, 100, 200, 500],\n",
    "    'max_depth': [None, 3, 5, 10],\n",
    "    'min_samples_split': [2, 5, 10],\n",
    "    'min_samples_leaf': [1, 2, 5],\n",
    "    'bootstrap': [True, False],\n",
    "    'max_features': ['auto', 'sqrt', 'log2'],\n",
    "    'criterion': ['gini', 'entropy'],\n",
    "}"
   ]
  },
  {
   "cell_type": "markdown",
   "id": "8f7e27237fbcb0a9",
   "metadata": {
    "collapsed": false
   },
   "source": [
    "## Classification"
   ]
  },
  {
   "cell_type": "code",
   "execution_count": 54,
   "id": "6347fe7bc7c37852",
   "metadata": {
    "ExecuteTime": {
     "end_time": "2023-11-23T21:33:03.980450553Z",
     "start_time": "2023-11-23T21:33:03.978978495Z"
    },
    "collapsed": false
   },
   "outputs": [],
   "source": [
    "classifier = mlp\n",
    "param_grid = mlp_param_grid\n",
    "target = 'playoff'"
   ]
  },
  {
   "cell_type": "code",
   "execution_count": 55,
   "id": "aa351809c6f83496",
   "metadata": {
    "ExecuteTime": {
     "end_time": "2023-11-23T21:33:09.397568580Z",
     "start_time": "2023-11-23T21:33:03.980050152Z"
    },
    "collapsed": false
   },
   "outputs": [
    {
     "name": "stdout",
     "output_type": "stream",
     "text": [
      "---------------------- YEAR 3 ----------------------\n",
      "AUC: 60.94%\n",
      "Accuracy: 62.5%\n",
      "Precision: 62.5%\n",
      "Recall: 62.5%\n",
      "F1: 62.5%\n",
      "---------------------- YEAR 4 ----------------------\n",
      "AUC: 54.29%\n",
      "Accuracy: 58.33%\n",
      "Precision: 62.5%\n",
      "Recall: 71.43%\n",
      "F1: 66.67%\n",
      "---------------------- YEAR 5 ----------------------\n",
      "AUC: 57.5%\n",
      "Accuracy: 53.85%\n",
      "Precision: 62.5%\n",
      "Recall: 62.5%\n",
      "F1: 62.5%\n",
      "---------------------- YEAR 6 ----------------------\n",
      "AUC: 72.5%\n",
      "Accuracy: 69.23%\n",
      "Precision: 75.0%\n",
      "Recall: 75.0%\n",
      "F1: 75.0%\n",
      "---------------------- YEAR 7 ----------------------\n",
      "AUC: 87.5%\n",
      "Accuracy: 84.62%\n",
      "Precision: 87.5%\n",
      "Recall: 87.5%\n",
      "F1: 87.5%\n",
      "---------------------- YEAR 8 ----------------------\n",
      "AUC: 77.5%\n",
      "Accuracy: 69.23%\n",
      "Precision: 75.0%\n",
      "Recall: 75.0%\n",
      "F1: 75.0%\n",
      "---------------------- YEAR 9 ----------------------\n",
      "AUC: 70.0%\n",
      "Accuracy: 69.23%\n",
      "Precision: 75.0%\n",
      "Recall: 75.0%\n",
      "F1: 75.0%\n",
      "---------------------- YEAR 10 ----------------------\n"
     ]
    },
    {
     "data": {
      "image/png": "[encoded data removed]",
      "text/plain": [
       "<Figure size 640x480 with 2 Axes>"
      ]
     },
     "metadata": {},
     "output_type": "display_data"
    },
    {
     "data": {
      "image/png": "[encoded data removed]",
      "text/plain": [
       "<Figure size 640x480 with 1 Axes>"
      ]
     },
     "metadata": {},
     "output_type": "display_data"
    },
    {
     "name": "stdout",
     "output_type": "stream",
     "text": [
      "AUC: 77.5%\n",
      "Accuracy: 84.62%\n",
      "Precision: 87.5%\n",
      "Recall: 87.5%\n",
      "F1: 87.5%\n"
     ]
    },
    {
     "data": {
      "image/png": "[encoded data removed]",
      "text/plain": [
       "<Figure size 640x480 with 1 Axes>"
      ]
     },
     "metadata": {},
     "output_type": "display_data"
    }
   ],
   "source": [
    "years = []\n",
    "train_scores = []\n",
    "test_scores = []\n",
    "\n",
    "for year in df['year'].unique():\n",
    "    if year < 3:\n",
    "        continue\n",
    "\n",
    "    print(f\"---------------------- YEAR {year} ----------------------\")\n",
    "\n",
    "    class_utils.train_model_simple(classifier, df, year, target)\n",
    "\n",
    "    y_test, y_test_prob, conf_test, y_train, y_train_prob, conf_train = class_utils.test_model(classifier, df, year,\n",
    "                                                                                               target)\n",
    "\n",
    "    y_test_pred = class_utils.enforce_max_teams(y_test_prob, conf_test)\n",
    "    y_train_pred = class_utils.enforce_max_teams(y_train_prob, conf_train)\n",
    "\n",
    "    eval.model_score(y_test, y_test_pred, y_test_prob, year == 10)\n",
    "\n",
    "    years.append(year)\n",
    "    test_scores.append(accuracy_score(y_test, y_test_pred))\n",
    "    train_scores.append(accuracy_score(y_train, y_train_pred))\n",
    "\n",
    "eval.plot_learning_curve(years, train_scores, test_scores)"
   ]
  }
 ],
 "metadata": {
  "kernelspec": {
   "display_name": "Python 3",
   "language": "python",
   "name": "python3"
  },
  "language_info": {
   "codemirror_mode": {
    "name": "ipython",
    "version": 3
   },
   "file_extension": ".py",
   "mimetype": "text/x-python",
   "name": "python",
   "nbconvert_exporter": "python",
   "pygments_lexer": "ipython3",
   "version": "3.10.10"
  }
 },
 "nbformat": 4,
 "nbformat_minor": 5
}
