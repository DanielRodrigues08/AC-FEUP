{
 "cells": [
  {
   "cell_type": "markdown",
   "id": "2ed40a56baf647a8",
   "metadata": {
    "collapsed": false
   },
   "source": [
    "# Classification"
   ]
  },
  {
   "cell_type": "code",
   "execution_count": 133,
   "id": "30f83a10a7c945af",
   "metadata": {
    "ExecuteTime": {
     "end_time": "2023-11-30T16:09:42.327985069Z",
     "start_time": "2023-11-30T16:09:42.214711238Z"
    },
    "collapsed": false
   },
   "outputs": [
    {
     "data": {
      "text/html": [
       "<div>\n",
       "<style scoped>\n",
       "    .dataframe tbody tr th:only-of-type {\n",
       "        vertical-align: middle;\n",
       "    }\n",
       "\n",
       "    .dataframe tbody tr th {\n",
       "        vertical-align: top;\n",
       "    }\n",
       "\n",
       "    .dataframe thead th {\n",
       "        text-align: right;\n",
       "    }\n",
       "</style>\n",
       "<table border=\"1\" class=\"dataframe\">\n",
       "  <thead>\n",
       "    <tr style=\"text-align: right;\">\n",
       "      <th></th>\n",
       "      <th>PC1</th>\n",
       "      <th>PC2</th>\n",
       "      <th>PC3</th>\n",
       "      <th>PC4</th>\n",
       "      <th>PC5</th>\n",
       "      <th>PC6</th>\n",
       "      <th>PC7</th>\n",
       "      <th>tmID_0</th>\n",
       "      <th>tmID_1</th>\n",
       "      <th>tmID_2</th>\n",
       "      <th>...</th>\n",
       "      <th>coachID_2</th>\n",
       "      <th>coachID_3</th>\n",
       "      <th>coachID_4</th>\n",
       "      <th>coachID_5</th>\n",
       "      <th>confID</th>\n",
       "      <th>year</th>\n",
       "      <th>firstRound</th>\n",
       "      <th>semis</th>\n",
       "      <th>finals</th>\n",
       "      <th>playoff</th>\n",
       "    </tr>\n",
       "  </thead>\n",
       "  <tbody>\n",
       "    <tr>\n",
       "      <th>0</th>\n",
       "      <td>-3.934517</td>\n",
       "      <td>-1.352800</td>\n",
       "      <td>-0.724820</td>\n",
       "      <td>0.880406</td>\n",
       "      <td>0.003875</td>\n",
       "      <td>-0.823730</td>\n",
       "      <td>-0.167498</td>\n",
       "      <td>0</td>\n",
       "      <td>0</td>\n",
       "      <td>0</td>\n",
       "      <td>...</td>\n",
       "      <td>0</td>\n",
       "      <td>0</td>\n",
       "      <td>0</td>\n",
       "      <td>1</td>\n",
       "      <td>0</td>\n",
       "      <td>2</td>\n",
       "      <td>0</td>\n",
       "      <td>0</td>\n",
       "      <td>0</td>\n",
       "      <td>1</td>\n",
       "    </tr>\n",
       "    <tr>\n",
       "      <th>1</th>\n",
       "      <td>1.333858</td>\n",
       "      <td>-2.051460</td>\n",
       "      <td>1.921364</td>\n",
       "      <td>-0.270140</td>\n",
       "      <td>0.976174</td>\n",
       "      <td>2.630491</td>\n",
       "      <td>0.634819</td>\n",
       "      <td>0</td>\n",
       "      <td>0</td>\n",
       "      <td>0</td>\n",
       "      <td>...</td>\n",
       "      <td>0</td>\n",
       "      <td>0</td>\n",
       "      <td>1</td>\n",
       "      <td>0</td>\n",
       "      <td>0</td>\n",
       "      <td>2</td>\n",
       "      <td>1</td>\n",
       "      <td>1</td>\n",
       "      <td>0</td>\n",
       "      <td>1</td>\n",
       "    </tr>\n",
       "    <tr>\n",
       "      <th>2</th>\n",
       "      <td>-1.981541</td>\n",
       "      <td>1.558531</td>\n",
       "      <td>1.146336</td>\n",
       "      <td>0.187226</td>\n",
       "      <td>-1.209318</td>\n",
       "      <td>-0.157367</td>\n",
       "      <td>0.410495</td>\n",
       "      <td>0</td>\n",
       "      <td>0</td>\n",
       "      <td>0</td>\n",
       "      <td>...</td>\n",
       "      <td>0</td>\n",
       "      <td>0</td>\n",
       "      <td>1</td>\n",
       "      <td>1</td>\n",
       "      <td>0</td>\n",
       "      <td>2</td>\n",
       "      <td>0</td>\n",
       "      <td>0</td>\n",
       "      <td>0</td>\n",
       "      <td>0</td>\n",
       "    </tr>\n",
       "    <tr>\n",
       "      <th>3</th>\n",
       "      <td>5.401423</td>\n",
       "      <td>0.709745</td>\n",
       "      <td>1.254823</td>\n",
       "      <td>1.283298</td>\n",
       "      <td>-0.428218</td>\n",
       "      <td>-0.680932</td>\n",
       "      <td>-1.010997</td>\n",
       "      <td>0</td>\n",
       "      <td>0</td>\n",
       "      <td>1</td>\n",
       "      <td>...</td>\n",
       "      <td>0</td>\n",
       "      <td>1</td>\n",
       "      <td>0</td>\n",
       "      <td>0</td>\n",
       "      <td>1</td>\n",
       "      <td>2</td>\n",
       "      <td>1</td>\n",
       "      <td>1</td>\n",
       "      <td>1</td>\n",
       "      <td>1</td>\n",
       "    </tr>\n",
       "    <tr>\n",
       "      <th>4</th>\n",
       "      <td>-3.375582</td>\n",
       "      <td>1.179698</td>\n",
       "      <td>0.450744</td>\n",
       "      <td>0.993467</td>\n",
       "      <td>-0.908878</td>\n",
       "      <td>0.081303</td>\n",
       "      <td>0.582192</td>\n",
       "      <td>0</td>\n",
       "      <td>0</td>\n",
       "      <td>1</td>\n",
       "      <td>...</td>\n",
       "      <td>0</td>\n",
       "      <td>1</td>\n",
       "      <td>0</td>\n",
       "      <td>1</td>\n",
       "      <td>0</td>\n",
       "      <td>2</td>\n",
       "      <td>0</td>\n",
       "      <td>0</td>\n",
       "      <td>0</td>\n",
       "      <td>0</td>\n",
       "    </tr>\n",
       "  </tbody>\n",
       "</table>\n",
       "<p>5 rows × 24 columns</p>\n",
       "</div>"
      ],
      "text/plain": [
       "        PC1       PC2       PC3       PC4       PC5       PC6       PC7  \\\n",
       "0 -3.934517 -1.352800 -0.724820  0.880406  0.003875 -0.823730 -0.167498   \n",
       "1  1.333858 -2.051460  1.921364 -0.270140  0.976174  2.630491  0.634819   \n",
       "2 -1.981541  1.558531  1.146336  0.187226 -1.209318 -0.157367  0.410495   \n",
       "3  5.401423  0.709745  1.254823  1.283298 -0.428218 -0.680932 -1.010997   \n",
       "4 -3.375582  1.179698  0.450744  0.993467 -0.908878  0.081303  0.582192   \n",
       "\n",
       "   tmID_0  tmID_1  tmID_2  ...  coachID_2  coachID_3  coachID_4  coachID_5  \\\n",
       "0       0       0       0  ...          0          0          0          1   \n",
       "1       0       0       0  ...          0          0          1          0   \n",
       "2       0       0       0  ...          0          0          1          1   \n",
       "3       0       0       1  ...          0          1          0          0   \n",
       "4       0       0       1  ...          0          1          0          1   \n",
       "\n",
       "   confID  year  firstRound  semis  finals  playoff  \n",
       "0       0     2           0      0       0        1  \n",
       "1       0     2           1      1       0        1  \n",
       "2       0     2           0      0       0        0  \n",
       "3       1     2           1      1       1        1  \n",
       "4       0     2           0      0       0        0  \n",
       "\n",
       "[5 rows x 24 columns]"
      ]
     },
     "execution_count": 133,
     "metadata": {},
     "output_type": "execute_result"
    }
   ],
   "source": [
    "import pandas as pd\n",
    "from sklearn.metrics import accuracy_score\n",
    "\n",
    "import evaluation as eval\n",
    "import classification_utils as class_utils\n",
    "\n",
    "df = pd.read_csv('../data/transformed.csv')\n",
    "df.head()"
   ]
  },
  {
   "cell_type": "markdown",
   "id": "f63e73a7341ce9a2",
   "metadata": {
    "collapsed": false
   },
   "source": [
    "## Algorithms and Param Grids"
   ]
  },
  {
   "cell_type": "code",
   "execution_count": 134,
   "id": "319e9fdb9641dfc9",
   "metadata": {
    "ExecuteTime": {
     "end_time": "2023-11-30T16:09:42.332229526Z",
     "start_time": "2023-11-30T16:09:42.282188882Z"
    },
    "collapsed": false
   },
   "outputs": [],
   "source": [
    "from sklearn.tree import DecisionTreeClassifier\n",
    "\n",
    "dtc = DecisionTreeClassifier()\n",
    "dtc_param_grid = {\n",
    "    'criterion': ['gini', 'entropy'],\n",
    "    'max_depth': [10, 20, 30, 40, 50],\n",
    "    'min_samples_split': [2, 5, 10],\n",
    "    'min_samples_leaf': [1, 2, 4],\n",
    "    'max_features': ['auto', 'sqrt', 'log2'],\n",
    "}"
   ]
  },
  {
   "cell_type": "code",
   "execution_count": 135,
   "id": "2cfdf50fd8988105",
   "metadata": {
    "ExecuteTime": {
     "end_time": "2023-11-30T16:09:42.332587311Z",
     "start_time": "2023-11-30T16:09:42.282537156Z"
    },
    "collapsed": false
   },
   "outputs": [],
   "source": [
    "from sklearn.neural_network import MLPClassifier\n",
    "\n",
    "mlp = MLPClassifier(batch_size=8, max_iter=10000, random_state=320)\n",
    "mlp_param_grid = {\n",
    "    'hidden_layer_sizes': [(50,50,50), (50,100,50), (100,)],\n",
    "    'activation': ['tanh', 'relu'],\n",
    "    'solver': ['sgd', 'adam'],\n",
    "    'alpha': [0.0001, 0.05],\n",
    "    'learning_rate': ['constant','adaptive'],\n",
    "}"
   ]
  },
  {
   "cell_type": "code",
   "execution_count": 136,
   "id": "5e3f99f5329c6c37",
   "metadata": {
    "ExecuteTime": {
     "end_time": "2023-11-30T16:09:42.332828012Z",
     "start_time": "2023-11-30T16:09:42.282767226Z"
    },
    "collapsed": false
   },
   "outputs": [],
   "source": [
    "from sklearn.svm import SVC\n",
    "\n",
    "svm = SVC(probability=True)\n",
    "param_grid = {\n",
    "    'C': [0.1, 1, 10, 100],  # Regularization parameter\n",
    "    'gamma': ['scale', 'auto'],  # Kernel coefficient ('scale' and 'auto' options)\n",
    "    'kernel': ['linear', 'rbf', 'poly'],  # Kernel type: linear, radial basis function (RBF), polynomial\n",
    "    'degree': [2, 3, 4],  # Degree of the polynomial kernel (if 'kernel' is 'poly')\n",
    "    'coef0': [0.0, 0.1, 0.5]  # Independent term in the polynomial kernel equation (if 'kernel' is 'poly')\n",
    "}"
   ]
  },
  {
   "cell_type": "code",
   "execution_count": 137,
   "id": "78f1a6c4aed01f1b",
   "metadata": {
    "ExecuteTime": {
     "end_time": "2023-11-30T16:09:42.333086634Z",
     "start_time": "2023-11-30T16:09:42.282942066Z"
    },
    "collapsed": false
   },
   "outputs": [],
   "source": [
    "from sklearn.neighbors import KNeighborsClassifier\n",
    "\n",
    "knn = KNeighborsClassifier()\n",
    "param_grid_knn = {\n",
    "    'n_neighbors': [3, 5, 7, 9, 11],\n",
    "    'weights': ['uniform', 'distance'],\n",
    "    'p': [1, 2],\n",
    "    'metric': ['euclidean', 'manhattan']\n",
    "}"
   ]
  },
  {
   "cell_type": "markdown",
   "id": "86badbcf69bb64fc",
   "metadata": {
    "collapsed": false
   },
   "source": [
    "### Ensembles"
   ]
  },
  {
   "cell_type": "code",
   "execution_count": 138,
   "id": "484cceb9f73452f8",
   "metadata": {
    "ExecuteTime": {
     "end_time": "2023-11-30T16:09:42.333327673Z",
     "start_time": "2023-11-30T16:09:42.283105942Z"
    },
    "collapsed": false
   },
   "outputs": [],
   "source": [
    "from sklearn.ensemble import BaggingClassifier\n",
    "\n",
    "bagging = BaggingClassifier(random_state=42)\n",
    "bagging_param_grid = {\n",
    "    'n_estimators': [10, 20, 50, 100],\n",
    "    'max_samples': [0.5, 0.75, 1.0],\n",
    "    'bootstrap': [True, False],\n",
    "    'bootstrap_features': [True, False],\n",
    "}"
   ]
  },
  {
   "cell_type": "code",
   "execution_count": 139,
   "id": "66303a3b67718b2c",
   "metadata": {
    "ExecuteTime": {
     "end_time": "2023-11-30T16:09:42.333551493Z",
     "start_time": "2023-11-30T16:09:42.283278580Z"
    },
    "collapsed": false
   },
   "outputs": [],
   "source": [
    "from sklearn.ensemble import AdaBoostClassifier\n",
    "\n",
    "ada_boost = AdaBoostClassifier()\n",
    "ada_boost_param_grid = {\n",
    "    'n_estimators': [10, 20, 50, 100, 200, 500],\n",
    "    'learning_rate': [0.1, 0.5, 1.0],\n",
    "    'algorithm': ['SAMME', 'SAMME.R'],\n",
    "}"
   ]
  },
  {
   "cell_type": "code",
   "execution_count": 140,
   "id": "1b35e6a4279c48a3",
   "metadata": {
    "ExecuteTime": {
     "end_time": "2023-11-30T16:09:42.333813346Z",
     "start_time": "2023-11-30T16:09:42.285064758Z"
    },
    "collapsed": false
   },
   "outputs": [],
   "source": [
    "from sklearn.ensemble import GradientBoostingClassifier\n",
    "\n",
    "gradient_boosting = GradientBoostingClassifier(random_state=42)\n",
    "gradient_boosting_param_grid = {\n",
    "    'n_estimators': [10, 20, 50, 100, 200, 500],\n",
    "    'learning_rate': [0.01, 0.1, 0.5, 1.0],\n",
    "    'max_depth': [3, 5, 10],\n",
    "    'min_samples_split': [2, 5, 10],\n",
    "    'min_samples_leaf': [1, 2, 5],\n",
    "    'subsample': [0.5, 0.75, 1.0],\n",
    "    'loss': ['deviance', 'exponential'],\n",
    "}"
   ]
  },
  {
   "cell_type": "code",
   "execution_count": 141,
   "id": "5bec62e7258755ec",
   "metadata": {
    "ExecuteTime": {
     "end_time": "2023-11-30T16:09:42.346007549Z",
     "start_time": "2023-11-30T16:09:42.294609813Z"
    },
    "collapsed": false
   },
   "outputs": [],
   "source": [
    "from sklearn.ensemble import RandomForestClassifier\n",
    "\n",
    "random_forest = RandomForestClassifier()\n",
    "random_forest_param_grid = {\n",
    "    'n_estimators': [50, 100, 200],\n",
    "    'max_depth': [None, 5, 10],\n",
    "    'min_samples_split': [2, 5],\n",
    "    'min_samples_leaf': [1, 2],\n",
    "    'bootstrap': [True],\n",
    "    'max_features': ['auto', 'sqrt'],\n",
    "    'criterion': ['gini', 'entropy'],\n",
    "}"
   ]
  },
  {
   "cell_type": "markdown",
   "metadata": {},
   "source": [
    "### Voting"
   ]
  },
  {
   "cell_type": "code",
   "execution_count": 142,
   "metadata": {},
   "outputs": [],
   "source": [
    "from sklearn.ensemble import VotingClassifier\n",
    "\n",
    "voting_clf = VotingClassifier(estimators=[\n",
    "    ('mlp', mlp),\n",
    "    ('svm', svm),\n",
    "], voting='soft')"
   ]
  },
  {
   "cell_type": "markdown",
   "id": "8f7e27237fbcb0a9",
   "metadata": {
    "collapsed": false
   },
   "source": [
    "## Classification"
   ]
  },
  {
   "cell_type": "code",
   "execution_count": 143,
   "id": "6347fe7bc7c37852",
   "metadata": {
    "ExecuteTime": {
     "end_time": "2023-11-30T16:09:42.346378575Z",
     "start_time": "2023-11-30T16:09:42.338026857Z"
    },
    "collapsed": false
   },
   "outputs": [],
   "source": [
    "classifier = gradient_boosting\n",
    "param_grid = random_forest_param_grid\n",
    "target = 'playoff'"
   ]
  },
  {
   "cell_type": "code",
   "execution_count": 144,
   "id": "aa351809c6f83496",
   "metadata": {
    "ExecuteTime": {
     "end_time": "2023-11-30T16:09:48.362412918Z",
     "start_time": "2023-11-30T16:09:42.338264023Z"
    },
    "collapsed": false
   },
   "outputs": [
    {
     "name": "stdout",
     "output_type": "stream",
     "text": [
      "---------------------- YEAR 3 ----------------------\n",
      "AUC: 56.25%\n",
      "Accuracy: 50.0%\n",
      "Precision: 50.0%\n",
      "Recall: 50.0%\n",
      "F1: 50.0%\n",
      "---------------------- YEAR 4 ----------------------\n",
      "AUC: 51.43%\n",
      "Accuracy: 41.67%\n",
      "Precision: 50.0%\n",
      "Recall: 57.14%\n",
      "F1: 53.33%\n",
      "---------------------- YEAR 5 ----------------------\n"
     ]
    },
    {
     "name": "stdout",
     "output_type": "stream",
     "text": [
      "AUC: 52.5%\n",
      "Accuracy: 38.46%\n",
      "Precision: 50.0%\n",
      "Recall: 50.0%\n",
      "F1: 50.0%\n",
      "---------------------- YEAR 6 ----------------------\n",
      "AUC: 72.5%\n",
      "Accuracy: 84.62%\n",
      "Precision: 87.5%\n",
      "Recall: 87.5%\n",
      "F1: 87.5%\n",
      "---------------------- YEAR 7 ----------------------\n",
      "AUC: 82.5%\n",
      "Accuracy: 84.62%\n",
      "Precision: 87.5%\n",
      "Recall: 87.5%\n",
      "F1: 87.5%\n",
      "---------------------- YEAR 8 ----------------------\n",
      "AUC: 62.5%\n",
      "Accuracy: 69.23%\n",
      "Precision: 75.0%\n",
      "Recall: 75.0%\n",
      "F1: 75.0%\n",
      "---------------------- YEAR 9 ----------------------\n",
      "AUC: 85.0%\n",
      "Accuracy: 69.23%\n",
      "Precision: 75.0%\n",
      "Recall: 75.0%\n",
      "F1: 75.0%\n",
      "---------------------- YEAR 10 ----------------------\n"
     ]
    },
    {
     "data": {
      "image/png": "[encoded data removed]",
      "text/plain": [
       "<Figure size 640x480 with 2 Axes>"
      ]
     },
     "metadata": {},
     "output_type": "display_data"
    },
    {
     "data": {
      "image/png": "[encoded data removed]",
      "text/plain": [
       "<Figure size 640x480 with 1 Axes>"
      ]
     },
     "metadata": {},
     "output_type": "display_data"
    },
    {
     "name": "stdout",
     "output_type": "stream",
     "text": [
      "AUC: 97.5%\n",
      "Accuracy: 100.0%\n",
      "Precision: 100.0%\n",
      "Recall: 100.0%\n",
      "F1: 100.0%\n"
     ]
    },
    {
     "data": {
      "image/png": "[encoded data removed]",
      "text/plain": [
       "<Figure size 640x480 with 1 Axes>"
      ]
     },
     "metadata": {},
     "output_type": "display_data"
    }
   ],
   "source": [
    "years = []\n",
    "train_scores = []\n",
    "test_scores = []\n",
    "\n",
    "for year in df['year'].unique():\n",
    "    if year < 3:\n",
    "        continue\n",
    "\n",
    "    print(f\"---------------------- YEAR {year} ----------------------\")\n",
    "\n",
    "    class_utils.train_model_simple(classifier, df, year, target)\n",
    "    #class_utils.train_model_hyper_tunning(classifier, df, year, target, param_grid)\n",
    "\n",
    "    y_test, y_test_prob, conf_test, y_train, y_train_prob, conf_train = class_utils.test_model(classifier, df, year,\n",
    "                                                                                               target)\n",
    "\n",
    "    y_test_pred = class_utils.enforce_max_teams(y_test_prob, conf_test)\n",
    "    y_train_pred = class_utils.enforce_max_teams(y_train_prob, conf_train)\n",
    "\n",
    "    eval.model_score(y_test, y_test_pred, y_test_prob, year == 10)\n",
    "\n",
    "    years.append(year)\n",
    "    test_scores.append(accuracy_score(y_test, y_test_pred))\n",
    "    train_scores.append(accuracy_score(y_train, y_train_pred))\n",
    "\n",
    "eval.plot_learning_curve(years, train_scores, test_scores)"
   ]
  }
 ],
 "metadata": {
  "kernelspec": {
   "display_name": "Python 3",
   "language": "python",
   "name": "python3"
  },
  "language_info": {
   "codemirror_mode": {
    "name": "ipython",
    "version": 3
   },
   "file_extension": ".py",
   "mimetype": "text/x-python",
   "name": "python",
   "nbconvert_exporter": "python",
   "pygments_lexer": "ipython3",
   "version": "3.10.12"
  }
 },
 "nbformat": 4,
 "nbformat_minor": 5
}
