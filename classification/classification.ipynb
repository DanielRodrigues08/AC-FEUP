{
 "cells": [
  {
   "cell_type": "markdown",
   "id": "2ed40a56baf647a8",
   "metadata": {
    "collapsed": false
   },
   "source": [
    "# Classification\n"
   ]
  },
  {
   "cell_type": "code",
   "execution_count": 135,
   "id": "30f83a10a7c945af",
   "metadata": {
    "ExecuteTime": {
     "start_time": "2023-12-06T13:19:19.928261423Z"
    },
    "collapsed": false
   },
   "outputs": [
    {
     "data": {
      "text/html": [
       "<div>\n",
       "<style scoped>\n",
       "    .dataframe tbody tr th:only-of-type {\n",
       "        vertical-align: middle;\n",
       "    }\n",
       "\n",
       "    .dataframe tbody tr th {\n",
       "        vertical-align: top;\n",
       "    }\n",
       "\n",
       "    .dataframe thead th {\n",
       "        text-align: right;\n",
       "    }\n",
       "</style>\n",
       "<table border=\"1\" class=\"dataframe\">\n",
       "  <thead>\n",
       "    <tr style=\"text-align: right;\">\n",
       "      <th></th>\n",
       "      <th>PC1</th>\n",
       "      <th>PC2</th>\n",
       "      <th>PC3</th>\n",
       "      <th>PC4</th>\n",
       "      <th>PC5</th>\n",
       "      <th>PC6</th>\n",
       "      <th>confID</th>\n",
       "      <th>year</th>\n",
       "      <th>playoff</th>\n",
       "      <th>tmID</th>\n",
       "    </tr>\n",
       "  </thead>\n",
       "  <tbody>\n",
       "    <tr>\n",
       "      <th>0</th>\n",
       "      <td>-4.085575</td>\n",
       "      <td>-1.818250</td>\n",
       "      <td>0.129347</td>\n",
       "      <td>0.879434</td>\n",
       "      <td>0.060381</td>\n",
       "      <td>-0.214142</td>\n",
       "      <td>0</td>\n",
       "      <td>2</td>\n",
       "      <td>1</td>\n",
       "      <td>CHA</td>\n",
       "    </tr>\n",
       "    <tr>\n",
       "      <th>1</th>\n",
       "      <td>1.660443</td>\n",
       "      <td>-0.661073</td>\n",
       "      <td>1.006314</td>\n",
       "      <td>-0.415133</td>\n",
       "      <td>0.438780</td>\n",
       "      <td>0.827985</td>\n",
       "      <td>0</td>\n",
       "      <td>2</td>\n",
       "      <td>1</td>\n",
       "      <td>CLE</td>\n",
       "    </tr>\n",
       "    <tr>\n",
       "      <th>2</th>\n",
       "      <td>-2.237452</td>\n",
       "      <td>1.749396</td>\n",
       "      <td>0.709607</td>\n",
       "      <td>0.131732</td>\n",
       "      <td>-1.009368</td>\n",
       "      <td>0.336454</td>\n",
       "      <td>0</td>\n",
       "      <td>2</td>\n",
       "      <td>0</td>\n",
       "      <td>DET</td>\n",
       "    </tr>\n",
       "    <tr>\n",
       "      <th>3</th>\n",
       "      <td>5.677821</td>\n",
       "      <td>1.129187</td>\n",
       "      <td>1.183131</td>\n",
       "      <td>0.624928</td>\n",
       "      <td>-0.362357</td>\n",
       "      <td>-1.218214</td>\n",
       "      <td>1</td>\n",
       "      <td>2</td>\n",
       "      <td>1</td>\n",
       "      <td>HOU</td>\n",
       "    </tr>\n",
       "    <tr>\n",
       "      <th>4</th>\n",
       "      <td>-3.569555</td>\n",
       "      <td>1.049719</td>\n",
       "      <td>0.269536</td>\n",
       "      <td>1.136542</td>\n",
       "      <td>-0.946227</td>\n",
       "      <td>0.508093</td>\n",
       "      <td>0</td>\n",
       "      <td>2</td>\n",
       "      <td>0</td>\n",
       "      <td>IND</td>\n",
       "    </tr>\n",
       "  </tbody>\n",
       "</table>\n",
       "</div>"
      ],
      "text/plain": [
       "        PC1       PC2       PC3       PC4       PC5       PC6  confID  year  \\\n",
       "0 -4.085575 -1.818250  0.129347  0.879434  0.060381 -0.214142       0     2   \n",
       "1  1.660443 -0.661073  1.006314 -0.415133  0.438780  0.827985       0     2   \n",
       "2 -2.237452  1.749396  0.709607  0.131732 -1.009368  0.336454       0     2   \n",
       "3  5.677821  1.129187  1.183131  0.624928 -0.362357 -1.218214       1     2   \n",
       "4 -3.569555  1.049719  0.269536  1.136542 -0.946227  0.508093       0     2   \n",
       "\n",
       "   playoff tmID  \n",
       "0        1  CHA  \n",
       "1        1  CLE  \n",
       "2        0  DET  \n",
       "3        1  HOU  \n",
       "4        0  IND  "
      ]
     },
     "execution_count": 135,
     "metadata": {},
     "output_type": "execute_result"
    }
   ],
   "source": [
    "import pandas as pd\n",
    "from sklearn.metrics import accuracy_score\n",
    "\n",
    "import evaluation as eval\n",
    "import classification_utils as class_utils\n",
    "import copy\n",
    "\n",
    "target = \"playoff\"\n",
    "\n",
    "df = pd.read_csv(\"../data/transformed.csv\")\n",
    "df.head()"
   ]
  },
  {
   "cell_type": "markdown",
   "id": "f63e73a7341ce9a2",
   "metadata": {
    "collapsed": false
   },
   "source": [
    "## Algorithms and Param Grids\n"
   ]
  },
  {
   "cell_type": "code",
   "execution_count": 136,
   "id": "1917538c",
   "metadata": {},
   "outputs": [],
   "source": [
    "random_state = 42"
   ]
  },
  {
   "cell_type": "code",
   "execution_count": 137,
   "id": "319e9fdb9641dfc9",
   "metadata": {
    "ExecuteTime": {
     "start_time": "2023-12-06T13:19:19.941347386Z"
    },
    "collapsed": false
   },
   "outputs": [],
   "source": [
    "from sklearn.tree import DecisionTreeClassifier\n",
    "\n",
    "dtc = DecisionTreeClassifier(random_state=random_state)\n",
    "dtc_param_grid = {\n",
    "    \"criterion\": [\"gini\", \"entropy\"],\n",
    "    \"max_depth\": [10, 20, 30, 40, 50],\n",
    "    \"min_samples_split\": [2, 5, 10],\n",
    "    \"min_samples_leaf\": [1, 2, 4],\n",
    "    \"max_features\": [\"auto\", \"sqrt\", \"log2\"],\n",
    "}"
   ]
  },
  {
   "cell_type": "code",
   "execution_count": 138,
   "id": "2cfdf50fd8988105",
   "metadata": {
    "ExecuteTime": {
     "start_time": "2023-12-06T13:19:19.941432836Z"
    },
    "collapsed": false
   },
   "outputs": [],
   "source": [
    "from sklearn.neural_network import MLPClassifier\n",
    "\n",
    "mlp = MLPClassifier(batch_size=8, max_iter=10000, random_state=random_state)\n",
    "mlp_param_grid = {\n",
    "    \"hidden_layer_sizes\": [(50, 50, 50), (50, 100, 50), (100,)],\n",
    "    \"activation\": [\"tanh\", \"relu\"],\n",
    "    \"solver\": [\"sgd\", \"adam\"],\n",
    "    \"alpha\": [0.0001, 0.05],\n",
    "    \"learning_rate\": [\"constant\", \"adaptive\"],\n",
    "}"
   ]
  },
  {
   "cell_type": "code",
   "execution_count": 139,
   "id": "5e3f99f5329c6c37",
   "metadata": {
    "ExecuteTime": {
     "start_time": "2023-12-06T13:19:19.941480248Z"
    },
    "collapsed": false
   },
   "outputs": [],
   "source": [
    "from sklearn.svm import SVC\n",
    "\n",
    "svm = SVC(probability=True, random_state=random_state)\n",
    "param_grid = {\n",
    "    \"C\": [0.1, 1, 10, 100],  # Regularization parameter\n",
    "    \"gamma\": [\"scale\", \"auto\"],  # Kernel coefficient ('scale' and 'auto' options)\n",
    "    \"kernel\": [\n",
    "        \"linear\",\n",
    "        \"rbf\",\n",
    "        \"poly\",\n",
    "    ],  # Kernel type: linear, radial basis function (RBF), polynomial\n",
    "    \"degree\": [2, 3, 4],  # Degree of the polynomial kernel (if 'kernel' is 'poly')\n",
    "    \"coef0\": [\n",
    "        0.0,\n",
    "        0.1,\n",
    "        0.5,\n",
    "    ],  # Independent term in the polynomial kernel equation (if 'kernel' is 'poly')\n",
    "}"
   ]
  },
  {
   "cell_type": "code",
   "execution_count": 140,
   "id": "78f1a6c4aed01f1b",
   "metadata": {
    "ExecuteTime": {
     "start_time": "2023-12-06T13:19:19.941521315Z"
    },
    "collapsed": false
   },
   "outputs": [],
   "source": [
    "from sklearn.neighbors import KNeighborsClassifier\n",
    "\n",
    "knn = KNeighborsClassifier()\n",
    "param_grid_knn = {\n",
    "    \"n_neighbors\": [3, 5, 7, 9, 11],\n",
    "    \"weights\": [\"uniform\", \"distance\"],\n",
    "    \"p\": [1, 2],\n",
    "    \"metric\": [\"euclidean\", \"manhattan\"],\n",
    "}"
   ]
  },
  {
   "cell_type": "code",
   "execution_count": 141,
   "id": "084f4bd5",
   "metadata": {},
   "outputs": [],
   "source": [
    "from sklearn.linear_model import LogisticRegression\n",
    "\n",
    "lg = LogisticRegression(random_state=random_state)"
   ]
  },
  {
   "cell_type": "code",
   "execution_count": 142,
   "id": "1029c3ee",
   "metadata": {},
   "outputs": [],
   "source": [
    "from sklearn.naive_bayes import GaussianNB\n",
    "\n",
    "nb = GaussianNB()"
   ]
  },
  {
   "cell_type": "markdown",
   "id": "86badbcf69bb64fc",
   "metadata": {
    "collapsed": false
   },
   "source": [
    "### Ensembles\n"
   ]
  },
  {
   "cell_type": "code",
   "execution_count": 143,
   "id": "484cceb9f73452f8",
   "metadata": {
    "ExecuteTime": {
     "start_time": "2023-12-06T13:19:19.941562787Z"
    },
    "collapsed": false
   },
   "outputs": [],
   "source": [
    "from sklearn.ensemble import BaggingClassifier\n",
    "\n",
    "bagging = BaggingClassifier(random_state=random_state)\n",
    "bagging_param_grid = {\n",
    "    \"n_estimators\": [10, 20, 50, 100],\n",
    "    \"max_samples\": [0.5, 0.75, 1.0],\n",
    "    \"bootstrap\": [True, False],\n",
    "    \"bootstrap_features\": [True, False],\n",
    "}"
   ]
  },
  {
   "cell_type": "code",
   "execution_count": 144,
   "id": "66303a3b67718b2c",
   "metadata": {
    "ExecuteTime": {
     "start_time": "2023-12-06T13:19:19.941598616Z"
    },
    "collapsed": false
   },
   "outputs": [],
   "source": [
    "from sklearn.ensemble import AdaBoostClassifier\n",
    "\n",
    "ada_boost = AdaBoostClassifier(random_state=random_state)\n",
    "ada_boost_param_grid = {\n",
    "    \"n_estimators\": [10, 20, 50, 100, 200, 500],\n",
    "    \"learning_rate\": [0.1, 0.5, 1.0],\n",
    "    \"algorithm\": [\"SAMME\", \"SAMME.R\"],\n",
    "}"
   ]
  },
  {
   "cell_type": "code",
   "execution_count": 145,
   "id": "1b35e6a4279c48a3",
   "metadata": {
    "ExecuteTime": {
     "start_time": "2023-12-06T13:19:19.941753067Z"
    },
    "collapsed": false
   },
   "outputs": [],
   "source": [
    "from sklearn.ensemble import GradientBoostingClassifier\n",
    "\n",
    "gradient_boosting = GradientBoostingClassifier(random_state=random_state)\n",
    "gradient_boosting_param_grid = {\n",
    "    \"n_estimators\": [10, 20, 50, 100, 200, 500],\n",
    "    \"learning_rate\": [0.01, 0.1, 0.5, 1.0],\n",
    "    \"max_depth\": [3, 5, 10],\n",
    "    \"min_samples_split\": [2, 5, 10],\n",
    "    \"min_samples_leaf\": [1, 2, 5],\n",
    "    \"subsample\": [0.5, 0.75, 1.0],\n",
    "    \"loss\": [\"deviance\", \"exponential\"],\n",
    "}"
   ]
  },
  {
   "cell_type": "code",
   "execution_count": 146,
   "id": "5bec62e7258755ec",
   "metadata": {
    "ExecuteTime": {
     "start_time": "2023-12-06T13:19:19.941822754Z"
    },
    "collapsed": false
   },
   "outputs": [],
   "source": [
    "from sklearn.ensemble import RandomForestClassifier\n",
    "\n",
    "random_forest = RandomForestClassifier(random_state=random_state)\n",
    "random_forest_param_grid = {\n",
    "    \"n_estimators\": [50, 100, 200],\n",
    "    \"max_depth\": [None, 5, 10],\n",
    "    \"min_samples_split\": [2, 5],\n",
    "    \"min_samples_leaf\": [1, 2],\n",
    "    \"bootstrap\": [True],\n",
    "    \"max_features\": [\"auto\", \"sqrt\"],\n",
    "    \"criterion\": [\"gini\", \"entropy\"],\n",
    "}"
   ]
  },
  {
   "cell_type": "code",
   "execution_count": 147,
   "id": "d222a320",
   "metadata": {},
   "outputs": [],
   "source": [
    "from sklearn.ensemble import ExtraTreesClassifier\n",
    "\n",
    "extra_trees = ExtraTreesClassifier(random_state=random_state)"
   ]
  },
  {
   "cell_type": "markdown",
   "id": "2b15fe55cc184f6e",
   "metadata": {},
   "source": [
    "### Ensemble - Manual\n"
   ]
  },
  {
   "cell_type": "code",
   "execution_count": 148,
   "id": "9077209d18ff1df",
   "metadata": {
    "ExecuteTime": {
     "start_time": "2023-12-06T13:19:19.941893967Z"
    }
   },
   "outputs": [],
   "source": [
    "from manual_ensemble import ManualEnsemble\n",
    "import os\n",
    "\n",
    "file_to_model = {\n",
    "    \"AdaBoost\": ada_boost,\n",
    "    \"Bagging\": bagging,\n",
    "    \"DTC\": dtc,\n",
    "    \"GradientBoosting\": gradient_boosting,\n",
    "    \"knn\": knn,\n",
    "    \"LogisticRegression\": lg,\n",
    "    \"MLP\": mlp,\n",
    "    \"NB\": nb,\n",
    "    \"RFC\": random_forest,\n",
    "    \"svm\": svm,\n",
    "    \"ExtraTrees\": extra_trees,\n",
    "}\n",
    "\n",
    "classifiers_df = []\n",
    "\n",
    "for file_name in os.listdir(\"../data/transformed\"):\n",
    "    classifiers_df.append(\n",
    "        (\n",
    "            file_to_model[file_name.split(\".csv\")[0]],\n",
    "            pd.read_csv(\"../data/transformed/\" + file_name),\n",
    "        )\n",
    "    )\n",
    "\n",
    "manual_ensemble = ManualEnsemble(classifiers_df, \"playoff\")"
   ]
  },
  {
   "cell_type": "markdown",
   "id": "8f7e27237fbcb0a9",
   "metadata": {
    "collapsed": false
   },
   "source": [
    "## Classification\n"
   ]
  },
  {
   "cell_type": "code",
   "execution_count": 149,
   "id": "6347fe7bc7c37852",
   "metadata": {
    "ExecuteTime": {
     "start_time": "2023-12-06T13:19:19.941970300Z"
    },
    "collapsed": false
   },
   "outputs": [],
   "source": [
    "classifier = manual_ensemble\n",
    "param_grid = mlp_param_grid"
   ]
  },
  {
   "cell_type": "code",
   "execution_count": 150,
   "id": "aa351809c6f83496",
   "metadata": {
    "ExecuteTime": {
     "start_time": "2023-12-06T13:19:19.942048038Z"
    },
    "collapsed": false
   },
   "outputs": [
    {
     "name": "stdout",
     "output_type": "stream",
     "text": [
      "---------------------- YEAR 3 ----------------------\n"
     ]
    },
    {
     "name": "stdout",
     "output_type": "stream",
     "text": [
      "AUC: 50.0%\n",
      "Accuracy: 50.0%\n",
      "Precision: 50.0%\n",
      "Recall: 50.0%\n",
      "F1: 50.0%\n",
      "---------------------- YEAR 4 ----------------------\n",
      "AUC: 42.86%\n",
      "Accuracy: 41.67%\n",
      "Precision: 50.0%\n",
      "Recall: 57.14%\n",
      "F1: 53.33%\n",
      "---------------------- YEAR 5 ----------------------\n",
      "AUC: 55.0%\n",
      "Accuracy: 69.23%\n",
      "Precision: 75.0%\n",
      "Recall: 75.0%\n",
      "F1: 75.0%\n",
      "---------------------- YEAR 6 ----------------------\n",
      "AUC: 67.5%\n",
      "Accuracy: 69.23%\n",
      "Precision: 75.0%\n",
      "Recall: 75.0%\n",
      "F1: 75.0%\n",
      "---------------------- YEAR 7 ----------------------\n",
      "AUC: 90.0%\n",
      "Accuracy: 84.62%\n",
      "Precision: 87.5%\n",
      "Recall: 87.5%\n",
      "F1: 87.5%\n",
      "---------------------- YEAR 8 ----------------------\n",
      "AUC: 77.5%\n",
      "Accuracy: 69.23%\n",
      "Precision: 75.0%\n",
      "Recall: 75.0%\n",
      "F1: 75.0%\n",
      "---------------------- YEAR 9 ----------------------\n",
      "AUC: 77.5%\n",
      "Accuracy: 84.62%\n",
      "Precision: 87.5%\n",
      "Recall: 87.5%\n",
      "F1: 87.5%\n",
      "---------------------- YEAR 10 ----------------------\n"
     ]
    },
    {
     "data": {
      "image/png": "[encoded data removed]",
      "text/plain": [
       "<Figure size 640x480 with 2 Axes>"
      ]
     },
     "metadata": {},
     "output_type": "display_data"
    },
    {
     "data": {
      "image/png": "[encoded data removed]",
      "text/plain": [
       "<Figure size 640x480 with 1 Axes>"
      ]
     },
     "metadata": {},
     "output_type": "display_data"
    },
    {
     "name": "stdout",
     "output_type": "stream",
     "text": [
      "AUC: 90.0%\n",
      "Accuracy: 84.62%\n",
      "Precision: 87.5%\n",
      "Recall: 87.5%\n",
      "F1: 87.5%\n"
     ]
    },
    {
     "data": {
      "image/png": "[encoded data removed]",
      "text/plain": [
       "<Figure size 640x480 with 1 Axes>"
      ]
     },
     "metadata": {},
     "output_type": "display_data"
    }
   ],
   "source": [
    "years = []\n",
    "train_scores = []\n",
    "test_scores = []\n",
    "\n",
    "for year in df[\"year\"].unique():\n",
    "    if year < 3 or year > 10:\n",
    "        continue\n",
    "\n",
    "    print(f\"---------------------- YEAR {year} ----------------------\")\n",
    "\n",
    "    classifier = copy.deepcopy(classifier)  # Reset classifier.\n",
    "    result = ()\n",
    "    if isinstance(classifier, ManualEnsemble):\n",
    "        classifier.train(year)\n",
    "        result = classifier.test(year)\n",
    "    else:\n",
    "        class_utils.train_model_simple(classifier, df, year, target)\n",
    "        result = class_utils.test_model(classifier, df, year, target)\n",
    "\n",
    "    (\n",
    "        y_test_gt,\n",
    "        y_test_prob,\n",
    "        conf_test,\n",
    "        y_train_gt,\n",
    "        y_train_prob,\n",
    "        conf_train,\n",
    "    ) = result\n",
    "\n",
    "    y_test_pred = class_utils.enforce_max_teams(y_test_prob, conf_test)\n",
    "    y_train_pred = class_utils.enforce_max_teams(y_train_prob, conf_train)\n",
    "\n",
    "    eval.model_score(y_test_gt, y_test_pred, y_test_prob, year == 10)\n",
    "\n",
    "    years.append(year)\n",
    "    test_scores.append(accuracy_score(y_test_gt, y_test_pred))\n",
    "    train_scores.append(accuracy_score(y_train_gt, y_train_pred))\n",
    "\n",
    "eval.plot_learning_curve(years, train_scores, test_scores)"
   ]
  },
  {
   "cell_type": "code",
   "execution_count": 152,
   "id": "516ef83f3c50d35c",
   "metadata": {
    "ExecuteTime": {
     "start_time": "2023-12-06T13:19:19.942675469Z"
    }
   },
   "outputs": [
    {
     "name": "stdout",
     "output_type": "stream",
     "text": [
      "[1, 0, 1, 1, 1, 1, 1, 1, 0, 1, 0, 0]\n"
     ]
    },
    {
     "ename": "ValueError",
     "evalue": "array length 12 does not match index length 122",
     "output_type": "error",
     "traceback": [
      "\u001b[0;31m---------------------------------------------------------------------------\u001b[0m",
      "\u001b[0;31mValueError\u001b[0m                                Traceback (most recent call last)",
      "\u001b[1;32m/Users/miguelcfsilva/repos/AC/classification/classification.ipynb Cell 22\u001b[0m line \u001b[0;36m1\n\u001b[1;32m     <a href='vscode-notebook-cell:/Users/miguelcfsilva/repos/AC/classification/classification.ipynb#Y153sZmlsZQ%3D%3D?line=15'>16</a>\u001b[0m y_test_pred \u001b[39m=\u001b[39m class_utils\u001b[39m.\u001b[39menforce_max_teams(y_test_prob, conf_test)\n\u001b[1;32m     <a href='vscode-notebook-cell:/Users/miguelcfsilva/repos/AC/classification/classification.ipynb#Y153sZmlsZQ%3D%3D?line=16'>17</a>\u001b[0m y_train_pred \u001b[39m=\u001b[39m class_utils\u001b[39m.\u001b[39menforce_max_teams(y_train_prob, conf_train)\n\u001b[0;32m---> <a href='vscode-notebook-cell:/Users/miguelcfsilva/repos/AC/classification/classification.ipynb#Y153sZmlsZQ%3D%3D?line=18'>19</a>\u001b[0m result \u001b[39m=\u001b[39m pd\u001b[39m.\u001b[39;49mDataFrame({\u001b[39m\"\u001b[39;49m\u001b[39mID\u001b[39;49m\u001b[39m\"\u001b[39;49m: x_test_tmID, \u001b[39m\"\u001b[39;49m\u001b[39mlabel\u001b[39;49m\u001b[39m\"\u001b[39;49m: y_test_pred})\n\u001b[1;32m     <a href='vscode-notebook-cell:/Users/miguelcfsilva/repos/AC/classification/classification.ipynb#Y153sZmlsZQ%3D%3D?line=19'>20</a>\u001b[0m mapping \u001b[39m=\u001b[39m {\u001b[39m0\u001b[39m: \u001b[39m\"\u001b[39m\u001b[39mN\u001b[39m\u001b[39m\"\u001b[39m, \u001b[39m1\u001b[39m: \u001b[39m\"\u001b[39m\u001b[39mY\u001b[39m\u001b[39m\"\u001b[39m}\n\u001b[1;32m     <a href='vscode-notebook-cell:/Users/miguelcfsilva/repos/AC/classification/classification.ipynb#Y153sZmlsZQ%3D%3D?line=20'>21</a>\u001b[0m result[\u001b[39m\"\u001b[39m\u001b[39mlabel\u001b[39m\u001b[39m\"\u001b[39m] \u001b[39m=\u001b[39m result[\u001b[39m\"\u001b[39m\u001b[39mlabel\u001b[39m\u001b[39m\"\u001b[39m]\u001b[39m.\u001b[39mmap(mapping)\n",
      "File \u001b[0;32m/opt/homebrew/lib/python3.10/site-packages/pandas/core/frame.py:664\u001b[0m, in \u001b[0;36mDataFrame.__init__\u001b[0;34m(self, data, index, columns, dtype, copy)\u001b[0m\n\u001b[1;32m    658\u001b[0m     mgr \u001b[39m=\u001b[39m \u001b[39mself\u001b[39m\u001b[39m.\u001b[39m_init_mgr(\n\u001b[1;32m    659\u001b[0m         data, axes\u001b[39m=\u001b[39m{\u001b[39m\"\u001b[39m\u001b[39mindex\u001b[39m\u001b[39m\"\u001b[39m: index, \u001b[39m\"\u001b[39m\u001b[39mcolumns\u001b[39m\u001b[39m\"\u001b[39m: columns}, dtype\u001b[39m=\u001b[39mdtype, copy\u001b[39m=\u001b[39mcopy\n\u001b[1;32m    660\u001b[0m     )\n\u001b[1;32m    662\u001b[0m \u001b[39melif\u001b[39;00m \u001b[39misinstance\u001b[39m(data, \u001b[39mdict\u001b[39m):\n\u001b[1;32m    663\u001b[0m     \u001b[39m# GH#38939 de facto copy defaults to False only in non-dict cases\u001b[39;00m\n\u001b[0;32m--> 664\u001b[0m     mgr \u001b[39m=\u001b[39m dict_to_mgr(data, index, columns, dtype\u001b[39m=\u001b[39;49mdtype, copy\u001b[39m=\u001b[39;49mcopy, typ\u001b[39m=\u001b[39;49mmanager)\n\u001b[1;32m    665\u001b[0m \u001b[39melif\u001b[39;00m \u001b[39misinstance\u001b[39m(data, ma\u001b[39m.\u001b[39mMaskedArray):\n\u001b[1;32m    666\u001b[0m     \u001b[39mimport\u001b[39;00m \u001b[39mnumpy\u001b[39;00m\u001b[39m.\u001b[39;00m\u001b[39mma\u001b[39;00m\u001b[39m.\u001b[39;00m\u001b[39mmrecords\u001b[39;00m \u001b[39mas\u001b[39;00m \u001b[39mmrecords\u001b[39;00m\n",
      "File \u001b[0;32m/opt/homebrew/lib/python3.10/site-packages/pandas/core/internals/construction.py:493\u001b[0m, in \u001b[0;36mdict_to_mgr\u001b[0;34m(data, index, columns, dtype, typ, copy)\u001b[0m\n\u001b[1;32m    489\u001b[0m     \u001b[39melse\u001b[39;00m:\n\u001b[1;32m    490\u001b[0m         \u001b[39m# dtype check to exclude e.g. range objects, scalars\u001b[39;00m\n\u001b[1;32m    491\u001b[0m         arrays \u001b[39m=\u001b[39m [x\u001b[39m.\u001b[39mcopy() \u001b[39mif\u001b[39;00m \u001b[39mhasattr\u001b[39m(x, \u001b[39m\"\u001b[39m\u001b[39mdtype\u001b[39m\u001b[39m\"\u001b[39m) \u001b[39melse\u001b[39;00m x \u001b[39mfor\u001b[39;00m x \u001b[39min\u001b[39;00m arrays]\n\u001b[0;32m--> 493\u001b[0m \u001b[39mreturn\u001b[39;00m arrays_to_mgr(arrays, columns, index, dtype\u001b[39m=\u001b[39;49mdtype, typ\u001b[39m=\u001b[39;49mtyp, consolidate\u001b[39m=\u001b[39;49mcopy)\n",
      "File \u001b[0;32m/opt/homebrew/lib/python3.10/site-packages/pandas/core/internals/construction.py:118\u001b[0m, in \u001b[0;36marrays_to_mgr\u001b[0;34m(arrays, columns, index, dtype, verify_integrity, typ, consolidate)\u001b[0m\n\u001b[1;32m    115\u001b[0m \u001b[39mif\u001b[39;00m verify_integrity:\n\u001b[1;32m    116\u001b[0m     \u001b[39m# figure out the index, if necessary\u001b[39;00m\n\u001b[1;32m    117\u001b[0m     \u001b[39mif\u001b[39;00m index \u001b[39mis\u001b[39;00m \u001b[39mNone\u001b[39;00m:\n\u001b[0;32m--> 118\u001b[0m         index \u001b[39m=\u001b[39m _extract_index(arrays)\n\u001b[1;32m    119\u001b[0m     \u001b[39melse\u001b[39;00m:\n\u001b[1;32m    120\u001b[0m         index \u001b[39m=\u001b[39m ensure_index(index)\n",
      "File \u001b[0;32m/opt/homebrew/lib/python3.10/site-packages/pandas/core/internals/construction.py:680\u001b[0m, in \u001b[0;36m_extract_index\u001b[0;34m(data)\u001b[0m\n\u001b[1;32m    675\u001b[0m     \u001b[39mif\u001b[39;00m lengths[\u001b[39m0\u001b[39m] \u001b[39m!=\u001b[39m \u001b[39mlen\u001b[39m(index):\n\u001b[1;32m    676\u001b[0m         msg \u001b[39m=\u001b[39m (\n\u001b[1;32m    677\u001b[0m             \u001b[39mf\u001b[39m\u001b[39m\"\u001b[39m\u001b[39marray length \u001b[39m\u001b[39m{\u001b[39;00mlengths[\u001b[39m0\u001b[39m]\u001b[39m}\u001b[39;00m\u001b[39m does not match index \u001b[39m\u001b[39m\"\u001b[39m\n\u001b[1;32m    678\u001b[0m             \u001b[39mf\u001b[39m\u001b[39m\"\u001b[39m\u001b[39mlength \u001b[39m\u001b[39m{\u001b[39;00m\u001b[39mlen\u001b[39m(index)\u001b[39m}\u001b[39;00m\u001b[39m\"\u001b[39m\n\u001b[1;32m    679\u001b[0m         )\n\u001b[0;32m--> 680\u001b[0m         \u001b[39mraise\u001b[39;00m \u001b[39mValueError\u001b[39;00m(msg)\n\u001b[1;32m    681\u001b[0m \u001b[39melse\u001b[39;00m:\n\u001b[1;32m    682\u001b[0m     index \u001b[39m=\u001b[39m default_index(lengths[\u001b[39m0\u001b[39m])\n",
      "\u001b[0;31mValueError\u001b[0m: array length 12 does not match index length 122"
     ]
    }
   ],
   "source": [
    "if isinstance(classifier, ManualEnsemble):\n",
    "    result = classifier.test(11)\n",
    "else:\n",
    "    result = class_utils.test_model(classifier, df, 11, target)\n",
    "\n",
    "(\n",
    "    y_test_gt,\n",
    "    y_test_prob,\n",
    "    conf_test,\n",
    "    _,\n",
    "    _,\n",
    "    x_test_tmID,\n",
    ") = result\n",
    "\n",
    "print(y_test_pred)\n",
    "y_test_pred = class_utils.enforce_max_teams(y_test_prob, conf_test)\n",
    "y_train_pred = class_utils.enforce_max_teams(y_train_prob, conf_train)\n",
    "\n",
    "result = pd.DataFrame({\"ID\": x_test_tmID, \"label\": y_test_pred})\n",
    "mapping = {0: \"N\", 1: \"Y\"}\n",
    "result[\"label\"] = result[\"label\"].map(mapping)\n",
    "\n",
    "result.to_csv(\"../data/predictions.csv\", index=False)\n",
    "\n",
    "eval.model_score(y_test_gt, y_test_pred, y_test_prob, True)"
   ]
  }
 ],
 "metadata": {
  "kernelspec": {
   "display_name": "Python 3",
   "language": "python",
   "name": "python3"
  },
  "language_info": {
   "codemirror_mode": {
    "name": "ipython",
    "version": 3
   },
   "file_extension": ".py",
   "mimetype": "text/x-python",
   "name": "python",
   "nbconvert_exporter": "python",
   "pygments_lexer": "ipython3",
   "version": "3.10.12"
  }
 },
 "nbformat": 4,
 "nbformat_minor": 5
}
