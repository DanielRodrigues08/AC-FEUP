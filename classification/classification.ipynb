{
 "cells": [
  {
   "cell_type": "markdown",
   "id": "2ed40a56baf647a8",
   "metadata": {
    "collapsed": false
   },
   "source": [
    "# Classification"
   ]
  },
  {
   "cell_type": "code",
   "execution_count": 1,
   "id": "30f83a10a7c945af",
   "metadata": {
    "ExecuteTime": {
     "start_time": "2023-11-23T21:33:03.916285162Z"
    },
    "collapsed": false,
    "is_executing": true
   },
   "outputs": [
    {
     "data": {
      "text/html": [
       "<div>\n",
       "<style scoped>\n",
       "    .dataframe tbody tr th:only-of-type {\n",
       "        vertical-align: middle;\n",
       "    }\n",
       "\n",
       "    .dataframe tbody tr th {\n",
       "        vertical-align: top;\n",
       "    }\n",
       "\n",
       "    .dataframe thead th {\n",
       "        text-align: right;\n",
       "    }\n",
       "</style>\n",
       "<table border=\"1\" class=\"dataframe\">\n",
       "  <thead>\n",
       "    <tr style=\"text-align: right;\">\n",
       "      <th></th>\n",
       "      <th>PC1</th>\n",
       "      <th>PC2</th>\n",
       "      <th>PC3</th>\n",
       "      <th>PC4</th>\n",
       "      <th>PC5</th>\n",
       "      <th>PC6</th>\n",
       "      <th>PC7</th>\n",
       "      <th>PC8</th>\n",
       "      <th>tmID_0</th>\n",
       "      <th>tmID_1</th>\n",
       "      <th>...</th>\n",
       "      <th>coachID_2</th>\n",
       "      <th>coachID_3</th>\n",
       "      <th>coachID_4</th>\n",
       "      <th>coachID_5</th>\n",
       "      <th>confID</th>\n",
       "      <th>year</th>\n",
       "      <th>firstRound</th>\n",
       "      <th>semis</th>\n",
       "      <th>finals</th>\n",
       "      <th>playoff</th>\n",
       "    </tr>\n",
       "  </thead>\n",
       "  <tbody>\n",
       "    <tr>\n",
       "      <th>0</th>\n",
       "      <td>-4.896826</td>\n",
       "      <td>-0.205698</td>\n",
       "      <td>0.245817</td>\n",
       "      <td>-0.425297</td>\n",
       "      <td>1.498902</td>\n",
       "      <td>-0.659682</td>\n",
       "      <td>1.095920</td>\n",
       "      <td>0.928928</td>\n",
       "      <td>0</td>\n",
       "      <td>0</td>\n",
       "      <td>...</td>\n",
       "      <td>0</td>\n",
       "      <td>0</td>\n",
       "      <td>0</td>\n",
       "      <td>1</td>\n",
       "      <td>0</td>\n",
       "      <td>2</td>\n",
       "      <td>0</td>\n",
       "      <td>0</td>\n",
       "      <td>0</td>\n",
       "      <td>1</td>\n",
       "    </tr>\n",
       "    <tr>\n",
       "      <th>1</th>\n",
       "      <td>-0.292612</td>\n",
       "      <td>-2.792343</td>\n",
       "      <td>-0.409905</td>\n",
       "      <td>-2.852970</td>\n",
       "      <td>-2.159184</td>\n",
       "      <td>0.137332</td>\n",
       "      <td>1.345428</td>\n",
       "      <td>0.935805</td>\n",
       "      <td>0</td>\n",
       "      <td>0</td>\n",
       "      <td>...</td>\n",
       "      <td>0</td>\n",
       "      <td>0</td>\n",
       "      <td>1</td>\n",
       "      <td>0</td>\n",
       "      <td>0</td>\n",
       "      <td>2</td>\n",
       "      <td>1</td>\n",
       "      <td>1</td>\n",
       "      <td>0</td>\n",
       "      <td>1</td>\n",
       "    </tr>\n",
       "    <tr>\n",
       "      <th>2</th>\n",
       "      <td>-2.738002</td>\n",
       "      <td>0.012275</td>\n",
       "      <td>3.029083</td>\n",
       "      <td>0.431854</td>\n",
       "      <td>-1.556529</td>\n",
       "      <td>-0.644669</td>\n",
       "      <td>1.107162</td>\n",
       "      <td>-0.942722</td>\n",
       "      <td>0</td>\n",
       "      <td>0</td>\n",
       "      <td>...</td>\n",
       "      <td>0</td>\n",
       "      <td>0</td>\n",
       "      <td>1</td>\n",
       "      <td>1</td>\n",
       "      <td>0</td>\n",
       "      <td>2</td>\n",
       "      <td>0</td>\n",
       "      <td>0</td>\n",
       "      <td>0</td>\n",
       "      <td>0</td>\n",
       "    </tr>\n",
       "    <tr>\n",
       "      <th>3</th>\n",
       "      <td>3.798292</td>\n",
       "      <td>-4.975221</td>\n",
       "      <td>-0.224513</td>\n",
       "      <td>1.064440</td>\n",
       "      <td>-0.931988</td>\n",
       "      <td>-0.669467</td>\n",
       "      <td>1.689273</td>\n",
       "      <td>0.079777</td>\n",
       "      <td>0</td>\n",
       "      <td>0</td>\n",
       "      <td>...</td>\n",
       "      <td>0</td>\n",
       "      <td>1</td>\n",
       "      <td>0</td>\n",
       "      <td>0</td>\n",
       "      <td>1</td>\n",
       "      <td>2</td>\n",
       "      <td>1</td>\n",
       "      <td>1</td>\n",
       "      <td>1</td>\n",
       "      <td>1</td>\n",
       "    </tr>\n",
       "    <tr>\n",
       "      <th>4</th>\n",
       "      <td>-4.243280</td>\n",
       "      <td>-1.207005</td>\n",
       "      <td>-1.181528</td>\n",
       "      <td>1.932216</td>\n",
       "      <td>-1.046707</td>\n",
       "      <td>0.061575</td>\n",
       "      <td>0.586164</td>\n",
       "      <td>0.630250</td>\n",
       "      <td>0</td>\n",
       "      <td>0</td>\n",
       "      <td>...</td>\n",
       "      <td>0</td>\n",
       "      <td>1</td>\n",
       "      <td>0</td>\n",
       "      <td>1</td>\n",
       "      <td>0</td>\n",
       "      <td>2</td>\n",
       "      <td>0</td>\n",
       "      <td>0</td>\n",
       "      <td>0</td>\n",
       "      <td>0</td>\n",
       "    </tr>\n",
       "  </tbody>\n",
       "</table>\n",
       "<p>5 rows × 25 columns</p>\n",
       "</div>"
      ],
      "text/plain": [
       "        PC1       PC2       PC3       PC4       PC5       PC6       PC7  \\\n",
       "0 -4.896826 -0.205698  0.245817 -0.425297  1.498902 -0.659682  1.095920   \n",
       "1 -0.292612 -2.792343 -0.409905 -2.852970 -2.159184  0.137332  1.345428   \n",
       "2 -2.738002  0.012275  3.029083  0.431854 -1.556529 -0.644669  1.107162   \n",
       "3  3.798292 -4.975221 -0.224513  1.064440 -0.931988 -0.669467  1.689273   \n",
       "4 -4.243280 -1.207005 -1.181528  1.932216 -1.046707  0.061575  0.586164   \n",
       "\n",
       "        PC8  tmID_0  tmID_1  ...  coachID_2  coachID_3  coachID_4  coachID_5  \\\n",
       "0  0.928928       0       0  ...          0          0          0          1   \n",
       "1  0.935805       0       0  ...          0          0          1          0   \n",
       "2 -0.942722       0       0  ...          0          0          1          1   \n",
       "3  0.079777       0       0  ...          0          1          0          0   \n",
       "4  0.630250       0       0  ...          0          1          0          1   \n",
       "\n",
       "   confID  year  firstRound  semis  finals  playoff  \n",
       "0       0     2           0      0       0        1  \n",
       "1       0     2           1      1       0        1  \n",
       "2       0     2           0      0       0        0  \n",
       "3       1     2           1      1       1        1  \n",
       "4       0     2           0      0       0        0  \n",
       "\n",
       "[5 rows x 25 columns]"
      ]
     },
     "execution_count": 1,
     "metadata": {},
     "output_type": "execute_result"
    }
   ],
   "source": [
    "import pandas as pd\n",
    "from sklearn.metrics import accuracy_score\n",
    "\n",
    "import evaluation as eval\n",
    "import classification_utils as class_utils\n",
    "\n",
    "df = pd.read_csv('../data/transformed.csv')\n",
    "df.head()"
   ]
  },
  {
   "cell_type": "markdown",
   "id": "f63e73a7341ce9a2",
   "metadata": {
    "collapsed": false
   },
   "source": [
    "## Algorithms and Param Grids"
   ]
  },
  {
   "cell_type": "code",
   "execution_count": 2,
   "id": "319e9fdb9641dfc9",
   "metadata": {
    "ExecuteTime": {
     "start_time": "2023-11-23T21:33:03.978262701Z"
    },
    "collapsed": false,
    "is_executing": true
   },
   "outputs": [],
   "source": [
    "from sklearn.tree import DecisionTreeClassifier\n",
    "\n",
    "dtc = DecisionTreeClassifier()\n",
    "dtc_param_grid = {\n",
    "    'criterion': ['gini', 'entropy'],\n",
    "    'max_depth': [10, 20, 30, 40, 50],\n",
    "    'min_samples_split': [2, 5, 10],\n",
    "    'min_samples_leaf': [1, 2, 4],\n",
    "    'max_features': ['auto', 'sqrt', 'log2'],\n",
    "}"
   ]
  },
  {
   "cell_type": "code",
   "execution_count": 3,
   "id": "2cfdf50fd8988105",
   "metadata": {
    "ExecuteTime": {
     "start_time": "2023-11-23T21:33:03.978525292Z"
    },
    "collapsed": false,
    "is_executing": true
   },
   "outputs": [],
   "source": [
    "from sklearn.neural_network import MLPClassifier\n",
    "\n",
    "mlp = MLPClassifier(batch_size=8, max_iter=10000, random_state=42)\n",
    "mlp_param_grid = {\n",
    "    'hidden_layer_sizes': [(50, 50, 50), (50, 100, 50), (100,)],\n",
    "    'activation': ['tanh', 'relu'],\n",
    "    'solver': ['sgd', 'adam'],\n",
    "    'alpha': [0.0001, 0.05, 0.1, 0.5],\n",
    "    'learning_rate': ['constant', 'adaptive'],\n",
    "}"
   ]
  },
  {
   "cell_type": "code",
   "execution_count": 4,
   "id": "5e3f99f5329c6c37",
   "metadata": {
    "collapsed": false,
    "is_executing": true
   },
   "outputs": [],
   "source": [
    "from sklearn.svm import SVC\n",
    "\n",
    "svm = SVC(probability=True)\n",
    "svm_param_grid = {\n",
    "    'kernel': ['linear'],\n",
    "    'C': [0.001, 0.01, 0.1, 1, 10, 100],\n",
    "}"
   ]
  },
  {
   "cell_type": "code",
   "execution_count": 5,
   "id": "78f1a6c4aed01f1b",
   "metadata": {
    "collapsed": false,
    "is_executing": true
   },
   "outputs": [],
   "source": [
    "from sklearn.neighbors import KNeighborsClassifier\n",
    "\n",
    "knn = KNeighborsClassifier()\n",
    "param_grid_knn = {\n",
    "    'n_neighbors': [3, 5, 7, 9, 11],\n",
    "    'weights': ['uniform', 'distance'],\n",
    "    'p': [1, 2],\n",
    "    'metric': ['euclidean', 'manhattan']\n",
    "}"
   ]
  },
  {
   "cell_type": "markdown",
   "id": "86badbcf69bb64fc",
   "metadata": {
    "collapsed": false
   },
   "source": [
    "### Ensembles"
   ]
  },
  {
   "cell_type": "code",
   "execution_count": 6,
   "id": "484cceb9f73452f8",
   "metadata": {
    "ExecuteTime": {
     "end_time": "2023-11-23T21:33:03.978668146Z",
     "start_time": "2023-11-23T21:33:03.978389094Z"
    },
    "collapsed": false
   },
   "outputs": [],
   "source": [
    "from sklearn.ensemble import BaggingClassifier\n",
    "\n",
    "bagging = BaggingClassifier()\n",
    "bagging_param_grid = {\n",
    "    'n_estimators': [10, 20, 50, 100],\n",
    "    'max_samples': [0.5, 0.75, 1.0],\n",
    "    'bootstrap': [True, False],\n",
    "    'bootstrap_features': [True, False],\n",
    "}"
   ]
  },
  {
   "cell_type": "code",
   "execution_count": 7,
   "id": "66303a3b67718b2c",
   "metadata": {
    "ExecuteTime": {
     "end_time": "2023-11-23T21:33:03.978896723Z",
     "start_time": "2023-11-23T21:33:03.978609773Z"
    },
    "collapsed": false
   },
   "outputs": [],
   "source": [
    "from sklearn.ensemble import AdaBoostClassifier\n",
    "\n",
    "ada_boost = AdaBoostClassifier()\n",
    "ada_boost_param_grid = {\n",
    "    'n_estimators': [10, 20, 50, 100, 200, 500],\n",
    "    'learning_rate': [0.1, 0.5, 1.0],\n",
    "    'algorithm': ['SAMME', 'SAMME.R'],\n",
    "}"
   ]
  },
  {
   "cell_type": "code",
   "execution_count": 8,
   "id": "1b35e6a4279c48a3",
   "metadata": {
    "ExecuteTime": {
     "end_time": "2023-11-23T21:33:03.979590830Z",
     "start_time": "2023-11-23T21:33:03.978764031Z"
    },
    "collapsed": false
   },
   "outputs": [],
   "source": [
    "from sklearn.ensemble import GradientBoostingClassifier\n",
    "\n",
    "gradient_boosting = GradientBoostingClassifier()\n",
    "gradient_boosting_param_grid = {\n",
    "    'n_estimators': [10, 20, 50, 100, 200, 500],\n",
    "    'learning_rate': [0.01, 0.1, 0.5, 1.0],\n",
    "    'max_depth': [3, 5, 10],\n",
    "    'min_samples_split': [2, 5, 10],\n",
    "    'min_samples_leaf': [1, 2, 5],\n",
    "    'subsample': [0.5, 0.75, 1.0],\n",
    "    'loss': ['deviance', 'exponential'],\n",
    "}"
   ]
  },
  {
   "cell_type": "code",
   "execution_count": 9,
   "id": "5bec62e7258755ec",
   "metadata": {
    "ExecuteTime": {
     "end_time": "2023-11-23T21:33:03.979738242Z",
     "start_time": "2023-11-23T21:33:03.978860856Z"
    },
    "collapsed": false
   },
   "outputs": [],
   "source": [
    "from sklearn.ensemble import RandomForestClassifier\n",
    "\n",
    "random_forest = RandomForestClassifier()\n",
    "random_forest_param_grid = {\n",
    "    'n_estimators': [10, 20, 50, 100, 200, 500],\n",
    "    'max_depth': [None, 3, 5, 10],\n",
    "    'min_samples_split': [2, 5, 10],\n",
    "    'min_samples_leaf': [1, 2, 5],\n",
    "    'bootstrap': [True, False],\n",
    "    'max_features': ['auto', 'sqrt', 'log2'],\n",
    "    'criterion': ['gini', 'entropy'],\n",
    "}"
   ]
  },
  {
   "cell_type": "markdown",
   "id": "8f7e27237fbcb0a9",
   "metadata": {
    "collapsed": false
   },
   "source": [
    "## Classification"
   ]
  },
  {
   "cell_type": "code",
   "execution_count": 10,
   "id": "6347fe7bc7c37852",
   "metadata": {
    "ExecuteTime": {
     "end_time": "2023-11-23T21:33:03.980450553Z",
     "start_time": "2023-11-23T21:33:03.978978495Z"
    },
    "collapsed": false
   },
   "outputs": [],
   "source": [
    "classifier = mlp\n",
    "param_grid = mlp_param_grid\n",
    "target = 'playoff'"
   ]
  },
  {
   "cell_type": "code",
   "execution_count": 11,
   "id": "aa351809c6f83496",
   "metadata": {
    "ExecuteTime": {
     "end_time": "2023-11-23T21:33:09.397568580Z",
     "start_time": "2023-11-23T21:33:03.980050152Z"
    },
    "collapsed": false
   },
   "outputs": [
    {
     "name": "stdout",
     "output_type": "stream",
     "text": [
      "---------------------- YEAR 3 ----------------------\n",
      "AUC: 71.88%\n",
      "Accuracy: 75.0%\n",
      "Precision: 75.0%\n",
      "Recall: 75.0%\n",
      "F1: 75.0%\n",
      "---------------------- YEAR 4 ----------------------\n",
      "AUC: 45.71%\n",
      "Accuracy: 41.67%\n",
      "Precision: 50.0%\n",
      "Recall: 57.14%\n",
      "F1: 53.33%\n",
      "---------------------- YEAR 5 ----------------------\n",
      "AUC: 47.5%\n",
      "Accuracy: 53.85%\n",
      "Precision: 62.5%\n",
      "Recall: 62.5%\n",
      "F1: 62.5%\n",
      "---------------------- YEAR 6 ----------------------\n",
      "AUC: 90.0%\n",
      "Accuracy: 84.62%\n",
      "Precision: 87.5%\n",
      "Recall: 87.5%\n",
      "F1: 87.5%\n",
      "---------------------- YEAR 7 ----------------------\n",
      "AUC: 85.0%\n",
      "Accuracy: 84.62%\n",
      "Precision: 87.5%\n",
      "Recall: 87.5%\n",
      "F1: 87.5%\n",
      "---------------------- YEAR 8 ----------------------\n",
      "AUC: 65.0%\n",
      "Accuracy: 53.85%\n",
      "Precision: 62.5%\n",
      "Recall: 62.5%\n",
      "F1: 62.5%\n",
      "---------------------- YEAR 9 ----------------------\n",
      "AUC: 82.5%\n",
      "Accuracy: 84.62%\n",
      "Precision: 87.5%\n",
      "Recall: 87.5%\n",
      "F1: 87.5%\n",
      "---------------------- YEAR 10 ----------------------\n"
     ]
    },
    {
     "data": {
      "image/png": "[encoded data removed]",
      "text/plain": [
       "<Figure size 640x480 with 2 Axes>"
      ]
     },
     "metadata": {},
     "output_type": "display_data"
    },
    {
     "data": {
      "image/png": "[encoded data removed]",
      "text/plain": [
       "<Figure size 640x480 with 1 Axes>"
      ]
     },
     "metadata": {},
     "output_type": "display_data"
    },
    {
     "name": "stdout",
     "output_type": "stream",
     "text": [
      "AUC: 60.0%\n",
      "Accuracy: 53.85%\n",
      "Precision: 62.5%\n",
      "Recall: 62.5%\n",
      "F1: 62.5%\n"
     ]
    },
    {
     "data": {
      "image/png": "[encoded data removed]",
      "text/plain": [
       "<Figure size 640x480 with 1 Axes>"
      ]
     },
     "metadata": {},
     "output_type": "display_data"
    }
   ],
   "source": [
    "years = []\n",
    "train_scores = []\n",
    "test_scores = []\n",
    "\n",
    "for year in df['year'].unique():\n",
    "    if year < 3:\n",
    "        continue\n",
    "\n",
    "    print(f\"---------------------- YEAR {year} ----------------------\")\n",
    "\n",
    "    class_utils.train_model_simple(classifier, df, year, target)\n",
    "\n",
    "    y_test, y_test_prob, conf_test, y_train, y_train_prob, conf_train = class_utils.test_model(classifier, df, year,\n",
    "                                                                                               target)\n",
    "\n",
    "    y_test_pred = class_utils.enforce_max_teams(y_test_prob, conf_test)\n",
    "    y_train_pred = class_utils.enforce_max_teams(y_train_prob, conf_train)\n",
    "\n",
    "    eval.model_score(y_test, y_test_pred, y_test_prob, year == 10)\n",
    "\n",
    "    years.append(year)\n",
    "    test_scores.append(accuracy_score(y_test, y_test_pred))\n",
    "    train_scores.append(accuracy_score(y_train, y_train_pred))\n",
    "\n",
    "eval.plot_learning_curve(years, train_scores, test_scores)"
   ]
  }
 ],
 "metadata": {
  "kernelspec": {
   "display_name": "Python 3",
   "language": "python",
   "name": "python3"
  },
  "language_info": {
   "codemirror_mode": {
    "name": "ipython",
    "version": 3
   },
   "file_extension": ".py",
   "mimetype": "text/x-python",
   "name": "python",
   "nbconvert_exporter": "python",
   "pygments_lexer": "ipython3",
   "version": "3.10.10"
  }
 },
 "nbformat": 4,
 "nbformat_minor": 5
}
