{
 "cells": [
  {
   "cell_type": "markdown",
   "metadata": {},
   "source": [
    "# Data Cleaning - Players Teams"
   ]
  },
  {
   "cell_type": "code",
   "execution_count": null,
   "metadata": {
    "ExecuteTime": {
     "end_time": "2023-10-17T15:51:50.797698821Z",
     "start_time": "2023-10-17T15:51:50.767077427Z"
    }
   },
   "outputs": [],
   "source": [
    "import pandas as pd\n",
    "from utils import *\n",
    "import os\n",
    "\n",
    "df = pd.read_csv('../data/raw/players_teams.csv')\n",
    "\n",
    "init_num_rows = df.shape[0]\n",
    "\n",
    "print(f\"Num rows: {df.shape[0]}\")\n",
    "print(f\"Num cols: {df.shape[1]}\")\n",
    "\n",
    "df.head()"
   ]
  },
  {
   "cell_type": "markdown",
   "metadata": {},
   "source": [
    "## Dealing with Missing Values / Features"
   ]
  },
  {
   "cell_type": "code",
   "execution_count": null,
   "metadata": {
    "ExecuteTime": {
     "end_time": "2023-10-17T15:51:51.021850935Z",
     "start_time": "2023-10-17T15:51:50.797397019Z"
    }
   },
   "outputs": [],
   "source": [
    "nulls_values_by_column(df, (20, 10))"
   ]
  },
  {
   "cell_type": "markdown",
   "metadata": {},
   "source": [
    "## Dealing with Duplicate values / Redundant Data"
   ]
  },
  {
   "cell_type": "code",
   "execution_count": null,
   "metadata": {
    "ExecuteTime": {
     "end_time": "2023-10-17T15:51:51.249710038Z",
     "start_time": "2023-10-17T15:51:51.011073409Z"
    }
   },
   "outputs": [],
   "source": [
    "unique_values_by_column(df, 1, (20,10))"
   ]
  },
  {
   "cell_type": "code",
   "execution_count": null,
   "metadata": {
    "ExecuteTime": {
     "end_time": "2023-10-17T15:51:51.250231198Z",
     "start_time": "2023-10-17T15:51:51.222961624Z"
    }
   },
   "outputs": [],
   "source": [
    "num_columns = len(df.columns)\n",
    "df = filter_column_uniques(df, 1)\n",
    "print(f\"Removed {num_columns - len(df.columns)} columns that had only one unique value\")"
   ]
  },
  {
   "cell_type": "code",
   "execution_count": null,
   "metadata": {
    "ExecuteTime": {
     "end_time": "2023-10-17T15:51:51.250639463Z",
     "start_time": "2023-10-17T15:51:51.223196096Z"
    }
   },
   "outputs": [],
   "source": [
    "num_rows = df.shape[0]\n",
    "df.drop_duplicates(inplace=True)\n",
    "print(f\"Removed {num_rows - df.shape[0]} repeated rows\")"
   ]
  },
  {
   "cell_type": "markdown",
   "metadata": {},
   "source": [
    "## Outliers and Noise"
   ]
  },
  {
   "cell_type": "markdown",
   "metadata": {},
   "source": [
    "### Detecting and Removing Outliers using ..."
   ]
  },
  {
   "cell_type": "markdown",
   "metadata": {},
   "source": [
    "### ... z-score"
   ]
  },
  {
   "cell_type": "markdown",
   "metadata": {},
   "source": [
    "This is a simple way to detect outliers using the z-score. The z-score is the number of standard deviations away from the mean a data point is. If the absolute value of the z-score is greater than 3, we can flag this data point as an outlier.\n",
    "\n",
    "Let's take a look at the z-score range using a histogram plot."
   ]
  },
  {
   "cell_type": "code",
   "execution_count": null,
   "metadata": {},
   "outputs": [],
   "source": [
    "max_zscore = 3\n",
    "rows2drop = set()\n",
    "histogram_plot(df, max_zscore, (24, 100))"
   ]
  },
  {
   "cell_type": "markdown",
   "metadata": {},
   "source": [
    "Now let's use the z-score to detect and remove outliers from the dataset."
   ]
  },
  {
   "cell_type": "code",
   "execution_count": null,
   "metadata": {},
   "outputs": [],
   "source": [
    "rows2drop_zscore = filter_by_zscore(df, max_zscore)\n",
    "print(f\"Removed {len(rows2drop_zscore)} rows with zscore > {max_zscore}\")\n",
    "\n",
    "rows2drop.update(rows2drop_zscore)"
   ]
  },
  {
   "cell_type": "markdown",
   "metadata": {},
   "source": [
    "### ... Interquartile Range (IQR)\n",
    "\n",
    "The interquartile range (IQR) is a measure of statistical dispersion and is calculated as the difference between the 75th and 25th percentiles. It is represented by the formula IQR = Q3 − Q1. The IQR may also be called the midspread or middle 50%. It is a measure of the dispersion similar to standard deviation or variance, but is much more robust against outliers.\n",
    "\n",
    "Let's take a look at the IQR range using a histogram plot."
   ]
  },
  {
   "cell_type": "code",
   "execution_count": null,
   "metadata": {},
   "outputs": [],
   "source": [
    "factor = 1.5\n",
    "iqr_plot(df, factor, (24, 100))"
   ]
  },
  {
   "cell_type": "markdown",
   "metadata": {},
   "source": [
    "Now let's use the IQR to detect and remove outliers from the dataset."
   ]
  },
  {
   "cell_type": "code",
   "execution_count": null,
   "metadata": {},
   "outputs": [],
   "source": [
    "rows2drop_iqr = filter_by_iqr(df, factor)\n",
    "print(f\"Removed {len(rows2drop_iqr)} rows with factor = {factor}\")\n",
    "\n",
    "rows2drop.update(rows2drop_iqr)"
   ]
  },
  {
   "cell_type": "markdown",
   "metadata": {},
   "source": [
    "### ... Scatter Plot"
   ]
  },
  {
   "cell_type": "code",
   "execution_count": null,
   "metadata": {},
   "outputs": [],
   "source": [
    "#scatter_plot(df.drop(rows2drop))"
   ]
  },
  {
   "cell_type": "code",
   "execution_count": null,
   "metadata": {},
   "outputs": [],
   "source": [
    "print(f\"Founded {len(rows2drop)} ({round(len(rows2drop) / df.shape[0] * 100, 1)}%) outliers\")\n",
    "#df.drop(rows2drop, axis = 0, inplace=True)\n",
    "print(f\"Removed {init_num_rows - df.shape[0]} rows ({round((init_num_rows - df.shape[0]) / init_num_rows * 100, 1)}%)\")"
   ]
  },
  {
   "cell_type": "markdown",
   "metadata": {},
   "source": [
    "## Save Dataset"
   ]
  },
  {
   "cell_type": "code",
   "execution_count": null,
   "metadata": {},
   "outputs": [],
   "source": [
    "if not os.path.exists('../data/clean'):\n",
    "    os.makedirs('../data/clean')\n",
    "\n",
    "df.to_csv('../data/clean/players_teams.csv', index=False)"
   ]
  }
 ],
 "metadata": {
  "kernelspec": {
   "display_name": "Python 3",
   "language": "python",
   "name": "python3"
  },
  "language_info": {
   "codemirror_mode": {
    "name": "ipython",
    "version": 3
   },
   "file_extension": ".py",
   "mimetype": "text/x-python",
   "name": "python",
   "nbconvert_exporter": "python",
   "pygments_lexer": "ipython3",
   "version": "3.10.12"
  }
 },
 "nbformat": 4,
 "nbformat_minor": 2
}
