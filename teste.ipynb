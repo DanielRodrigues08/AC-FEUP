{
 "cells": [
  {
   "cell_type": "code",
   "execution_count": 1,
   "metadata": {},
   "outputs": [],
   "source": [
    "import pandas as pd"
   ]
  },
  {
   "cell_type": "code",
   "execution_count": 4,
   "metadata": {},
   "outputs": [
    {
     "name": "stdout",
     "output_type": "stream",
     "text": [
      "['playerID', 'award', 'year', 'lgID']\n"
     ]
    },
    {
     "data": {
      "text/html": [
       "<div>\n",
       "<style scoped>\n",
       "    .dataframe tbody tr th:only-of-type {\n",
       "        vertical-align: middle;\n",
       "    }\n",
       "\n",
       "    .dataframe tbody tr th {\n",
       "        vertical-align: top;\n",
       "    }\n",
       "\n",
       "    .dataframe thead th {\n",
       "        text-align: right;\n",
       "    }\n",
       "</style>\n",
       "<table border=\"1\" class=\"dataframe\">\n",
       "  <thead>\n",
       "    <tr style=\"text-align: right;\">\n",
       "      <th></th>\n",
       "      <th>playerID</th>\n",
       "      <th>award</th>\n",
       "      <th>year</th>\n",
       "      <th>lgID</th>\n",
       "    </tr>\n",
       "  </thead>\n",
       "  <tbody>\n",
       "    <tr>\n",
       "      <th>0</th>\n",
       "      <td>thompti01w</td>\n",
       "      <td>All-Star Game Most Valuable Player</td>\n",
       "      <td>1</td>\n",
       "      <td>WNBA</td>\n",
       "    </tr>\n",
       "    <tr>\n",
       "      <th>1</th>\n",
       "      <td>leslili01w</td>\n",
       "      <td>All-Star Game Most Valuable Player</td>\n",
       "      <td>2</td>\n",
       "      <td>WNBA</td>\n",
       "    </tr>\n",
       "    <tr>\n",
       "      <th>2</th>\n",
       "      <td>leslili01w</td>\n",
       "      <td>All-Star Game Most Valuable Player</td>\n",
       "      <td>3</td>\n",
       "      <td>WNBA</td>\n",
       "    </tr>\n",
       "  </tbody>\n",
       "</table>\n",
       "</div>"
      ],
      "text/plain": [
       "     playerID                               award  year  lgID\n",
       "0  thompti01w  All-Star Game Most Valuable Player     1  WNBA\n",
       "1  leslili01w  All-Star Game Most Valuable Player     2  WNBA\n",
       "2  leslili01w  All-Star Game Most Valuable Player     3  WNBA"
      ]
     },
     "execution_count": 4,
     "metadata": {},
     "output_type": "execute_result"
    }
   ],
   "source": [
    "awards_players_columns = {'playerID': '', 'award': '', 'year': '', 'lgID': ''}\n",
    "awards_players = pd.read_csv(\"./data/awards_players.csv\")\n",
    "print(list(awards_players.columns))\n",
    "awards_players.head(3) "
   ]
  },
  {
   "cell_type": "code",
   "execution_count": null,
   "metadata": {},
   "outputs": [],
   "source": [
    "coaches_columns = {'coachID': '', 'year': '', 'tmID': '', 'lgID': '',\n",
    "                   'stint': '', 'won': '', 'lost': '', 'post_wins': '', 'post_losses': ''}\n",
    "coaches = pd.read_csv(\"./data/coaches.csv\")\n",
    "coaches.head(3)\n"
   ]
  },
  {
   "cell_type": "code",
   "execution_count": null,
   "metadata": {},
   "outputs": [],
   "source": [
    "\n",
    "players_columns = {'bioID': '', 'pos': '', 'firstseason': '', 'lastseason': '', 'height': '',\n",
    "                   'weight': '', 'college': '', 'collegeOther': '', 'birthDate': '', 'deathDate': ''}\n",
    "players = pd.read_csv(\"./data/players.csv\")\n",
    "players.head(3)"
   ]
  },
  {
   "cell_type": "code",
   "execution_count": null,
   "metadata": {},
   "outputs": [],
   "source": [
    "players_teams_columns = {'playerID': '', 'year': '', 'stint': '', 'tmID': '', 'lgID': '', 'GP': '', 'GS': '', 'minutes': '', 'points': '', 'oRebounds': '', 'dRebounds': '', 'rebounds': '', 'assists': '', 'steals': '', 'blocks': '', 'turnovers': '', 'PF': '', 'fgAttempted': '', 'fgMade': '', 'ftAttempted': '', 'ftMade': '', 'threeAttempted': '', 'threeMade': '',\n",
    "                         'dq': '', 'PostGP': '', 'PostGS': '', 'PostMinutes': '', 'PostPoints': '', 'PostoRebounds': '', 'PostdRebounds': '', 'PostRebounds': '', 'PostAssists': '', 'PostSteals': '', 'PostBlocks': '', 'PostTurnovers': '', 'PostPF': '', 'PostfgAttempted': '', 'PostfgMade': '', 'PostftAttempted': '', 'PostftMade': '', 'PostthreeAttempted': '', 'PostthreeMade': '', 'PostDQ': ''}\n",
    "players_teams = pd.read_csv(\"./data/players_teams.csv\")\n",
    "players_teams.head(3)"
   ]
  },
  {
   "cell_type": "code",
   "execution_count": null,
   "metadata": {},
   "outputs": [],
   "source": [
    "series_post_columns = {'year': '', 'round': '', 'series': '', 'tmIDWinner': '',\n",
    "                       'lgIDWinner': '', 'tmIDLoser': '', 'lgIDLoser': '', 'W': '', 'L': ''}\n",
    "series_post = pd.read_csv(\"./data/series_post.csv\")\n",
    "series_post.head(3)"
   ]
  },
  {
   "cell_type": "code",
   "execution_count": null,
   "metadata": {},
   "outputs": [],
   "source": [
    "teams_columns = {'year': '', 'lgID': '', 'tmID': '', 'franchID': '', 'confID': '', 'divID': '', 'rank': '', 'playoff': '', 'seeded': '', 'firstRound': '', 'semis': '', 'finals': '', 'name': '', 'o_fgm': '', 'o_fga': '', 'o_ftm': '', 'o_fta': '', 'o_3pm': '', 'o_3pa': '', 'o_oreb': '', 'o_dreb': '', 'o_reb': '', 'o_asts': '', 'o_pf': '', 'o_stl': '', 'o_to': '', 'o_blk': '', 'o_pts': '', 'd_fgm': '', 'd_fga': '',\n",
    "                 'd_ftm': '', 'd_fta': '', 'd_3pm': '', 'd_3pa': '', 'd_oreb': '', 'd_dreb': '', 'd_reb': '', 'd_asts': '', 'd_pf': '', 'd_stl': '', 'd_to': '', 'd_blk': '', 'd_pts': '', 'tmORB': '', 'tmDRB': '', 'tmTRB': '', 'opptmORB': '', 'opptmDRB': '', 'opptmTRB': '', 'won': '', 'lost': '', 'GP': '', 'homeW': '', 'homeL': '', 'awayW': '', 'awayL': '', 'confW': '', 'confL': '', 'min': '', 'attend': '', 'arena': ''}\n",
    "teams = pd.read_csv(\"./data/teams.csv\")\n",
    "teams.head(3)"
   ]
  },
  {
   "cell_type": "code",
   "execution_count": null,
   "metadata": {},
   "outputs": [],
   "source": [
    "teams_post_columns = {'year': '', 'tmID': '', 'lgID': '', 'W': '', 'L': ''}\n",
    "teams_post = pd.read_csv(\"./data/teams_post.csv\")\n",
    "teams_post.head(3)"
   ]
  }
 ],
 "metadata": {
  "kernelspec": {
   "display_name": "Python 3",
   "language": "python",
   "name": "python3"
  },
  "language_info": {
   "codemirror_mode": {
    "name": "ipython",
    "version": 3
   },
   "file_extension": ".py",
   "mimetype": "text/x-python",
   "name": "python",
   "nbconvert_exporter": "python",
   "pygments_lexer": "ipython3",
   "version": "3.10.12"
  },
  "orig_nbformat": 4
 },
 "nbformat": 4,
 "nbformat_minor": 2
}
