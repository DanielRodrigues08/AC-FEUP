{
 "cells": [
  {
   "cell_type": "markdown",
   "metadata": {},
   "source": [
    "# Data Integration"
   ]
  },
  {
   "cell_type": "code",
   "execution_count": 1,
   "metadata": {
    "ExecuteTime": {
     "end_time": "2023-11-12T14:35:58.832329114Z",
     "start_time": "2023-11-12T14:35:58.727583654Z"
    }
   },
   "outputs": [],
   "source": [
    "import pandas as pd\n",
    "import os\n",
    "\n",
    "dataframes = dict()\n",
    "for dataset_name in os.listdir(\"../data/clean\"):\n",
    "    if dataset_name.endswith(\".csv\"):\n",
    "        dataframes[dataset_name.split(\".\")[0]] = pd.read_csv(\n",
    "            \"../data/clean/\" + dataset_name\n",
    "        )\n",
    "\n",
    "\n",
    "data = pd.merge(\n",
    "    dataframes[\"teams_post\"], dataframes[\"teams\"], on=[\"tmID\", \"year\"], how=\"right\"\n",
    ")\n",
    "data = pd.merge(\n",
    "    data, dataframes[\"coaches\"], on=[\"tmID\", \"year\"], suffixes=(\"_team\", \"_coach\")\n",
    ")\n",
    "data = pd.merge(\n",
    "    data,\n",
    "    dataframes[\"series_post\"],\n",
    "    left_on=[\"tmID\", \"year\"],\n",
    "    right_on=[\"tmIDWinner\", \"year\"],\n",
    "    suffixes=(\"_team_post\", \"_series\"),\n",
    "    how=\"left\",\n",
    ")\n",
    "data = pd.merge(\n",
    "    data,\n",
    "    dataframes[\"players_teams\"],\n",
    "    on=[\"tmID\", \"year\"],\n",
    "    suffixes=(\"_team1\", \"_player1\"),\n",
    ")\n",
    "data = pd.merge(data, dataframes[\"players\"], left_on=\"playerID\", right_on=\"bioID\")\n",
    "data = pd.merge(data, dataframes[\"awards_players\"], on=[\"playerID\", \"year\"], how=\"left\")\n",
    "data = pd.merge(\n",
    "    data,\n",
    "    dataframes[\"awards_coaches\"],\n",
    "    on=[\"coachID\", \"year\"],\n",
    "    suffixes=(\"_player\", \"_coach\"),\n",
    "    how=\"left\",\n",
    ")\n",
    "\n",
    "data.to_csv(\"../data/integrated.csv\", index=False)"
   ]
  }
 ],
 "metadata": {
  "kernelspec": {
   "display_name": "Python 3",
   "language": "python",
   "name": "python3"
  },
  "language_info": {
   "codemirror_mode": {
    "name": "ipython",
    "version": 3
   },
   "file_extension": ".py",
   "mimetype": "text/x-python",
   "name": "python",
   "nbconvert_exporter": "python",
   "pygments_lexer": "ipython3",
   "version": "3.10.12"
  }
 },
 "nbformat": 4,
 "nbformat_minor": 2
}
