{
 "cells": [
  {
   "cell_type": "code",
   "execution_count": 72,
   "metadata": {
    "ExecuteTime": {
     "start_time": "2023-09-30T18:20:54.327348458Z"
    }
   },
   "outputs": [],
   "source": [
    "import pandas as pd\n",
    "import os"
   ]
  },
  {
   "cell_type": "markdown",
   "metadata": {},
   "source": [
    "# WNBA Playoff Prediction"
   ]
  },
  {
   "cell_type": "markdown",
   "metadata": {},
   "source": [
    "## Data Understanding"
   ]
  },
  {
   "cell_type": "markdown",
   "metadata": {},
   "source": [
    "Importing datasets"
   ]
  },
  {
   "cell_type": "code",
   "execution_count": 73,
   "metadata": {},
   "outputs": [
    {
     "name": "stdout",
     "output_type": "stream",
     "text": [
      "awards_players\n",
      "players_teams\n",
      "coaches\n",
      "players\n",
      "teams_post\n",
      "series_post\n",
      "teams\n"
     ]
    }
   ],
   "source": [
    "for dataset_name in os.listdir('data'):\n",
    "    if dataset_name.endswith('.csv'):\n",
    "        print(dataset_name.split(\".\")[0]) "
   ]
  },
  {
   "cell_type": "code",
   "execution_count": 74,
   "metadata": {
    "ExecuteTime": {
     "start_time": "2023-09-30T18:20:54.327562081Z"
    }
   },
   "outputs": [],
   "source": [
    "dataframes = dict()\n",
    "for dataset_name in os.listdir('data'):\n",
    "    if dataset_name.endswith('.csv'):\n",
    "        dataframes[dataset_name.split(\".\")[0]] = pd.read_csv('data/' + dataset_name) "
   ]
  },
  {
   "cell_type": "markdown",
   "metadata": {
    "collapsed": false
   },
   "source": []
  },
  {
   "cell_type": "markdown",
   "metadata": {},
   "source": [
    "## Data Preparation"
   ]
  },
  {
   "cell_type": "markdown",
   "metadata": {
    "collapsed": false
   },
   "source": [
    "### Select Data"
   ]
  },
  {
   "cell_type": "markdown",
   "metadata": {},
   "source": [
    "Eliminating columns with exclusively unique values"
   ]
  },
  {
   "cell_type": "code",
   "execution_count": 75,
   "metadata": {
    "ExecuteTime": {
     "start_time": "2023-09-30T18:20:54.327722157Z"
    },
    "collapsed": false
   },
   "outputs": [],
   "source": [
    "for df_name, df in dataframes.items():\n",
    "    df_clean = df.copy()\n",
    "    for col in df.columns:\n",
    "        if len(pd.unique(df[col])) == 1:\n",
    "            df_clean.drop(col, axis=1, inplace=True)\n",
    "    dataframes[df_name] = df_clean\n"
   ]
  },
  {
   "cell_type": "markdown",
   "metadata": {},
   "source": [
    "### Integrate Data\n",
    "\n",
    "Merging all dataframes into a single one"
   ]
  },
  {
   "cell_type": "code",
   "execution_count": 76,
   "metadata": {
    "ExecuteTime": {
     "start_time": "2023-09-30T18:20:54.327937674Z"
    }
   },
   "outputs": [],
   "source": [
    "data = pd.merge(dataframes['teams_post'], dataframes['teams'], on=['tmID', 'year'])\n",
    "data = pd.merge(data, dataframes['coaches'], on=['tmID', 'year'])\n",
    "data = pd.merge(data, dataframes['series_post'], left_on=['tmID', 'year'], right_on=['tmIDWinner', 'year'])\n",
    "data = pd.merge(data, dataframes['players_teams'], on=['tmID', 'year'], how='inner')\n",
    "data = pd.merge(data, dataframes['players'], left_on='playerID', right_on='bioID')\n",
    "data = pd.merge(data, dataframes['awards_players'], on=['playerID'])\n"
   ]
  }
 ],
 "metadata": {
  "kernelspec": {
   "display_name": "Python 3",
   "language": "python",
   "name": "python3"
  },
  "language_info": {
   "codemirror_mode": {
    "name": "ipython",
    "version": 3
   },
   "file_extension": ".py",
   "mimetype": "text/x-python",
   "name": "python",
   "nbconvert_exporter": "python",
   "pygments_lexer": "ipython3",
   "version": "3.10.12"
  },
  "orig_nbformat": 4
 },
 "nbformat": 4,
 "nbformat_minor": 2
}
