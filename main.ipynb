{
 "cells": [
  {
   "cell_type": "code",
   "execution_count": 19,
   "metadata": {
    "ExecuteTime": {
     "end_time": "2023-09-30T19:46:15.204347883Z",
     "start_time": "2023-09-30T19:46:15.142310181Z"
    }
   },
   "outputs": [],
   "source": [
    "import pandas as pd\n",
    "import os"
   ]
  },
  {
   "cell_type": "markdown",
   "metadata": {},
   "source": [
    "# WNBA Playoff Prediction"
   ]
  },
  {
   "cell_type": "markdown",
   "metadata": {},
   "source": [
    "## Data Understanding"
   ]
  },
  {
   "cell_type": "markdown",
   "metadata": {},
   "source": [
    "Importing datasets"
   ]
  },
  {
   "cell_type": "code",
   "execution_count": 20,
   "metadata": {
    "ExecuteTime": {
     "end_time": "2023-09-30T19:46:15.230253822Z",
     "start_time": "2023-09-30T19:46:15.163309007Z"
    }
   },
   "outputs": [],
   "source": [
    "dataframes = dict()\n",
    "for dataset_name in os.listdir('data'):\n",
    "    if dataset_name.endswith('.csv'):\n",
    "        dataframes[dataset_name.split(\".\")[0]] = pd.read_csv('data/' + dataset_name) "
   ]
  },
  {
   "cell_type": "markdown",
   "metadata": {
    "collapsed": false
   },
   "source": []
  },
  {
   "cell_type": "markdown",
   "metadata": {},
   "source": [
    "## Data Preparation"
   ]
  },
  {
   "cell_type": "markdown",
   "metadata": {
    "collapsed": false
   },
   "source": [
    "### Select Data"
   ]
  },
  {
   "cell_type": "markdown",
   "metadata": {},
   "source": [
    "Eliminating columns with exclusively unique values"
   ]
  },
  {
   "cell_type": "code",
   "execution_count": 21,
   "metadata": {
    "ExecuteTime": {
     "end_time": "2023-09-30T19:46:15.250945672Z",
     "start_time": "2023-09-30T19:46:15.234357993Z"
    },
    "collapsed": false
   },
   "outputs": [],
   "source": [
    "for df_name, df in dataframes.items():\n",
    "    df_clean = df.copy()\n",
    "    for col in df.columns:\n",
    "        if len(pd.unique(df[col])) == 1:\n",
    "            df_clean.drop(col, axis=1, inplace=True)\n",
    "    dataframes[df_name] = df_clean\n"
   ]
  },
  {
   "cell_type": "markdown",
   "metadata": {},
   "source": [
    "### Integrate Data\n",
    "\n",
    "Merging all dataframes into a single one"
   ]
  },
  {
   "cell_type": "code",
   "execution_count": 22,
   "metadata": {
    "ExecuteTime": {
     "end_time": "2023-09-30T19:48:16.941314973Z",
     "start_time": "2023-09-30T19:48:16.896211919Z"
    }
   },
   "outputs": [],
   "source": [
    "data = pd.merge(dataframes['teams_post'], dataframes['teams'], on=['tmID', 'year'], how='right')\n",
    "data = pd.merge(data, dataframes['coaches'], on=['tmID', 'year'], suffixes=('_team', '_coach'))\n",
    "data = pd.merge(data, dataframes['series_post'], left_on=['tmID', 'year'], right_on=['tmIDWinner', 'year'], suffixes=('_team_post', '_series'), how='left')\n",
    "data = pd.merge(data, dataframes['series_post'], left_on=['tmID', 'year'], right_on=['tmIDLoser', 'year'], suffixes=('_team_post', '_series'), how='left')\n",
    "data = pd.merge(data, dataframes['players_teams'], on=['tmID', 'year'], suffixes=('_team', '_player'))\n",
    "data = pd.merge(data, dataframes['players'], left_on='playerID', right_on='bioID')\n",
    "data = pd.merge(data, dataframes['awards_players'], on=['playerID'], how='left')"
   ]
  },
  {
   "cell_type": "code",
   "execution_count": 23,
   "metadata": {},
   "outputs": [
    {
     "data": {
      "text/plain": [
       "(2943, 122)"
      ]
     },
     "execution_count": 23,
     "metadata": {},
     "output_type": "execute_result"
    }
   ],
   "source": [
    "data.shape"
   ]
  },
  {
   "cell_type": "code",
   "execution_count": 24,
   "metadata": {},
   "outputs": [],
   "source": [
    "label = \"playoff\""
   ]
  },
  {
   "cell_type": "code",
   "execution_count": 25,
   "metadata": {},
   "outputs": [],
   "source": [
    "import pandas as pd\n",
    "from sklearn.tree import DecisionTreeClassifier # Import Decision Tree Classifier\n",
    "from sklearn.model_selection import train_test_split # Import train_test_split function\n",
    "from sklearn import metrics #Import scikit-learn metrics module for accuracy calculation\n"
   ]
  },
  {
   "cell_type": "code",
   "execution_count": 26,
   "metadata": {},
   "outputs": [
    {
     "data": {
      "text/html": [
       "<div>\n",
       "<style scoped>\n",
       "    .dataframe tbody tr th:only-of-type {\n",
       "        vertical-align: middle;\n",
       "    }\n",
       "\n",
       "    .dataframe tbody tr th {\n",
       "        vertical-align: top;\n",
       "    }\n",
       "\n",
       "    .dataframe thead th {\n",
       "        text-align: right;\n",
       "    }\n",
       "</style>\n",
       "<table border=\"1\" class=\"dataframe\">\n",
       "  <thead>\n",
       "    <tr style=\"text-align: right;\">\n",
       "      <th></th>\n",
       "      <th>year</th>\n",
       "      <th>tmID</th>\n",
       "      <th>franchID</th>\n",
       "      <th>confID</th>\n",
       "      <th>rank</th>\n",
       "      <th>playoff</th>\n",
       "      <th>firstRound</th>\n",
       "      <th>semis</th>\n",
       "      <th>finals</th>\n",
       "      <th>name</th>\n",
       "      <th>...</th>\n",
       "      <th>GP</th>\n",
       "      <th>homeW</th>\n",
       "      <th>homeL</th>\n",
       "      <th>awayW</th>\n",
       "      <th>awayL</th>\n",
       "      <th>confW</th>\n",
       "      <th>confL</th>\n",
       "      <th>min</th>\n",
       "      <th>attend</th>\n",
       "      <th>arena</th>\n",
       "    </tr>\n",
       "  </thead>\n",
       "  <tbody>\n",
       "    <tr>\n",
       "      <th>0</th>\n",
       "      <td>9</td>\n",
       "      <td>ATL</td>\n",
       "      <td>ATL</td>\n",
       "      <td>EA</td>\n",
       "      <td>7</td>\n",
       "      <td>N</td>\n",
       "      <td>NaN</td>\n",
       "      <td>NaN</td>\n",
       "      <td>NaN</td>\n",
       "      <td>Atlanta Dream</td>\n",
       "      <td>...</td>\n",
       "      <td>34</td>\n",
       "      <td>1</td>\n",
       "      <td>16</td>\n",
       "      <td>3</td>\n",
       "      <td>14</td>\n",
       "      <td>2</td>\n",
       "      <td>18</td>\n",
       "      <td>6825</td>\n",
       "      <td>141379</td>\n",
       "      <td>Philips Arena</td>\n",
       "    </tr>\n",
       "    <tr>\n",
       "      <th>1</th>\n",
       "      <td>10</td>\n",
       "      <td>ATL</td>\n",
       "      <td>ATL</td>\n",
       "      <td>EA</td>\n",
       "      <td>2</td>\n",
       "      <td>Y</td>\n",
       "      <td>L</td>\n",
       "      <td>NaN</td>\n",
       "      <td>NaN</td>\n",
       "      <td>Atlanta Dream</td>\n",
       "      <td>...</td>\n",
       "      <td>34</td>\n",
       "      <td>12</td>\n",
       "      <td>5</td>\n",
       "      <td>6</td>\n",
       "      <td>11</td>\n",
       "      <td>10</td>\n",
       "      <td>12</td>\n",
       "      <td>6950</td>\n",
       "      <td>120737</td>\n",
       "      <td>Philips Arena</td>\n",
       "    </tr>\n",
       "    <tr>\n",
       "      <th>2</th>\n",
       "      <td>1</td>\n",
       "      <td>CHA</td>\n",
       "      <td>CHA</td>\n",
       "      <td>EA</td>\n",
       "      <td>8</td>\n",
       "      <td>N</td>\n",
       "      <td>NaN</td>\n",
       "      <td>NaN</td>\n",
       "      <td>NaN</td>\n",
       "      <td>Charlotte Sting</td>\n",
       "      <td>...</td>\n",
       "      <td>32</td>\n",
       "      <td>5</td>\n",
       "      <td>11</td>\n",
       "      <td>3</td>\n",
       "      <td>13</td>\n",
       "      <td>5</td>\n",
       "      <td>16</td>\n",
       "      <td>6475</td>\n",
       "      <td>90963</td>\n",
       "      <td>Charlotte Coliseum</td>\n",
       "    </tr>\n",
       "  </tbody>\n",
       "</table>\n",
       "<p>3 rows × 52 columns</p>\n",
       "</div>"
      ],
      "text/plain": [
       "   year tmID franchID confID  rank playoff firstRound semis finals  \\\n",
       "0     9  ATL      ATL     EA     7       N        NaN   NaN    NaN   \n",
       "1    10  ATL      ATL     EA     2       Y          L   NaN    NaN   \n",
       "2     1  CHA      CHA     EA     8       N        NaN   NaN    NaN   \n",
       "\n",
       "              name  ...  GP  homeW  homeL  awayW  awayL  confW  confL   min  \\\n",
       "0    Atlanta Dream  ...  34      1     16      3     14      2     18  6825   \n",
       "1    Atlanta Dream  ...  34     12      5      6     11     10     12  6950   \n",
       "2  Charlotte Sting  ...  32      5     11      3     13      5     16  6475   \n",
       "\n",
       "   attend               arena  \n",
       "0  141379       Philips Arena  \n",
       "1  120737       Philips Arena  \n",
       "2   90963  Charlotte Coliseum  \n",
       "\n",
       "[3 rows x 52 columns]"
      ]
     },
     "execution_count": 26,
     "metadata": {},
     "output_type": "execute_result"
    }
   ],
   "source": [
    "df = dataframes[\"teams\"]\n",
    "df.head(3)"
   ]
  },
  {
   "cell_type": "code",
   "execution_count": 31,
   "metadata": {},
   "outputs": [
    {
     "data": {
      "text/html": [
       "<div>\n",
       "<style scoped>\n",
       "    .dataframe tbody tr th:only-of-type {\n",
       "        vertical-align: middle;\n",
       "    }\n",
       "\n",
       "    .dataframe tbody tr th {\n",
       "        vertical-align: top;\n",
       "    }\n",
       "\n",
       "    .dataframe thead th {\n",
       "        text-align: right;\n",
       "    }\n",
       "</style>\n",
       "<table border=\"1\" class=\"dataframe\">\n",
       "  <thead>\n",
       "    <tr style=\"text-align: right;\">\n",
       "      <th></th>\n",
       "      <th>year</th>\n",
       "      <th>tmID</th>\n",
       "      <th>franchID</th>\n",
       "      <th>confID</th>\n",
       "      <th>rank</th>\n",
       "      <th>playoff</th>\n",
       "      <th>firstRound</th>\n",
       "      <th>semis</th>\n",
       "      <th>finals</th>\n",
       "      <th>name</th>\n",
       "      <th>...</th>\n",
       "      <th>GP</th>\n",
       "      <th>homeW</th>\n",
       "      <th>homeL</th>\n",
       "      <th>awayW</th>\n",
       "      <th>awayL</th>\n",
       "      <th>confW</th>\n",
       "      <th>confL</th>\n",
       "      <th>min</th>\n",
       "      <th>attend</th>\n",
       "      <th>arena</th>\n",
       "    </tr>\n",
       "  </thead>\n",
       "  <tbody>\n",
       "    <tr>\n",
       "      <th>0</th>\n",
       "      <td>9</td>\n",
       "      <td>ATL</td>\n",
       "      <td>ATL</td>\n",
       "      <td>EA</td>\n",
       "      <td>7</td>\n",
       "      <td>N</td>\n",
       "      <td>NaN</td>\n",
       "      <td>NaN</td>\n",
       "      <td>NaN</td>\n",
       "      <td>Atlanta Dream</td>\n",
       "      <td>...</td>\n",
       "      <td>34</td>\n",
       "      <td>1</td>\n",
       "      <td>16</td>\n",
       "      <td>3</td>\n",
       "      <td>14</td>\n",
       "      <td>2</td>\n",
       "      <td>18</td>\n",
       "      <td>6825</td>\n",
       "      <td>141379</td>\n",
       "      <td>Philips Arena</td>\n",
       "    </tr>\n",
       "    <tr>\n",
       "      <th>1</th>\n",
       "      <td>10</td>\n",
       "      <td>ATL</td>\n",
       "      <td>ATL</td>\n",
       "      <td>EA</td>\n",
       "      <td>2</td>\n",
       "      <td>Y</td>\n",
       "      <td>L</td>\n",
       "      <td>NaN</td>\n",
       "      <td>NaN</td>\n",
       "      <td>Atlanta Dream</td>\n",
       "      <td>...</td>\n",
       "      <td>34</td>\n",
       "      <td>12</td>\n",
       "      <td>5</td>\n",
       "      <td>6</td>\n",
       "      <td>11</td>\n",
       "      <td>10</td>\n",
       "      <td>12</td>\n",
       "      <td>6950</td>\n",
       "      <td>120737</td>\n",
       "      <td>Philips Arena</td>\n",
       "    </tr>\n",
       "    <tr>\n",
       "      <th>2</th>\n",
       "      <td>1</td>\n",
       "      <td>CHA</td>\n",
       "      <td>CHA</td>\n",
       "      <td>EA</td>\n",
       "      <td>8</td>\n",
       "      <td>N</td>\n",
       "      <td>NaN</td>\n",
       "      <td>NaN</td>\n",
       "      <td>NaN</td>\n",
       "      <td>Charlotte Sting</td>\n",
       "      <td>...</td>\n",
       "      <td>32</td>\n",
       "      <td>5</td>\n",
       "      <td>11</td>\n",
       "      <td>3</td>\n",
       "      <td>13</td>\n",
       "      <td>5</td>\n",
       "      <td>16</td>\n",
       "      <td>6475</td>\n",
       "      <td>90963</td>\n",
       "      <td>Charlotte Coliseum</td>\n",
       "    </tr>\n",
       "  </tbody>\n",
       "</table>\n",
       "<p>3 rows × 52 columns</p>\n",
       "</div>"
      ],
      "text/plain": [
       "   year tmID franchID confID  rank playoff firstRound semis finals  \\\n",
       "0     9  ATL      ATL     EA     7       N        NaN   NaN    NaN   \n",
       "1    10  ATL      ATL     EA     2       Y          L   NaN    NaN   \n",
       "2     1  CHA      CHA     EA     8       N        NaN   NaN    NaN   \n",
       "\n",
       "              name  ...  GP  homeW  homeL  awayW  awayL  confW  confL   min  \\\n",
       "0    Atlanta Dream  ...  34      1     16      3     14      2     18  6825   \n",
       "1    Atlanta Dream  ...  34     12      5      6     11     10     12  6950   \n",
       "2  Charlotte Sting  ...  32      5     11      3     13      5     16  6475   \n",
       "\n",
       "   attend               arena  \n",
       "0  141379       Philips Arena  \n",
       "1  120737       Philips Arena  \n",
       "2   90963  Charlotte Coliseum  \n",
       "\n",
       "[3 rows x 52 columns]"
      ]
     },
     "execution_count": 31,
     "metadata": {},
     "output_type": "execute_result"
    }
   ],
   "source": [
    "features = df.columns\n",
    "features = features.drop(label)\n",
    "assert len(features) < len(df.columns)\n",
    "X = df[df.columns]  # Features\n",
    "X.head(3)"
   ]
  },
  {
   "cell_type": "code",
   "execution_count": 30,
   "metadata": {},
   "outputs": [
    {
     "data": {
      "text/plain": [
       "0    N\n",
       "1    Y\n",
       "2    N\n",
       "Name: playoff, dtype: object"
      ]
     },
     "execution_count": 30,
     "metadata": {},
     "output_type": "execute_result"
    }
   ],
   "source": [
    "y  =df[label]# Targe\n",
    "y.head(3)"
   ]
  },
  {
   "cell_type": "code",
   "execution_count": null,
   "metadata": {},
   "outputs": [],
   "source": []
  }
 ],
 "metadata": {
  "kernelspec": {
   "display_name": "Python 3",
   "language": "python",
   "name": "python3"
  },
  "language_info": {
   "codemirror_mode": {
    "name": "ipython",
    "version": 3
   },
   "file_extension": ".py",
   "mimetype": "text/x-python",
   "name": "python",
   "nbconvert_exporter": "python",
   "pygments_lexer": "ipython3",
   "version": "3.10.12"
  },
  "orig_nbformat": 4
 },
 "nbformat": 4,
 "nbformat_minor": 2
}
