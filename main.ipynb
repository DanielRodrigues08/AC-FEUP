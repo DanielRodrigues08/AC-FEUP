{
 "cells": [
  {
   "cell_type": "code",
   "execution_count": 28,
   "metadata": {
    "ExecuteTime": {
     "end_time": "2023-09-30T19:46:15.204347883Z",
     "start_time": "2023-09-30T19:46:15.142310181Z"
    }
   },
   "outputs": [],
   "source": [
    "import pandas as pd\n",
    "import os"
   ]
  },
  {
   "cell_type": "markdown",
   "metadata": {},
   "source": [
    "# WNBA Playoff Prediction"
   ]
  },
  {
   "cell_type": "markdown",
   "metadata": {},
   "source": [
    "## Data Understanding"
   ]
  },
  {
   "cell_type": "markdown",
   "metadata": {},
   "source": [
    "Importing datasets"
   ]
  },
  {
   "cell_type": "code",
   "execution_count": 29,
   "metadata": {
    "ExecuteTime": {
     "end_time": "2023-09-30T19:46:15.230253822Z",
     "start_time": "2023-09-30T19:46:15.163309007Z"
    }
   },
   "outputs": [],
   "source": [
    "dataframes = dict()\n",
    "for dataset_name in os.listdir('data'):\n",
    "    if dataset_name.endswith('.csv'):\n",
    "        dataframes[dataset_name.split(\".\")[0]] = pd.read_csv('data/' + dataset_name) "
   ]
  },
  {
   "cell_type": "markdown",
   "metadata": {
    "collapsed": false
   },
   "source": []
  },
  {
   "cell_type": "markdown",
   "metadata": {},
   "source": [
    "## Data Preparation"
   ]
  },
  {
   "cell_type": "markdown",
   "metadata": {
    "collapsed": false
   },
   "source": [
    "### Select Data"
   ]
  },
  {
   "cell_type": "markdown",
   "metadata": {},
   "source": [
    "Eliminating columns with exclusively unique values"
   ]
  },
  {
   "cell_type": "code",
   "execution_count": 30,
   "metadata": {
    "collapsed": false,
    "ExecuteTime": {
     "end_time": "2023-09-30T19:46:15.250945672Z",
     "start_time": "2023-09-30T19:46:15.234357993Z"
    }
   },
   "outputs": [],
   "source": [
    "for df_name, df in dataframes.items():\n",
    "    df_clean = df.copy()\n",
    "    for col in df.columns:\n",
    "        if len(pd.unique(df[col])) == 1:\n",
    "            df_clean.drop(col, axis=1, inplace=True)\n",
    "    dataframes[df_name] = df_clean\n"
   ]
  },
  {
   "cell_type": "markdown",
   "metadata": {},
   "source": [
    "### Integrate Data\n",
    "\n",
    "Merging all dataframes into a single one"
   ]
  },
  {
   "cell_type": "code",
   "execution_count": 40,
   "metadata": {
    "ExecuteTime": {
     "end_time": "2023-09-30T19:48:16.941314973Z",
     "start_time": "2023-09-30T19:48:16.896211919Z"
    }
   },
   "outputs": [
    {
     "name": "stdout",
     "output_type": "stream",
     "text": [
      "2943\n"
     ]
    }
   ],
   "source": [
    "data = pd.merge(dataframes['teams_post'], dataframes['teams'], on=['tmID', 'year'], how='right')\n",
    "data = pd.merge(data, dataframes['coaches'], on=['tmID', 'year'], suffixes=('_team', '_coach'))\n",
    "data = pd.merge(data, dataframes['series_post'], left_on=['tmID', 'year'], right_on=['tmIDWinner', 'year'], suffixes=('_team_post', '_series'), how='left')\n",
    "data = pd.merge(data, dataframes['series_post'], left_on=['tmID', 'year'], right_on=['tmIDLoser', 'year'], suffixes=('_team_post', '_series'), how='left')\n",
    "data = pd.merge(data, dataframes['players_teams'], on=['tmID', 'year'], suffixes=('_team', '_player'))\n",
    "data = pd.merge(data, dataframes['players'], left_on='playerID', right_on='bioID')\n",
    "data = pd.merge(data, dataframes['awards_players'], on=['playerID'], how='left')\n"
   ]
  },
  {
   "cell_type": "code",
   "execution_count": 31,
   "outputs": [],
   "source": [],
   "metadata": {
    "collapsed": false,
    "ExecuteTime": {
     "end_time": "2023-09-30T19:46:15.314628710Z",
     "start_time": "2023-09-30T19:46:15.267961979Z"
    }
   }
  }
 ],
 "metadata": {
  "kernelspec": {
   "display_name": "Python 3",
   "language": "python",
   "name": "python3"
  },
  "language_info": {
   "codemirror_mode": {
    "name": "ipython",
    "version": 3
   },
   "file_extension": ".py",
   "mimetype": "text/x-python",
   "name": "python",
   "nbconvert_exporter": "python",
   "pygments_lexer": "ipython3",
   "version": "3.10.12"
  },
  "orig_nbformat": 4
 },
 "nbformat": 4,
 "nbformat_minor": 2
}
