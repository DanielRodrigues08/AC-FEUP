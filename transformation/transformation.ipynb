{
 "cells": [
  {
   "cell_type": "markdown",
   "id": "99a9ef807a24e570",
   "metadata": {
    "collapsed": false
   },
   "source": [
    "# Data Reduction and Transformation\n"
   ]
  },
  {
   "cell_type": "code",
   "execution_count": 325,
   "id": "359d2810715a6308",
   "metadata": {
    "collapsed": false
   },
   "outputs": [],
   "source": [
    "import transformation_utils as utils\n",
    "import pandas as pd\n",
    "from sklearn.preprocessing import LabelEncoder, MinMaxScaler, RobustScaler"
   ]
  },
  {
   "cell_type": "code",
   "execution_count": 326,
   "metadata": {},
   "outputs": [],
   "source": [
    "from sklearn.neural_network import MLPClassifier\n",
    "from sklearn.tree import DecisionTreeClassifier\n",
    "from sklearn.ensemble import RandomForestClassifier\n",
    "from sklearn.svm import SVC\n",
    "from sklearn.neighbors import KNeighborsClassifier\n",
    "from sklearn.ensemble import (\n",
    "    BaggingClassifier,\n",
    "    AdaBoostClassifier,\n",
    "    GradientBoostingClassifier,\n",
    "    ExtraTreesClassifier,\n",
    ")\n",
    "from sklearn.linear_model import LogisticRegression\n",
    "from sklearn.naive_bayes import GaussianNB"
   ]
  },
  {
   "cell_type": "code",
   "execution_count": 327,
   "id": "c42f9fa700123399",
   "metadata": {
    "collapsed": false
   },
   "outputs": [],
   "source": [
    "df = pd.read_csv(\"../data/integrated.csv\")\n",
    "target = \"playoff\""
   ]
  },
  {
   "cell_type": "markdown",
   "id": "a6941b471091972c",
   "metadata": {
    "collapsed": false
   },
   "source": [
    "## Eliminating Redundant Features\n"
   ]
  },
  {
   "cell_type": "code",
   "execution_count": 328,
   "id": "bf15b55428e81990",
   "metadata": {
    "collapsed": false
   },
   "outputs": [],
   "source": [
    "df.drop(\n",
    "    [\n",
    "        \"round\",\n",
    "        \"series\",\n",
    "        \"tmIDWinner\",\n",
    "        \"tmIDLoser\",\n",
    "        \"W_series\",\n",
    "        \"L_series\",\n",
    "        \"franchID\",\n",
    "        \"name\",\n",
    "        \"bioID\",\n",
    "        \"coachID\",\n",
    "    ],\n",
    "    axis=1,\n",
    "    inplace=True,\n",
    ")"
   ]
  },
  {
   "cell_type": "markdown",
   "id": "e5316dc2d5d5107d",
   "metadata": {
    "collapsed": false
   },
   "source": [
    "## Feature Engineering\n"
   ]
  },
  {
   "cell_type": "code",
   "execution_count": 329,
   "id": "e7569abfac14b237",
   "metadata": {
    "collapsed": false
   },
   "outputs": [],
   "source": [
    "new_df = pd.DataFrame()\n",
    "for year in df[\"year\"].unique():\n",
    "    for team in df[\"tmID\"].unique():\n",
    "        small_df = df[(df[\"tmID\"] == team) & (df[\"year\"] == year)]\n",
    "        if small_df.empty:\n",
    "            continue\n",
    "\n",
    "        d = pd.DataFrame([small_df.iloc[0]])\n",
    "        d.fillna(0, inplace=True)\n",
    "        d[\"award_player\"] = small_df[\"award_player\"].count()\n",
    "        d[\"award_coach\"] = d[\"award_coach\"].apply(lambda i: 1 if i != 0 else 0)\n",
    "        d[\"CBE_Sum\"] = small_df[\"CBE_Sum\"].mean()\n",
    "        d[\"height\"] = small_df[\"height\"].mean()\n",
    "        d[\"weight\"] = small_df[\"weight\"].mean()\n",
    "        d[\"playersAge\"] = (2000 + df[\"year\"]) - utils.get_overall_age(\n",
    "            small_df[\"birthDate\"]\n",
    "        )\n",
    "        d.drop(\"playerID\", axis=1, inplace=True)\n",
    "        d.drop(\"birthDate\", axis=1, inplace=True)\n",
    "\n",
    "        new_df = pd.concat([new_df, d])\n",
    "\n",
    "df = new_df.sort_values(by=[\"year\", \"tmID\"])\n",
    "df.drop([\"tmID\"], axis=1, inplace=True)"
   ]
  },
  {
   "cell_type": "code",
   "execution_count": 330,
   "id": "916fd5b5b920e6b8",
   "metadata": {
    "collapsed": false
   },
   "outputs": [],
   "source": [
    "mapping = {\"L\": 1, \"W\": 1, \"N\": 0}\n",
    "\n",
    "df[\"semis\"] = df[\"semis\"].map(mapping)\n",
    "df[\"finals\"] = df[\"finals\"].map(mapping)\n",
    "df[\"firstRound\"] = df[\"firstRound\"].map(mapping)\n",
    "\n",
    "df[\"roundsPlayed\"] = df[\"semis\"] + df[\"finals\"] + df[\"firstRound\"]\n",
    "df.drop([\"semis\", \"finals\", \"firstRound\"], axis=1, inplace=True)"
   ]
  },
  {
   "cell_type": "markdown",
   "id": "bde62172d1782f5e",
   "metadata": {
    "collapsed": false
   },
   "source": [
    "## Manual Feature Selection\n"
   ]
  },
  {
   "cell_type": "code",
   "execution_count": 331,
   "id": "cd1b229ac3f2aea9",
   "metadata": {
    "collapsed": false
   },
   "outputs": [
    {
     "name": "stdout",
     "output_type": "stream",
     "text": [
      "[ year, W_team_post, L_team_post, confID, rank, playoff, o_fgm, o_fga, o_ftm, o_fta, o_3pm, o_3pa, o_oreb, o_dreb, o_reb, o_asts, o_pf, o_stl, o_to, o_blk, o_pts, d_fgm, d_fga, d_ftm, d_fta, d_3pm, d_3pa, d_oreb, d_dreb, d_reb, d_asts, d_pf, d_stl, d_to, d_blk, d_pts, won_team, lost_team, GP, homeW, homeL, awayW, awayL, confW, confL, min, attend, arena, stint, won_coach, lost_coach, post_wins, post_losses, CBE_Sum, height, weight, award_player, award_coach, playersAge, roundsPlayed ]\n"
     ]
    }
   ],
   "source": [
    "utils.print_columns(df)\n",
    "df.drop(\n",
    "    [\n",
    "        \"attend\",\n",
    "        \"arena\",\n",
    "        \"awayL\",\n",
    "        \"confL\",\n",
    "        \"homeL\",\n",
    "        \"d_oreb\",\n",
    "        \"d_dreb\",\n",
    "        \"o_oreb\",\n",
    "        \"o_dreb\",\n",
    "        \"L_team_post\",\n",
    "        \"lost_team\",\n",
    "    ],\n",
    "    axis=1,\n",
    "    inplace=True,\n",
    ")"
   ]
  },
  {
   "cell_type": "code",
   "execution_count": 332,
   "id": "e390f7c9",
   "metadata": {},
   "outputs": [],
   "source": [
    "# Assuming your DataFrame is named 'df'\n",
    "# Define weights for each statistic\n",
    "w1, w2, w3, w4 = 1, 0.8, 0.5, 0.7  # Adjust these weights based on your preferences\n",
    "\n",
    "# Calculate ATR for each row\n",
    "df[\"ATR\"] = (\n",
    "    (w1 * (df[\"o_pts\"]) - df[\"d_pts\"])\n",
    "    + (w2 * (df[\"o_reb\"] - df[\"d_reb\"]))\n",
    "    + (w3 * (df[\"o_asts\"] - df[\"d_asts\"]))\n",
    "    + (w4 * (df[\"o_fgm\"] - df[\"d_fgm\"]))\n",
    ")\n",
    "\n",
    "df.drop(\n",
    "    [\"o_pts\", \"o_reb\", \"o_asts\", \"o_fgm\", \"d_pts\", \"d_reb\", \"d_asts\", \"d_fgm\"],\n",
    "    axis=1,\n",
    "    inplace=True,\n",
    ")"
   ]
  },
  {
   "cell_type": "markdown",
   "id": "a29f9e626d27ae3a",
   "metadata": {
    "collapsed": false
   },
   "source": [
    "## Feature Encoding\n"
   ]
  },
  {
   "cell_type": "code",
   "execution_count": 333,
   "id": "1726aac6cf4543a1",
   "metadata": {
    "collapsed": false
   },
   "outputs": [],
   "source": [
    "le = LabelEncoder()\n",
    "df[target] = le.fit_transform(df[target])\n",
    "df[\"confID\"] = le.fit_transform(df[\"confID\"])\n",
    "\n",
    "key_cols = [\"confID\", \"year\", \"playoff\"]\n",
    "numerical_cols = [col for col in df.columns if col not in key_cols]"
   ]
  },
  {
   "cell_type": "markdown",
   "id": "f579f43e1b040209",
   "metadata": {
    "collapsed": false
   },
   "source": [
    "## Feature Scaling\n"
   ]
  },
  {
   "cell_type": "code",
   "execution_count": 334,
   "id": "665201a9ea284b1",
   "metadata": {
    "collapsed": false
   },
   "outputs": [
    {
     "data": {
      "text/html": [
       "<div>\n",
       "<style scoped>\n",
       "    .dataframe tbody tr th:only-of-type {\n",
       "        vertical-align: middle;\n",
       "    }\n",
       "\n",
       "    .dataframe tbody tr th {\n",
       "        vertical-align: top;\n",
       "    }\n",
       "\n",
       "    .dataframe thead th {\n",
       "        text-align: right;\n",
       "    }\n",
       "</style>\n",
       "<table border=\"1\" class=\"dataframe\">\n",
       "  <thead>\n",
       "    <tr style=\"text-align: right;\">\n",
       "      <th></th>\n",
       "      <th>year</th>\n",
       "      <th>W_team_post</th>\n",
       "      <th>confID</th>\n",
       "      <th>rank</th>\n",
       "      <th>playoff</th>\n",
       "      <th>o_fga</th>\n",
       "      <th>o_ftm</th>\n",
       "      <th>o_fta</th>\n",
       "      <th>o_3pm</th>\n",
       "      <th>o_3pa</th>\n",
       "      <th>...</th>\n",
       "      <th>post_wins</th>\n",
       "      <th>post_losses</th>\n",
       "      <th>CBE_Sum</th>\n",
       "      <th>height</th>\n",
       "      <th>weight</th>\n",
       "      <th>award_player</th>\n",
       "      <th>award_coach</th>\n",
       "      <th>playersAge</th>\n",
       "      <th>roundsPlayed</th>\n",
       "      <th>ATR</th>\n",
       "    </tr>\n",
       "  </thead>\n",
       "  <tbody>\n",
       "    <tr>\n",
       "      <th>119</th>\n",
       "      <td>2</td>\n",
       "      <td>0.000000</td>\n",
       "      <td>0</td>\n",
       "      <td>1.000000</td>\n",
       "      <td>1</td>\n",
       "      <td>0.218792</td>\n",
       "      <td>0.292537</td>\n",
       "      <td>0.261501</td>\n",
       "      <td>0.312217</td>\n",
       "      <td>0.303183</td>\n",
       "      <td>...</td>\n",
       "      <td>0.000000</td>\n",
       "      <td>0.0</td>\n",
       "      <td>0.316584</td>\n",
       "      <td>0.262097</td>\n",
       "      <td>0.330043</td>\n",
       "      <td>0.000000</td>\n",
       "      <td>0.0</td>\n",
       "      <td>0.440079</td>\n",
       "      <td>0.000000</td>\n",
       "      <td>0.255930</td>\n",
       "    </tr>\n",
       "    <tr>\n",
       "      <th>206</th>\n",
       "      <td>2</td>\n",
       "      <td>0.428571</td>\n",
       "      <td>0</td>\n",
       "      <td>0.142857</td>\n",
       "      <td>1</td>\n",
       "      <td>0.118121</td>\n",
       "      <td>0.277612</td>\n",
       "      <td>0.244552</td>\n",
       "      <td>0.357466</td>\n",
       "      <td>0.338358</td>\n",
       "      <td>...</td>\n",
       "      <td>0.428571</td>\n",
       "      <td>0.6</td>\n",
       "      <td>0.452861</td>\n",
       "      <td>0.395161</td>\n",
       "      <td>0.625732</td>\n",
       "      <td>0.000000</td>\n",
       "      <td>0.0</td>\n",
       "      <td>0.261297</td>\n",
       "      <td>0.666667</td>\n",
       "      <td>0.651684</td>\n",
       "    </tr>\n",
       "    <tr>\n",
       "      <th>372</th>\n",
       "      <td>2</td>\n",
       "      <td>0.000000</td>\n",
       "      <td>0</td>\n",
       "      <td>0.571429</td>\n",
       "      <td>0</td>\n",
       "      <td>0.322148</td>\n",
       "      <td>0.555224</td>\n",
       "      <td>0.556901</td>\n",
       "      <td>0.063348</td>\n",
       "      <td>0.113903</td>\n",
       "      <td>...</td>\n",
       "      <td>0.000000</td>\n",
       "      <td>0.0</td>\n",
       "      <td>0.147339</td>\n",
       "      <td>0.383065</td>\n",
       "      <td>0.337606</td>\n",
       "      <td>0.000000</td>\n",
       "      <td>0.0</td>\n",
       "      <td>0.385069</td>\n",
       "      <td>0.000000</td>\n",
       "      <td>0.450269</td>\n",
       "    </tr>\n",
       "    <tr>\n",
       "      <th>202</th>\n",
       "      <td>2</td>\n",
       "      <td>0.857143</td>\n",
       "      <td>1</td>\n",
       "      <td>0.142857</td>\n",
       "      <td>1</td>\n",
       "      <td>0.206711</td>\n",
       "      <td>0.561194</td>\n",
       "      <td>0.399516</td>\n",
       "      <td>0.497738</td>\n",
       "      <td>0.479062</td>\n",
       "      <td>...</td>\n",
       "      <td>0.857143</td>\n",
       "      <td>0.0</td>\n",
       "      <td>0.110306</td>\n",
       "      <td>0.410557</td>\n",
       "      <td>0.476134</td>\n",
       "      <td>0.333333</td>\n",
       "      <td>0.0</td>\n",
       "      <td>0.706376</td>\n",
       "      <td>1.000000</td>\n",
       "      <td>1.000000</td>\n",
       "    </tr>\n",
       "    <tr>\n",
       "      <th>258</th>\n",
       "      <td>2</td>\n",
       "      <td>0.000000</td>\n",
       "      <td>0</td>\n",
       "      <td>0.857143</td>\n",
       "      <td>0</td>\n",
       "      <td>0.131544</td>\n",
       "      <td>0.283582</td>\n",
       "      <td>0.242131</td>\n",
       "      <td>0.592760</td>\n",
       "      <td>0.529313</td>\n",
       "      <td>...</td>\n",
       "      <td>0.000000</td>\n",
       "      <td>0.0</td>\n",
       "      <td>0.322328</td>\n",
       "      <td>0.415633</td>\n",
       "      <td>0.436789</td>\n",
       "      <td>0.000000</td>\n",
       "      <td>0.0</td>\n",
       "      <td>0.329001</td>\n",
       "      <td>0.000000</td>\n",
       "      <td>0.431374</td>\n",
       "    </tr>\n",
       "  </tbody>\n",
       "</table>\n",
       "<p>5 rows × 42 columns</p>\n",
       "</div>"
      ],
      "text/plain": [
       "     year  W_team_post  confID      rank  playoff     o_fga     o_ftm  \\\n",
       "119     2     0.000000       0  1.000000        1  0.218792  0.292537   \n",
       "206     2     0.428571       0  0.142857        1  0.118121  0.277612   \n",
       "372     2     0.000000       0  0.571429        0  0.322148  0.555224   \n",
       "202     2     0.857143       1  0.142857        1  0.206711  0.561194   \n",
       "258     2     0.000000       0  0.857143        0  0.131544  0.283582   \n",
       "\n",
       "        o_fta     o_3pm     o_3pa  ...  post_wins  post_losses   CBE_Sum  \\\n",
       "119  0.261501  0.312217  0.303183  ...   0.000000          0.0  0.316584   \n",
       "206  0.244552  0.357466  0.338358  ...   0.428571          0.6  0.452861   \n",
       "372  0.556901  0.063348  0.113903  ...   0.000000          0.0  0.147339   \n",
       "202  0.399516  0.497738  0.479062  ...   0.857143          0.0  0.110306   \n",
       "258  0.242131  0.592760  0.529313  ...   0.000000          0.0  0.322328   \n",
       "\n",
       "       height    weight  award_player  award_coach  playersAge  roundsPlayed  \\\n",
       "119  0.262097  0.330043      0.000000          0.0    0.440079      0.000000   \n",
       "206  0.395161  0.625732      0.000000          0.0    0.261297      0.666667   \n",
       "372  0.383065  0.337606      0.000000          0.0    0.385069      0.000000   \n",
       "202  0.410557  0.476134      0.333333          0.0    0.706376      1.000000   \n",
       "258  0.415633  0.436789      0.000000          0.0    0.329001      0.000000   \n",
       "\n",
       "          ATR  \n",
       "119  0.255930  \n",
       "206  0.651684  \n",
       "372  0.450269  \n",
       "202  1.000000  \n",
       "258  0.431374  \n",
       "\n",
       "[5 rows x 42 columns]"
      ]
     },
     "execution_count": 334,
     "metadata": {},
     "output_type": "execute_result"
    }
   ],
   "source": [
    "scaler = RobustScaler()\n",
    "normalizer = MinMaxScaler()\n",
    "\n",
    "df[numerical_cols] = scaler.fit_transform(df.drop(key_cols, axis=1))\n",
    "df[numerical_cols] = normalizer.fit_transform(df.drop(key_cols, axis=1))\n",
    "df.head()"
   ]
  },
  {
   "cell_type": "markdown",
   "id": "83907c0268e8ff9",
   "metadata": {},
   "source": [
    "## Grid Search for SelectKBest and PCA\n"
   ]
  },
  {
   "cell_type": "code",
   "execution_count": 335,
   "metadata": {},
   "outputs": [],
   "source": [
    "random_state = 42"
   ]
  },
  {
   "cell_type": "markdown",
   "metadata": {},
   "source": [
    "Simple version of Grid Search for SelectKBest and PCA where the classifier is already defined.\n"
   ]
  },
  {
   "cell_type": "code",
   "execution_count": 336,
   "id": "122c54d7375b43c6",
   "metadata": {},
   "outputs": [],
   "source": [
    "# from sklearn.neural_network import MLPClassifier\n",
    "# clf = MLPClassifier(batch_size=8, max_iter=10000, random_state=random_state)\n",
    "# results = utils.grid_search_features(df, key_cols, target, clf, 10)\n",
    "# utils.display_num_features_results(results)"
   ]
  },
  {
   "cell_type": "markdown",
   "metadata": {},
   "source": [
    "In this version, we run the Grid Search for several classifiers and compare the results."
   ]
  },
  {
   "cell_type": "code",
   "execution_count": 337,
   "metadata": {},
   "outputs": [],
   "source": [
    "# classifiers = [\n",
    "#     (\"DTC\", DecisionTreeClassifier(random_state=random_state)),\n",
    "#     (\"MLP\", MLPClassifier(batch_size=8, max_iter=10000, random_state=random_state)),\n",
    "#     (\"SVM\", SVC(probability=True, random_state=random_state)),\n",
    "#     (\"RFC\", RandomForestClassifier(random_state=random_state)),\n",
    "#     (\"KNN\", KNeighborsClassifier(n_neighbors=5, weights=\"distance\")),\n",
    "#     (\"Bagging\", BaggingClassifier(random_state=random_state)),\n",
    "#     (\"AdaBoost\", AdaBoostClassifier(random_state=random_state)),\n",
    "#     (\"GradientBoosting\", GradientBoostingClassifier(random_state=random_state)),\n",
    "#     (\"ExtraTrees\", ExtraTreesClassifier(random_state=random_state)),\n",
    "#     (\"LogisticRegression\", LogisticRegression(random_state=random_state)),\n",
    "#     (\"NB\", GaussianNB()),\n",
    "# ]\n",
    "#\n",
    "# results = []\n",
    "# for classifier in classifiers:\n",
    "#     grid = utils.grid_search_features(df, key_cols, target, classifier[1], 10)\n",
    "#     results.append((classifier[0], grid[0]))\n",
    "#\n",
    "# print(results)"
   ]
  },
  {
   "cell_type": "markdown",
   "id": "3050f4bb7b83657c",
   "metadata": {
    "collapsed": false
   },
   "source": [
    "## Feature Selection\n"
   ]
  },
  {
   "cell_type": "code",
   "execution_count": 338,
   "metadata": {},
   "outputs": [],
   "source": [
    "n_features = 17\n",
    "n_components = 7\n",
    "\n",
    "df_copy = df.copy(\n",
    "    deep=True\n",
    ")  # Copy of the dataframe before we do feature selection and aggregation"
   ]
  },
  {
   "cell_type": "code",
   "execution_count": 339,
   "id": "2cb15278372dd08f",
   "metadata": {
    "collapsed": false
   },
   "outputs": [
    {
     "name": "stdout",
     "output_type": "stream",
     "text": [
      "Removed:  {'award_coach', 'o_to', 'o_fta', 'd_3pa', 'd_blk', 'weight', 'o_blk', 'd_pf', 'o_3pm', 'o_pf', 'o_3pa', 'height', 'GP', 'min', 'd_fga', 'o_stl', 'd_fta', 'd_3pm', 'd_stl', 'd_ftm', 'd_to', 'o_ftm'}\n"
     ]
    }
   ],
   "source": [
    "initial = df.columns\n",
    "df = utils.select_features(df, target, key_cols, n_features)\n",
    "\n",
    "print(\"Removed: \", set(initial) - set(df.columns))"
   ]
  },
  {
   "cell_type": "markdown",
   "id": "d296a6b4d6de4a31",
   "metadata": {
    "collapsed": false
   },
   "source": [
    "## Feature Aggregation\n"
   ]
  },
  {
   "cell_type": "code",
   "execution_count": 340,
   "id": "890af9258cd29926",
   "metadata": {
    "collapsed": false
   },
   "outputs": [
    {
     "data": {
      "image/png": "[encoded data removed]",
      "text/plain": [
       "<Figure size 640x480 with 1 Axes>"
      ]
     },
     "metadata": {},
     "output_type": "display_data"
    },
    {
     "data": {
      "image/png": "[encoded data removed]",
      "text/plain": [
       "<Figure size 640x480 with 1 Axes>"
      ]
     },
     "metadata": {},
     "output_type": "display_data"
    }
   ],
   "source": [
    "utils.plot_pca(df.drop(key_cols, axis=1))"
   ]
  },
  {
   "cell_type": "code",
   "execution_count": 341,
   "id": "2e2e1a7cbba459dd",
   "metadata": {
    "collapsed": false
   },
   "outputs": [
    {
     "name": "stdout",
     "output_type": "stream",
     "text": [
      "[ PC1, PC2, PC3, PC4, PC5, PC6, PC7, confID, year, playoff ]\n"
     ]
    }
   ],
   "source": [
    "old_df = df.copy()\n",
    "df = utils.feature_aggregation_pca(df, n_components, key_cols)\n",
    "utils.print_columns(df)"
   ]
  },
  {
   "cell_type": "markdown",
   "id": "c6e4b87fecaa05a2",
   "metadata": {
    "collapsed": false
   },
   "source": [
    "## Checking for Correlation\n"
   ]
  },
  {
   "cell_type": "code",
   "execution_count": 342,
   "id": "32af373baf158894",
   "metadata": {
    "collapsed": false
   },
   "outputs": [
    {
     "data": {
      "image/png": "[encoded data removed]",
      "text/plain": [
       "<Figure size 640x480 with 2 Axes>"
      ]
     },
     "metadata": {},
     "output_type": "display_data"
    },
    {
     "data": {
      "text/plain": [
       "<Figure size 14400x14400 with 0 Axes>"
      ]
     },
     "metadata": {},
     "output_type": "display_data"
    }
   ],
   "source": [
    "corr_excluded_cols = key_cols[:]\n",
    "corr_excluded_cols.remove(\"year\")\n",
    "utils.plot_correlation(df.drop(corr_excluded_cols, axis=1))"
   ]
  },
  {
   "cell_type": "markdown",
   "id": "a896a653564c162",
   "metadata": {
    "collapsed": false
   },
   "source": [
    "## Checking for null values\n"
   ]
  },
  {
   "cell_type": "code",
   "execution_count": 343,
   "id": "30d74de5447ce61f",
   "metadata": {
    "collapsed": false
   },
   "outputs": [
    {
     "name": "stdout",
     "output_type": "stream",
     "text": [
      "Number of null values:  0\n"
     ]
    }
   ],
   "source": [
    "print(\"Number of null values: \", df.isnull().sum().sum())"
   ]
  },
  {
   "cell_type": "markdown",
   "metadata": {},
   "source": [
    "## Creating new dataframes for each model\n"
   ]
  },
  {
   "cell_type": "code",
   "execution_count": 344,
   "metadata": {},
   "outputs": [],
   "source": [
    "import os, shutil, copy\n",
    "\n",
    "# (Model, (n_features, n_components, accuracy, f1_score, auc))\n",
    "models = [\n",
    "    (\"DTC\", (14, 2, 84.61999999999999, 87.5, 93.75)),\n",
    "    (\"MLP\", (14, 4, 100.0, 100.0, 100.0)),\n",
    "    (\"RFC\", (15, 4, 84.61999999999999, 87.5, 90.0)),\n",
    "    (\"Bagging\", (20, 14, 84.61999999999999, 87.5, 90.0)),\n",
    "    (\"AdaBoost\", (24, 4, 100.0, 100.0, 92.5)),\n",
    "    (\"GradientBoosting\", (16, 3, 100.0, 100.0, 90.0)),\n",
    "    (\"ExtraTrees\", (35, 10, 84.61999999999999, 87.5, 86.25)),\n",
    "    (\"LogisticRegression\", (15, 4, 84.61999999999999, 87.5, 90.0)),\n",
    "    (\"NB\", (17, 7, 100.0, 100.0, 100.0)),\n",
    "]\n",
    "if os.path.exists(\"../data/transformed\"):\n",
    "    shutil.rmtree(\"../data/transformed\")\n",
    "os.mkdir(\"../data/transformed\")\n",
    "for model in models:\n",
    "    df_copy1 = df_copy.copy(deep=True)\n",
    "    df_copy1 = utils.select_features(df_copy1, target, key_cols, model[1][0])\n",
    "    df_copy1 = utils.feature_aggregation_pca(df_copy1, model[1][1], key_cols)\n",
    "    df_copy1.to_csv(f\"../data/transformed/{model[0]}.csv\", index=False)"
   ]
  },
  {
   "cell_type": "markdown",
   "id": "cc17df6fcf60c960",
   "metadata": {
    "collapsed": false
   },
   "source": [
    "# Saving the data\n"
   ]
  },
  {
   "cell_type": "code",
   "execution_count": 345,
   "id": "234fac2b10833e59",
   "metadata": {
    "collapsed": false
   },
   "outputs": [],
   "source": [
    "df.to_csv(\"../data/transformed.csv\", index=False)"
   ]
  }
 ],
 "metadata": {
  "kernelspec": {
   "display_name": "Python 3",
   "language": "python",
   "name": "python3"
  },
  "language_info": {
   "codemirror_mode": {
    "name": "ipython",
    "version": 3
   },
   "file_extension": ".py",
   "mimetype": "text/x-python",
   "name": "python",
   "nbconvert_exporter": "python",
   "pygments_lexer": "ipython3",
   "version": "3.10.12"
  }
 },
 "nbformat": 4,
 "nbformat_minor": 5
}
