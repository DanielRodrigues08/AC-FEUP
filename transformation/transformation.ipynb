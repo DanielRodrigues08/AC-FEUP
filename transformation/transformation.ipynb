{
 "cells": [
  {
   "cell_type": "markdown",
   "id": "99a9ef807a24e570",
   "metadata": {
    "collapsed": false
   },
   "source": [
    "# Data Reduction and Transformation"
   ]
  },
  {
   "cell_type": "code",
   "execution_count": 41,
   "id": "359d2810715a6308",
   "metadata": {
    "ExecuteTime": {
     "end_time": "2023-11-30T16:09:35.829963306Z",
     "start_time": "2023-11-30T16:09:34.562077517Z"
    },
    "collapsed": false
   },
   "outputs": [],
   "source": [
    "import transformation_utils as utils\n",
    "import pandas as pd\n",
    "from sklearn.preprocessing import LabelEncoder, StandardScaler, MinMaxScaler, RobustScaler\n",
    "from category_encoders import BinaryEncoder\n",
    "from functools import reduce"
   ]
  },
  {
   "cell_type": "code",
   "execution_count": 42,
   "id": "c42f9fa700123399",
   "metadata": {
    "ExecuteTime": {
     "end_time": "2023-11-30T16:09:35.871642441Z",
     "start_time": "2023-11-30T16:09:35.834518007Z"
    },
    "collapsed": false
   },
   "outputs": [],
   "source": [
    "df = pd.read_csv(\"../data/integrated.csv\")\n",
    "target = 'playoff'"
   ]
  },
  {
   "cell_type": "markdown",
   "id": "a6941b471091972c",
   "metadata": {
    "collapsed": false
   },
   "source": [
    "## Eliminating Redundant Features "
   ]
  },
  {
   "cell_type": "code",
   "execution_count": 43,
   "id": "bf15b55428e81990",
   "metadata": {
    "ExecuteTime": {
     "end_time": "2023-11-30T16:09:35.872055035Z",
     "start_time": "2023-11-30T16:09:35.864723301Z"
    },
    "collapsed": false
   },
   "outputs": [],
   "source": [
    "df.drop([\"round\", \"series\", \"tmIDWinner\", \"tmIDLoser\", \"W_series\", \"L_series\", 'franchID', 'name', 'bioID'], axis=1, inplace=True)"
   ]
  },
  {
   "cell_type": "markdown",
   "id": "e5316dc2d5d5107d",
   "metadata": {
    "collapsed": false
   },
   "source": [
    "## Feature Engineering"
   ]
  },
  {
   "cell_type": "code",
   "execution_count": 44,
   "id": "e7569abfac14b237",
   "metadata": {
    "ExecuteTime": {
     "end_time": "2023-11-30T16:09:36.746102679Z",
     "start_time": "2023-11-30T16:09:35.871018341Z"
    },
    "collapsed": false
   },
   "outputs": [],
   "source": [
    "new_df = pd.DataFrame()\n",
    "for year in df['year'].unique():\n",
    "    for team in df['tmID'].unique():\n",
    "        small_df = df[(df['tmID'] == team) & (df['year'] == year)]\n",
    "        if small_df.empty:\n",
    "            continue\n",
    "\n",
    "        d = pd.DataFrame([small_df.iloc[0]])\n",
    "        d.fillna(0, inplace=True)\n",
    "        d['award_player'] = (small_df['award_player'].count())\n",
    "        d['award_coach'] = d['award_coach'].apply(lambda i: 1 if i != 0 else 0)\n",
    "        d['CBE_Sum'] = (small_df['CBE_Sum'].mean())\n",
    "        d['height'] = (small_df['height'].mean())\n",
    "        d['weight'] = (small_df['weight'].mean())\n",
    "        d['playersAge'] = (2000 + df['year']) - utils.get_overall_age(small_df['birthDate'])\n",
    "        d.drop('playerID', axis=1, inplace=True)\n",
    "        d.drop('birthDate', axis=1, inplace=True)\n",
    "\n",
    "        new_df = pd.concat([new_df, d])\n",
    "\n",
    "df = new_df.sort_values(by=['year', 'tmID'])"
   ]
  },
  {
   "cell_type": "code",
   "execution_count": 45,
   "id": "916fd5b5b920e6b8",
   "metadata": {
    "ExecuteTime": {
     "end_time": "2023-11-30T16:09:36.761384032Z",
     "start_time": "2023-11-30T16:09:36.750439891Z"
    },
    "collapsed": false
   },
   "outputs": [],
   "source": [
    "mapping = {'L': 1,\n",
    "           'W': 1,\n",
    "           'N': 0}\n",
    "\n",
    "df['semis'] = df['semis'].map(mapping)\n",
    "df['finals'] = df['finals'].map(mapping)\n",
    "df['firstRound'] = df['firstRound'].map(mapping)"
   ]
  },
  {
   "cell_type": "markdown",
   "id": "bde62172d1782f5e",
   "metadata": {
    "collapsed": false
   },
   "source": [
    "## Manual Feature Selection"
   ]
  },
  {
   "cell_type": "code",
   "execution_count": 46,
   "id": "cd1b229ac3f2aea9",
   "metadata": {
    "ExecuteTime": {
     "end_time": "2023-11-30T16:09:36.796652741Z",
     "start_time": "2023-11-30T16:09:36.755960283Z"
    },
    "collapsed": false
   },
   "outputs": [
    {
     "name": "stdout",
     "output_type": "stream",
     "text": [
      "[ year, tmID, W_team_post, L_team_post, confID, rank, playoff, firstRound, semis, finals, o_fgm, o_fga, o_ftm, o_fta, o_3pm, o_3pa, o_oreb, o_dreb, o_reb, o_asts, o_pf, o_stl, o_to, o_blk, o_pts, d_fgm, d_fga, d_ftm, d_fta, d_3pm, d_3pa, d_oreb, d_dreb, d_reb, d_asts, d_pf, d_stl, d_to, d_blk, d_pts, won_team, lost_team, GP, homeW, homeL, awayW, awayL, confW, confL, min, attend, arena, coachID, stint, won_coach, lost_coach, post_wins, post_losses, CBE_Sum, height, weight, award_player, award_coach, playersAge ]\n"
     ]
    },
    {
     "data": {
      "text/plain": [
       "Index(['year', 'tmID', 'W_team_post', 'confID', 'rank', 'playoff',\n",
       "       'firstRound', 'semis', 'finals', 'o_fgm', 'o_fga', 'o_ftm', 'o_fta',\n",
       "       'o_3pm', 'o_3pa', 'o_reb', 'o_asts', 'o_pf', 'o_stl', 'o_to', 'o_blk',\n",
       "       'o_pts', 'd_fgm', 'd_fga', 'd_ftm', 'd_fta', 'd_3pm', 'd_3pa', 'd_reb',\n",
       "       'd_asts', 'd_pf', 'd_stl', 'd_to', 'd_blk', 'd_pts', 'won_team', 'GP',\n",
       "       'homeW', 'awayW', 'confW', 'min', 'coachID', 'stint', 'won_coach',\n",
       "       'lost_coach', 'post_wins', 'post_losses', 'CBE_Sum', 'height', 'weight',\n",
       "       'award_player', 'award_coach', 'playersAge'],\n",
       "      dtype='object')"
      ]
     },
     "execution_count": 46,
     "metadata": {},
     "output_type": "execute_result"
    }
   ],
   "source": [
    "utils.print_columns(df)\n",
    "df.drop(['attend', 'arena'], axis=1, inplace=True)\n",
    "df.drop(['awayL', 'confL', \"homeL\", \"d_oreb\", \"d_dreb\", \"o_oreb\", \"o_dreb\", \"L_team_post\", \"lost_team\"], axis=1, inplace=True)\n",
    "df.columns"
   ]
  },
  {
   "cell_type": "code",
   "execution_count": 47,
   "id": "e390f7c9",
   "metadata": {
    "ExecuteTime": {
     "end_time": "2023-11-30T16:09:36.797008125Z",
     "start_time": "2023-11-30T16:09:36.780949055Z"
    }
   },
   "outputs": [],
   "source": [
    "import pandas as pd\n",
    "\n",
    "# Assuming your DataFrame is named 'df'\n",
    "# Define weights for each statistic\n",
    "w1, w2, w3, w4 = 1, 0.8, 0.5, 0.7  # Adjust these weights based on your preferences\n",
    "\n",
    "# Calculate ATR for each row\n",
    "df['ATR'] = (w1 * (df['o_pts']) - df['d_pts']) + (w2 * (df['o_reb'] - df['d_reb'])) + (w3 * (df['o_asts'] - df['d_asts'])) + (w4 * (df['o_fgm'] - df['d_fgm']))\n",
    "\n",
    "df.drop(['o_pts', 'o_reb', 'o_asts', 'o_fgm', 'd_pts', 'd_reb', 'd_asts', 'd_fgm'], axis=1, inplace=True)"
   ]
  },
  {
   "cell_type": "markdown",
   "id": "a29f9e626d27ae3a",
   "metadata": {
    "collapsed": false
   },
   "source": [
    "## Feature Encoding"
   ]
  },
  {
   "cell_type": "code",
   "execution_count": 48,
   "id": "1726aac6cf4543a1",
   "metadata": {
    "ExecuteTime": {
     "end_time": "2023-11-30T16:09:36.826040412Z",
     "start_time": "2023-11-30T16:09:36.790418134Z"
    },
    "collapsed": false
   },
   "outputs": [],
   "source": [
    "le = LabelEncoder()\n",
    "df[target] = le.fit_transform(df[target])\n",
    "df['confID'] = le.fit_transform(df['confID'])\n",
    "\n",
    "nominal_cols = ['tmID', 'coachID']\n",
    "df.drop(nominal_cols, axis=1, inplace=True)\n",
    "#encoder = BinaryEncoder(cols = nominal_cols)\n",
    "#df = encoder.fit_transform(df)\n",
    "\n",
    "df.drop(['firstRound', 'semis', 'finals'], axis=1, inplace=True)\n",
    "\n",
    "#key_cols = ['confID', 'year', 'firstRound', 'semis', 'finals', 'playoff']\n",
    "\n",
    "key_cols = ['confID', 'year', 'playoff']\n",
    "nominal_cols = [col for col in df.columns if any (map(lambda x: x in col, nominal_cols))]\n",
    "excluded_cols = nominal_cols + key_cols\n",
    "\n",
    "numerical_cols = list(set(df.columns) - set(excluded_cols))"
   ]
  },
  {
   "cell_type": "markdown",
   "id": "f579f43e1b040209",
   "metadata": {
    "collapsed": false
   },
   "source": [
    "## Feature Scaling"
   ]
  },
  {
   "cell_type": "code",
   "execution_count": 49,
   "id": "665201a9ea284b1",
   "metadata": {
    "ExecuteTime": {
     "end_time": "2023-11-30T16:09:36.872533340Z",
     "start_time": "2023-11-30T16:09:36.818514334Z"
    },
    "collapsed": false
   },
   "outputs": [
    {
     "data": {
      "text/html": [
       "<div>\n",
       "<style scoped>\n",
       "    .dataframe tbody tr th:only-of-type {\n",
       "        vertical-align: middle;\n",
       "    }\n",
       "\n",
       "    .dataframe tbody tr th {\n",
       "        vertical-align: top;\n",
       "    }\n",
       "\n",
       "    .dataframe thead th {\n",
       "        text-align: right;\n",
       "    }\n",
       "</style>\n",
       "<table border=\"1\" class=\"dataframe\">\n",
       "  <thead>\n",
       "    <tr style=\"text-align: right;\">\n",
       "      <th></th>\n",
       "      <th>year</th>\n",
       "      <th>W_team_post</th>\n",
       "      <th>confID</th>\n",
       "      <th>rank</th>\n",
       "      <th>playoff</th>\n",
       "      <th>o_fga</th>\n",
       "      <th>o_ftm</th>\n",
       "      <th>o_fta</th>\n",
       "      <th>o_3pm</th>\n",
       "      <th>o_3pa</th>\n",
       "      <th>...</th>\n",
       "      <th>lost_coach</th>\n",
       "      <th>post_wins</th>\n",
       "      <th>post_losses</th>\n",
       "      <th>CBE_Sum</th>\n",
       "      <th>height</th>\n",
       "      <th>weight</th>\n",
       "      <th>award_player</th>\n",
       "      <th>award_coach</th>\n",
       "      <th>playersAge</th>\n",
       "      <th>ATR</th>\n",
       "    </tr>\n",
       "  </thead>\n",
       "  <tbody>\n",
       "    <tr>\n",
       "      <th>119</th>\n",
       "      <td>2</td>\n",
       "      <td>0.303183</td>\n",
       "      <td>0</td>\n",
       "      <td>0.0</td>\n",
       "      <td>1</td>\n",
       "      <td>0.176471</td>\n",
       "      <td>0.413333</td>\n",
       "      <td>0.000000</td>\n",
       "      <td>0.330043</td>\n",
       "      <td>0.316584</td>\n",
       "      <td>...</td>\n",
       "      <td>0.0</td>\n",
       "      <td>0.166667</td>\n",
       "      <td>0.262097</td>\n",
       "      <td>0.000000</td>\n",
       "      <td>0.321429</td>\n",
       "      <td>0.138996</td>\n",
       "      <td>0.188172</td>\n",
       "      <td>0.0</td>\n",
       "      <td>0.440079</td>\n",
       "      <td>0.232323</td>\n",
       "    </tr>\n",
       "    <tr>\n",
       "      <th>206</th>\n",
       "      <td>2</td>\n",
       "      <td>0.338358</td>\n",
       "      <td>0</td>\n",
       "      <td>0.6</td>\n",
       "      <td>1</td>\n",
       "      <td>0.183007</td>\n",
       "      <td>0.720000</td>\n",
       "      <td>0.428571</td>\n",
       "      <td>0.625732</td>\n",
       "      <td>0.452861</td>\n",
       "      <td>...</td>\n",
       "      <td>0.0</td>\n",
       "      <td>0.250000</td>\n",
       "      <td>0.395161</td>\n",
       "      <td>0.428571</td>\n",
       "      <td>0.607143</td>\n",
       "      <td>0.625483</td>\n",
       "      <td>0.387097</td>\n",
       "      <td>0.0</td>\n",
       "      <td>0.261297</td>\n",
       "      <td>0.136364</td>\n",
       "    </tr>\n",
       "    <tr>\n",
       "      <th>372</th>\n",
       "      <td>2</td>\n",
       "      <td>0.113903</td>\n",
       "      <td>0</td>\n",
       "      <td>0.0</td>\n",
       "      <td>0</td>\n",
       "      <td>0.163399</td>\n",
       "      <td>0.580000</td>\n",
       "      <td>0.000000</td>\n",
       "      <td>0.337606</td>\n",
       "      <td>0.147339</td>\n",
       "      <td>...</td>\n",
       "      <td>0.0</td>\n",
       "      <td>0.416667</td>\n",
       "      <td>0.383065</td>\n",
       "      <td>0.000000</td>\n",
       "      <td>0.000000</td>\n",
       "      <td>0.590734</td>\n",
       "      <td>0.392473</td>\n",
       "      <td>0.0</td>\n",
       "      <td>0.385069</td>\n",
       "      <td>0.222222</td>\n",
       "    </tr>\n",
       "    <tr>\n",
       "      <th>202</th>\n",
       "      <td>2</td>\n",
       "      <td>0.479062</td>\n",
       "      <td>1</td>\n",
       "      <td>0.0</td>\n",
       "      <td>1</td>\n",
       "      <td>0.267974</td>\n",
       "      <td>0.240000</td>\n",
       "      <td>0.857143</td>\n",
       "      <td>0.476134</td>\n",
       "      <td>0.110306</td>\n",
       "      <td>...</td>\n",
       "      <td>0.0</td>\n",
       "      <td>1.000000</td>\n",
       "      <td>0.410557</td>\n",
       "      <td>0.857143</td>\n",
       "      <td>0.964286</td>\n",
       "      <td>0.347490</td>\n",
       "      <td>0.521505</td>\n",
       "      <td>0.0</td>\n",
       "      <td>0.706376</td>\n",
       "      <td>0.161616</td>\n",
       "    </tr>\n",
       "    <tr>\n",
       "      <th>258</th>\n",
       "      <td>2</td>\n",
       "      <td>0.529313</td>\n",
       "      <td>0</td>\n",
       "      <td>0.0</td>\n",
       "      <td>0</td>\n",
       "      <td>0.411765</td>\n",
       "      <td>0.466667</td>\n",
       "      <td>0.000000</td>\n",
       "      <td>0.436789</td>\n",
       "      <td>0.322328</td>\n",
       "      <td>...</td>\n",
       "      <td>0.0</td>\n",
       "      <td>0.250000</td>\n",
       "      <td>0.415633</td>\n",
       "      <td>0.000000</td>\n",
       "      <td>0.000000</td>\n",
       "      <td>0.332046</td>\n",
       "      <td>0.451613</td>\n",
       "      <td>0.0</td>\n",
       "      <td>0.329001</td>\n",
       "      <td>0.085859</td>\n",
       "    </tr>\n",
       "  </tbody>\n",
       "</table>\n",
       "<p>5 rows × 41 columns</p>\n",
       "</div>"
      ],
      "text/plain": [
       "     year  W_team_post  confID  rank  playoff     o_fga     o_ftm     o_fta  \\\n",
       "119     2     0.303183       0   0.0        1  0.176471  0.413333  0.000000   \n",
       "206     2     0.338358       0   0.6        1  0.183007  0.720000  0.428571   \n",
       "372     2     0.113903       0   0.0        0  0.163399  0.580000  0.000000   \n",
       "202     2     0.479062       1   0.0        1  0.267974  0.240000  0.857143   \n",
       "258     2     0.529313       0   0.0        0  0.411765  0.466667  0.000000   \n",
       "\n",
       "        o_3pm     o_3pa  ...  lost_coach  post_wins  post_losses   CBE_Sum  \\\n",
       "119  0.330043  0.316584  ...         0.0   0.166667     0.262097  0.000000   \n",
       "206  0.625732  0.452861  ...         0.0   0.250000     0.395161  0.428571   \n",
       "372  0.337606  0.147339  ...         0.0   0.416667     0.383065  0.000000   \n",
       "202  0.476134  0.110306  ...         0.0   1.000000     0.410557  0.857143   \n",
       "258  0.436789  0.322328  ...         0.0   0.250000     0.415633  0.000000   \n",
       "\n",
       "       height    weight  award_player  award_coach  playersAge       ATR  \n",
       "119  0.321429  0.138996      0.188172          0.0    0.440079  0.232323  \n",
       "206  0.607143  0.625483      0.387097          0.0    0.261297  0.136364  \n",
       "372  0.000000  0.590734      0.392473          0.0    0.385069  0.222222  \n",
       "202  0.964286  0.347490      0.521505          0.0    0.706376  0.161616  \n",
       "258  0.000000  0.332046      0.451613          0.0    0.329001  0.085859  \n",
       "\n",
       "[5 rows x 41 columns]"
      ]
     },
     "execution_count": 49,
     "metadata": {},
     "output_type": "execute_result"
    }
   ],
   "source": [
    "scaler = RobustScaler()\n",
    "normalizer = MinMaxScaler()\n",
    "\n",
    "df[numerical_cols] = scaler.fit_transform(df.drop(excluded_cols, axis=1))\n",
    "df[numerical_cols] = normalizer.fit_transform(df.drop(excluded_cols, axis=1))\n",
    "df.head()"
   ]
  },
  {
   "cell_type": "markdown",
   "id": "208f0bae",
   "metadata": {},
   "source": [
    "## Grid Search for SelectKBest and PCA"
   ]
  },
  {
   "cell_type": "code",
   "execution_count": 50,
   "id": "40d89e72",
   "metadata": {},
   "outputs": [],
   "source": [
    "#from sklearn.neural_network import MLPClassifier\n",
    "#from sklearn.tree import DecisionTreeClassifier\n",
    "#from sklearn.ensemble import RandomForestClassifier\n",
    "#from sklearn.svm import SVC\n",
    "#from sklearn.neighbors import KNeighborsClassifier\n",
    "#from sklearn.ensemble import BaggingClassifier, AdaBoostClassifier, GradientBoostingClassifier\n",
    "#\n",
    "#\n",
    "#classifiers = [('DTC', DecisionTreeClassifier()), ('MLP', MLPClassifier(batch_size=8, max_iter=10000, random_state=42)), ('SVM', SVC(probability=True)), ('RFC', RandomForestClassifier()), ('KNN', KNeighborsClassifier(n_neighbors = 5, weights = 'distance')), ('Bagging', BaggingClassifier()), ('AdaBoost', AdaBoostClassifier()), ('GradientBoosting', GradientBoostingClassifier())]\n",
    "#\n",
    "#results = []\n",
    "#for classifier in classifiers:\n",
    "#    grid = utils.grid_search_features(df, excluded_cols, target, classifier[1], 10)\n",
    "#    results.append((classifier[0], grid[0]))\n",
    "#\n",
    "#print(results)"
   ]
  },
  {
   "cell_type": "code",
   "execution_count": 51,
   "id": "104a898f",
   "metadata": {},
   "outputs": [],
   "source": [
    "# from sklearn.neural_network import MLPClassifier\n",
    "\n",
    "# clf = MLPClassifier(batch_size=8, max_iter=10000, random_state=42)\n",
    "# results = utils.grid_search_features(df, excluded_cols, target, clf, 10)\n",
    "# utils.display_num_features_results(results)"
   ]
  },
  {
   "cell_type": "markdown",
   "id": "3050f4bb7b83657c",
   "metadata": {
    "collapsed": false
   },
   "source": [
    "## Feature Selection"
   ]
  },
  {
   "cell_type": "code",
   "execution_count": 52,
   "id": "13cc5cd5",
   "metadata": {},
   "outputs": [
    {
     "data": {
      "text/plain": [
       "Index(['year', 'W_team_post', 'confID', 'rank', 'playoff', 'o_fga', 'o_ftm',\n",
       "       'o_fta', 'o_3pm', 'o_3pa', 'o_pf', 'o_stl', 'o_to', 'o_blk', 'd_fga',\n",
       "       'd_ftm', 'd_fta', 'd_3pm', 'd_3pa', 'd_pf', 'd_stl', 'd_to', 'd_blk',\n",
       "       'won_team', 'GP', 'homeW', 'awayW', 'confW', 'min', 'stint',\n",
       "       'won_coach', 'lost_coach', 'post_wins', 'post_losses', 'CBE_Sum',\n",
       "       'height', 'weight', 'award_player', 'award_coach', 'playersAge', 'ATR'],\n",
       "      dtype='object')"
      ]
     },
     "execution_count": 52,
     "metadata": {},
     "output_type": "execute_result"
    }
   ],
   "source": [
    "df.columns"
   ]
  },
  {
   "cell_type": "code",
   "execution_count": 53,
   "id": "2cb15278372dd08f",
   "metadata": {
    "ExecuteTime": {
     "end_time": "2023-11-30T16:09:36.872983394Z",
     "start_time": "2023-11-30T16:09:36.861911235Z"
    },
    "collapsed": false
   },
   "outputs": [
    {
     "name": "stdout",
     "output_type": "stream",
     "text": [
      "Removed:  {'GP', 'awayW', 'o_ftm', 'ATR', 'W_team_post', 'd_3pa', 'o_stl', 'won_team', 'min', 'award_player', 'post_losses', 'lost_coach', 'o_3pm', 'o_to', 'o_fga', 'confW', 'o_blk', 'award_coach', 'd_to', 'homeW', 'd_3pm', 'd_fta', 'd_stl', 'd_fga', 'weight'}\n"
     ]
    }
   ],
   "source": [
    "initial = df.columns\n",
    "df = utils.select_features(df, target, excluded_cols, 13)\n",
    "\n",
    "print(\"Removed: \", set(initial) - set(df.columns))"
   ]
  },
  {
   "cell_type": "code",
   "execution_count": 54,
   "id": "56f1dd0d682c9607",
   "metadata": {
    "ExecuteTime": {
     "end_time": "2023-11-30T16:09:36.948389381Z",
     "start_time": "2023-11-30T16:09:36.905957630Z"
    },
    "collapsed": false
   },
   "outputs": [
    {
     "name": "stdout",
     "output_type": "stream",
     "text": [
      "Number of null values:  0\n"
     ]
    }
   ],
   "source": [
    "print(\"Number of null values: \", df.isnull().sum().sum())"
   ]
  },
  {
   "cell_type": "code",
   "execution_count": 55,
   "id": "b7666109",
   "metadata": {
    "ExecuteTime": {
     "end_time": "2023-11-30T16:09:36.948922001Z",
     "start_time": "2023-11-30T16:09:36.906203132Z"
    }
   },
   "outputs": [
    {
     "data": {
      "text/plain": [
       "Index(['d_pf', 'd_blk', 'o_pf', 'rank', 'o_3pa', 'won_coach', 'post_wins',\n",
       "       'd_ftm', 'height', 'playoff', 'CBE_Sum', 'o_fta', 'year', 'stint',\n",
       "       'playersAge', 'confID'],\n",
       "      dtype='object')"
      ]
     },
     "execution_count": 55,
     "metadata": {},
     "output_type": "execute_result"
    }
   ],
   "source": [
    "df.columns"
   ]
  },
  {
   "cell_type": "markdown",
   "id": "d296a6b4d6de4a31",
   "metadata": {
    "collapsed": false
   },
   "source": [
    "## Feature Aggregation"
   ]
  },
  {
   "cell_type": "code",
   "execution_count": 56,
   "id": "890af9258cd29926",
   "metadata": {
    "ExecuteTime": {
     "end_time": "2023-11-30T16:09:37.244198417Z",
     "start_time": "2023-11-30T16:09:36.906374667Z"
    },
    "collapsed": false
   },
   "outputs": [
    {
     "data": {
      "image/png": "[encoded data removed]",
      "text/plain": [
       "<Figure size 640x480 with 1 Axes>"
      ]
     },
     "metadata": {},
     "output_type": "display_data"
    },
    {
     "data": {
      "image/png": "[encoded data removed]",
      "text/plain": [
       "<Figure size 640x480 with 1 Axes>"
      ]
     },
     "metadata": {},
     "output_type": "display_data"
    }
   ],
   "source": [
    "utils.plot_pca(df.drop(excluded_cols, axis=1))"
   ]
  },
  {
   "cell_type": "code",
   "execution_count": 57,
   "id": "2e2e1a7cbba459dd",
   "metadata": {
    "ExecuteTime": {
     "end_time": "2023-11-30T16:09:37.244802659Z",
     "start_time": "2023-11-30T16:09:37.234047346Z"
    },
    "collapsed": false
   },
   "outputs": [
    {
     "name": "stdout",
     "output_type": "stream",
     "text": [
      "[ PC1, PC2, PC3, PC4, confID, year, playoff ]\n"
     ]
    }
   ],
   "source": [
    "n_components = 4\n",
    "old_df = df.copy()\n",
    "df = utils.feature_aggregation_pca(df, n_components, excluded_cols)\n",
    "utils.print_columns(df)"
   ]
  },
  {
   "cell_type": "markdown",
   "id": "c6e4b87fecaa05a2",
   "metadata": {
    "collapsed": false
   },
   "source": [
    "## Checking for Correlation"
   ]
  },
  {
   "cell_type": "code",
   "execution_count": 58,
   "id": "32af373baf158894",
   "metadata": {
    "ExecuteTime": {
     "end_time": "2023-11-30T16:09:37.956410367Z",
     "start_time": "2023-11-30T16:09:37.234316269Z"
    },
    "collapsed": false
   },
   "outputs": [
    {
     "data": {
      "image/png": "[encoded data removed]",
      "text/plain": [
       "<Figure size 640x480 with 2 Axes>"
      ]
     },
     "metadata": {},
     "output_type": "display_data"
    },
    {
     "data": {
      "text/plain": [
       "<Figure size 14400x14400 with 0 Axes>"
      ]
     },
     "metadata": {},
     "output_type": "display_data"
    }
   ],
   "source": [
    "excluded_cols.remove(\"year\")\n",
    "utils.plot_correlation(df.drop(excluded_cols, axis=1))\n"
   ]
  },
  {
   "cell_type": "markdown",
   "id": "a896a653564c162",
   "metadata": {
    "collapsed": false
   },
   "source": [
    "## Checking for null values"
   ]
  },
  {
   "cell_type": "code",
   "execution_count": 59,
   "id": "30d74de5447ce61f",
   "metadata": {
    "ExecuteTime": {
     "end_time": "2023-11-30T16:09:37.956924275Z",
     "start_time": "2023-11-30T16:09:37.946903211Z"
    },
    "collapsed": false
   },
   "outputs": [
    {
     "name": "stdout",
     "output_type": "stream",
     "text": [
      "Number of null values:  0\n"
     ]
    }
   ],
   "source": [
    "print(\"Number of null values: \", df.isnull().sum().sum())"
   ]
  },
  {
   "cell_type": "markdown",
   "id": "cc17df6fcf60c960",
   "metadata": {
    "collapsed": false
   },
   "source": [
    "# Saving the data"
   ]
  },
  {
   "cell_type": "code",
   "execution_count": 60,
   "id": "234fac2b10833e59",
   "metadata": {
    "ExecuteTime": {
     "end_time": "2023-11-30T16:09:38.094873317Z",
     "start_time": "2023-11-30T16:09:37.950897708Z"
    },
    "collapsed": false
   },
   "outputs": [],
   "source": [
    "df.to_csv(\"../data/transformed.csv\", index=False)"
   ]
  }
 ],
 "metadata": {
  "kernelspec": {
   "display_name": "Python 3",
   "language": "python",
   "name": "python3"
  },
  "language_info": {
   "codemirror_mode": {
    "name": "ipython",
    "version": 3
   },
   "file_extension": ".py",
   "mimetype": "text/x-python",
   "name": "python",
   "nbconvert_exporter": "python",
   "pygments_lexer": "ipython3",
   "version": "3.10.10"
  }
 },
 "nbformat": 4,
 "nbformat_minor": 5
}
