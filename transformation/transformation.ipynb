{
 "cells": [
  {
   "cell_type": "markdown",
   "id": "99a9ef807a24e570",
   "metadata": {
    "collapsed": false
   },
   "source": [
    "# Data Reduction and Transformation"
   ]
  },
  {
   "cell_type": "code",
   "execution_count": 152,
   "id": "359d2810715a6308",
   "metadata": {
    "ExecuteTime": {
     "end_time": "2023-11-23T21:29:30.130850261Z",
     "start_time": "2023-11-23T21:29:30.063978645Z"
    },
    "collapsed": false
   },
   "outputs": [],
   "source": [
    "import transformation_utils as utils\n",
    "import pandas as pd\n",
    "from sklearn.preprocessing import LabelEncoder, StandardScaler, MinMaxScaler, RobustScaler\n",
    "from category_encoders import BinaryEncoder\n",
    "from functools import reduce"
   ]
  },
  {
   "cell_type": "code",
   "execution_count": 153,
   "id": "c42f9fa700123399",
   "metadata": {
    "collapsed": false,
    "is_executing": true
   },
   "outputs": [],
   "source": [
    "df = pd.read_csv(\"../data/integrated.csv\")\n",
    "target = 'playoff'"
   ]
  },
  {
   "cell_type": "markdown",
   "id": "a6941b471091972c",
   "metadata": {
    "collapsed": false
   },
   "source": [
    "## Eliminating Redundant Features "
   ]
  },
  {
   "cell_type": "code",
   "execution_count": 154,
   "id": "bf15b55428e81990",
   "metadata": {
    "ExecuteTime": {
     "start_time": "2023-11-23T21:29:30.105422823Z"
    },
    "collapsed": false,
    "is_executing": true
   },
   "outputs": [],
   "source": [
    "df.drop([\"round\", \"series\", \"tmIDWinner\", \"tmIDLoser\", \"W_series\", \"L_series\", 'franchID', 'name'], axis=1, inplace=True)"
   ]
  },
  {
   "cell_type": "markdown",
   "id": "e5316dc2d5d5107d",
   "metadata": {
    "collapsed": false
   },
   "source": [
    "## Feature Engineering"
   ]
  },
  {
   "cell_type": "code",
   "execution_count": 155,
   "id": "e7569abfac14b237",
   "metadata": {
    "ExecuteTime": {
     "end_time": "2023-11-23T21:29:30.966253648Z",
     "start_time": "2023-11-23T21:29:30.154365902Z"
    },
    "collapsed": false
   },
   "outputs": [],
   "source": [
    "new_df = pd.DataFrame()\n",
    "for year in df['year'].unique():\n",
    "    for team in df['tmID'].unique():\n",
    "        small_df = df[(df['tmID'] == team) & (df['year'] == year)]\n",
    "        if small_df.empty:\n",
    "            continue\n",
    "\n",
    "        d = pd.DataFrame([small_df.iloc[0]])\n",
    "        d.fillna(0, inplace=True)\n",
    "        d['award_player'] = (small_df['award_player'].count())\n",
    "        d['award_coach'] = d['award_coach'].apply(lambda i: 1 if i != 0 else 0)\n",
    "        d['CBE_Sum'] = (small_df['CBE_Sum'].mean())\n",
    "        d['height'] = (small_df['height'].mean())\n",
    "        d['weight'] = (small_df['weight'].mean())\n",
    "        d['playersAge'] = (2000 + df['year']) - utils.get_overall_age(small_df['birthDate'])\n",
    "        d.drop('playerID', axis=1, inplace=True)\n",
    "        d.drop('birthDate', axis=1, inplace=True)\n",
    "\n",
    "        new_df = pd.concat([new_df, d])\n",
    "\n",
    "df = new_df.sort_values(by=['year', 'tmID'])"
   ]
  },
  {
   "cell_type": "code",
   "execution_count": 156,
   "id": "916fd5b5b920e6b8",
   "metadata": {
    "ExecuteTime": {
     "end_time": "2023-11-23T21:29:30.973436878Z",
     "start_time": "2023-11-23T21:29:30.971081134Z"
    },
    "collapsed": false
   },
   "outputs": [],
   "source": [
    "mapping = {'L': 1,\n",
    "           'W': 1,\n",
    "           'N': 0}\n",
    "\n",
    "df['semis'] = df['semis'].map(mapping)\n",
    "df['finals'] = df['finals'].map(mapping)\n",
    "df['firstRound'] = df['firstRound'].map(mapping)"
   ]
  },
  {
   "cell_type": "markdown",
   "id": "bde62172d1782f5e",
   "metadata": {
    "collapsed": false
   },
   "source": [
    "## Manual Feature Selection"
   ]
  },
  {
   "cell_type": "code",
   "execution_count": 157,
   "id": "cd1b229ac3f2aea9",
   "metadata": {
    "ExecuteTime": {
     "end_time": "2023-11-23T21:29:30.988168939Z",
     "start_time": "2023-11-23T21:29:30.974241926Z"
    },
    "collapsed": false
   },
   "outputs": [
    {
     "name": "stdout",
     "output_type": "stream",
     "text": [
      "[ year, tmID, W_team_post, L_team_post, confID, rank, playoff, firstRound, semis, finals, o_fgm, o_fga, o_ftm, o_fta, o_3pm, o_3pa, o_oreb, o_dreb, o_reb, o_asts, o_pf, o_stl, o_to, o_blk, o_pts, d_fgm, d_fga, d_ftm, d_fta, d_3pm, d_3pa, d_oreb, d_dreb, d_reb, d_asts, d_pf, d_stl, d_to, d_blk, d_pts, won_team, lost_team, GP, homeW, homeL, awayW, awayL, confW, confL, min, attend, arena, coachID, stint, won_coach, lost_coach, post_wins, post_losses, CBE_Sum, height, weight, award_player, award_coach, playersAge ]\n"
     ]
    },
    {
     "data": {
      "text/plain": [
       "Index(['year', 'tmID', 'W_team_post', 'confID', 'rank', 'playoff',\n",
       "       'firstRound', 'semis', 'finals', 'o_fgm', 'o_fga', 'o_ftm', 'o_fta',\n",
       "       'o_3pm', 'o_3pa', 'o_reb', 'o_asts', 'o_pf', 'o_stl', 'o_to', 'o_blk',\n",
       "       'o_pts', 'd_fgm', 'd_fga', 'd_ftm', 'd_fta', 'd_3pm', 'd_3pa', 'd_reb',\n",
       "       'd_asts', 'd_pf', 'd_stl', 'd_to', 'd_blk', 'd_pts', 'won_team', 'GP',\n",
       "       'homeW', 'awayW', 'confW', 'min', 'coachID', 'stint', 'won_coach',\n",
       "       'lost_coach', 'post_wins', 'post_losses', 'CBE_Sum', 'height', 'weight',\n",
       "       'award_player', 'award_coach', 'playersAge'],\n",
       "      dtype='object')"
      ]
     },
     "execution_count": 157,
     "metadata": {},
     "output_type": "execute_result"
    }
   ],
   "source": [
    "utils.print_columns(df)\n",
    "df.drop(['attend', 'arena'], axis=1, inplace=True)\n",
    "df.drop(['awayL', 'confL', \"homeL\", \"d_oreb\", \"d_dreb\", \"o_oreb\", \"o_dreb\", \"L_team_post\", \"lost_team\"], axis=1, inplace=True)\n",
    "df.columns"
   ]
  },
  {
   "cell_type": "code",
   "execution_count": 158,
   "id": "e390f7c9",
   "metadata": {},
   "outputs": [],
   "source": [
    "import pandas as pd\n",
    "\n",
    "# Assuming your DataFrame is named 'df'\n",
    "# Define weights for each statistic\n",
    "w1, w2, w3, w4 = 1, 0.8, 0.5, 0.7  # Adjust these weights based on your preferences\n",
    "\n",
    "# Calculate ATR for each row\n",
    "df['ATR'] = (w1 * (df['o_pts']) - df['d_pts']) + (w2 * (df['o_reb'] - df['d_reb'])) + (w3 * (df['o_asts'] - df['d_asts'])) + (w4 * (df['o_fgm'] - df['d_fgm']))\n",
    "\n",
    "df.drop(['o_pts', 'o_reb', 'o_asts', 'o_fgm', 'd_pts', 'd_reb', 'd_asts', 'd_fgm'], axis=1, inplace=True)"
   ]
  },
  {
   "cell_type": "markdown",
   "id": "a29f9e626d27ae3a",
   "metadata": {
    "collapsed": false
   },
   "source": [
    "## Feature Encoding"
   ]
  },
  {
   "cell_type": "code",
   "execution_count": 159,
   "id": "1726aac6cf4543a1",
   "metadata": {
    "ExecuteTime": {
     "end_time": "2023-11-23T21:29:31.015338306Z",
     "start_time": "2023-11-23T21:29:30.983517058Z"
    },
    "collapsed": false
   },
   "outputs": [],
   "source": [
    "le = LabelEncoder()\n",
    "df[target] = le.fit_transform(df[target])\n",
    "df['confID'] = le.fit_transform(df['confID'])\n",
    "\n",
    "nominal_cols = ['tmID', 'coachID']\n",
    "encoder = BinaryEncoder(cols = nominal_cols)\n",
    "df = encoder.fit_transform(df)\n",
    "\n",
    "key_cols = ['confID', 'year', 'firstRound', 'semis', 'finals', 'playoff']\n",
    "nominal_cols = [col for col in df.columns if any (map(lambda x: x in col, nominal_cols))]\n",
    "excluded_cols = nominal_cols + key_cols\n",
    "\n",
    "numerical_cols = list(set(df.columns) - set(excluded_cols))"
   ]
  },
  {
   "cell_type": "markdown",
   "id": "f579f43e1b040209",
   "metadata": {
    "collapsed": false
   },
   "source": [
    "## Feature Scaling"
   ]
  },
  {
   "cell_type": "code",
   "execution_count": 160,
   "id": "665201a9ea284b1",
   "metadata": {
    "ExecuteTime": {
     "end_time": "2023-11-23T21:29:31.059188763Z",
     "start_time": "2023-11-23T21:29:31.013414281Z"
    },
    "collapsed": false
   },
   "outputs": [
    {
     "data": {
      "text/html": [
       "<div>\n",
       "<style scoped>\n",
       "    .dataframe tbody tr th:only-of-type {\n",
       "        vertical-align: middle;\n",
       "    }\n",
       "\n",
       "    .dataframe tbody tr th {\n",
       "        vertical-align: top;\n",
       "    }\n",
       "\n",
       "    .dataframe thead th {\n",
       "        text-align: right;\n",
       "    }\n",
       "</style>\n",
       "<table border=\"1\" class=\"dataframe\">\n",
       "  <thead>\n",
       "    <tr style=\"text-align: right;\">\n",
       "      <th></th>\n",
       "      <th>year</th>\n",
       "      <th>tmID_0</th>\n",
       "      <th>tmID_1</th>\n",
       "      <th>tmID_2</th>\n",
       "      <th>tmID_3</th>\n",
       "      <th>tmID_4</th>\n",
       "      <th>W_team_post</th>\n",
       "      <th>confID</th>\n",
       "      <th>rank</th>\n",
       "      <th>playoff</th>\n",
       "      <th>...</th>\n",
       "      <th>lost_coach</th>\n",
       "      <th>post_wins</th>\n",
       "      <th>post_losses</th>\n",
       "      <th>CBE_Sum</th>\n",
       "      <th>height</th>\n",
       "      <th>weight</th>\n",
       "      <th>award_player</th>\n",
       "      <th>award_coach</th>\n",
       "      <th>playersAge</th>\n",
       "      <th>ATR</th>\n",
       "    </tr>\n",
       "  </thead>\n",
       "  <tbody>\n",
       "    <tr>\n",
       "      <th>85</th>\n",
       "      <td>2</td>\n",
       "      <td>0</td>\n",
       "      <td>0</td>\n",
       "      <td>0</td>\n",
       "      <td>0</td>\n",
       "      <td>1</td>\n",
       "      <td>0.557377</td>\n",
       "      <td>0</td>\n",
       "      <td>0.166667</td>\n",
       "      <td>1</td>\n",
       "      <td>...</td>\n",
       "      <td>0.209581</td>\n",
       "      <td>0.0</td>\n",
       "      <td>0.303183</td>\n",
       "      <td>0.232323</td>\n",
       "      <td>0.440079</td>\n",
       "      <td>0.321429</td>\n",
       "      <td>0.292537</td>\n",
       "      <td>0.262097</td>\n",
       "      <td>0.384279</td>\n",
       "      <td>0.000000</td>\n",
       "    </tr>\n",
       "    <tr>\n",
       "      <th>169</th>\n",
       "      <td>2</td>\n",
       "      <td>0</td>\n",
       "      <td>0</td>\n",
       "      <td>0</td>\n",
       "      <td>1</td>\n",
       "      <td>0</td>\n",
       "      <td>0.284836</td>\n",
       "      <td>0</td>\n",
       "      <td>0.541667</td>\n",
       "      <td>1</td>\n",
       "      <td>...</td>\n",
       "      <td>0.431138</td>\n",
       "      <td>0.0</td>\n",
       "      <td>0.338358</td>\n",
       "      <td>0.136364</td>\n",
       "      <td>0.261297</td>\n",
       "      <td>0.607143</td>\n",
       "      <td>0.277612</td>\n",
       "      <td>0.395161</td>\n",
       "      <td>0.567686</td>\n",
       "      <td>0.428571</td>\n",
       "    </tr>\n",
       "    <tr>\n",
       "      <th>337</th>\n",
       "      <td>2</td>\n",
       "      <td>0</td>\n",
       "      <td>0</td>\n",
       "      <td>0</td>\n",
       "      <td>1</td>\n",
       "      <td>1</td>\n",
       "      <td>0.426230</td>\n",
       "      <td>0</td>\n",
       "      <td>0.416667</td>\n",
       "      <td>0</td>\n",
       "      <td>...</td>\n",
       "      <td>0.437126</td>\n",
       "      <td>0.0</td>\n",
       "      <td>0.113903</td>\n",
       "      <td>0.222222</td>\n",
       "      <td>0.385069</td>\n",
       "      <td>0.000000</td>\n",
       "      <td>0.555224</td>\n",
       "      <td>0.383065</td>\n",
       "      <td>0.532751</td>\n",
       "      <td>0.000000</td>\n",
       "    </tr>\n",
       "    <tr>\n",
       "      <th>165</th>\n",
       "      <td>2</td>\n",
       "      <td>0</td>\n",
       "      <td>0</td>\n",
       "      <td>1</td>\n",
       "      <td>0</td>\n",
       "      <td>0</td>\n",
       "      <td>0.131148</td>\n",
       "      <td>1</td>\n",
       "      <td>0.958333</td>\n",
       "      <td>1</td>\n",
       "      <td>...</td>\n",
       "      <td>0.580838</td>\n",
       "      <td>0.0</td>\n",
       "      <td>0.479062</td>\n",
       "      <td>0.161616</td>\n",
       "      <td>0.706376</td>\n",
       "      <td>0.964286</td>\n",
       "      <td>0.561194</td>\n",
       "      <td>0.410557</td>\n",
       "      <td>0.139738</td>\n",
       "      <td>0.857143</td>\n",
       "    </tr>\n",
       "    <tr>\n",
       "      <th>228</th>\n",
       "      <td>2</td>\n",
       "      <td>0</td>\n",
       "      <td>0</td>\n",
       "      <td>1</td>\n",
       "      <td>0</td>\n",
       "      <td>1</td>\n",
       "      <td>0.461066</td>\n",
       "      <td>0</td>\n",
       "      <td>0.208333</td>\n",
       "      <td>0</td>\n",
       "      <td>...</td>\n",
       "      <td>0.502994</td>\n",
       "      <td>0.0</td>\n",
       "      <td>0.529313</td>\n",
       "      <td>0.085859</td>\n",
       "      <td>0.329001</td>\n",
       "      <td>0.000000</td>\n",
       "      <td>0.283582</td>\n",
       "      <td>0.415633</td>\n",
       "      <td>0.480349</td>\n",
       "      <td>0.000000</td>\n",
       "    </tr>\n",
       "  </tbody>\n",
       "</table>\n",
       "<p>5 rows × 55 columns</p>\n",
       "</div>"
      ],
      "text/plain": [
       "     year  tmID_0  tmID_1  tmID_2  tmID_3  tmID_4  W_team_post  confID  \\\n",
       "85      2       0       0       0       0       1     0.557377       0   \n",
       "169     2       0       0       0       1       0     0.284836       0   \n",
       "337     2       0       0       0       1       1     0.426230       0   \n",
       "165     2       0       0       1       0       0     0.131148       1   \n",
       "228     2       0       0       1       0       1     0.461066       0   \n",
       "\n",
       "         rank  playoff  ...  lost_coach  post_wins  post_losses   CBE_Sum  \\\n",
       "85   0.166667        1  ...    0.209581        0.0     0.303183  0.232323   \n",
       "169  0.541667        1  ...    0.431138        0.0     0.338358  0.136364   \n",
       "337  0.416667        0  ...    0.437126        0.0     0.113903  0.222222   \n",
       "165  0.958333        1  ...    0.580838        0.0     0.479062  0.161616   \n",
       "228  0.208333        0  ...    0.502994        0.0     0.529313  0.085859   \n",
       "\n",
       "       height    weight  award_player  award_coach  playersAge       ATR  \n",
       "85   0.440079  0.321429      0.292537     0.262097    0.384279  0.000000  \n",
       "169  0.261297  0.607143      0.277612     0.395161    0.567686  0.428571  \n",
       "337  0.385069  0.000000      0.555224     0.383065    0.532751  0.000000  \n",
       "165  0.706376  0.964286      0.561194     0.410557    0.139738  0.857143  \n",
       "228  0.329001  0.000000      0.283582     0.415633    0.480349  0.000000  \n",
       "\n",
       "[5 rows x 55 columns]"
      ]
     },
     "execution_count": 160,
     "metadata": {},
     "output_type": "execute_result"
    }
   ],
   "source": [
    "scaler = RobustScaler()\n",
    "normalizer = MinMaxScaler()\n",
    "\n",
    "df[numerical_cols] = scaler.fit_transform(df.drop(excluded_cols, axis=1))\n",
    "df[numerical_cols] = normalizer.fit_transform(df.drop(excluded_cols, axis=1))\n",
    "df.head()"
   ]
  },
  {
   "cell_type": "markdown",
   "id": "3050f4bb7b83657c",
   "metadata": {
    "collapsed": false
   },
   "source": [
    "## Feature Selection"
   ]
  },
  {
   "cell_type": "code",
   "execution_count": 161,
   "id": "2cb15278372dd08f",
   "metadata": {
    "ExecuteTime": {
     "end_time": "2023-11-23T21:29:31.151241335Z",
     "start_time": "2023-11-23T21:29:31.106261018Z"
    },
    "collapsed": false
   },
   "outputs": [
    {
     "name": "stdout",
     "output_type": "stream",
     "text": [
      "Removed:  {'o_pf', 'W_team_post', 'award_coach', 'lost_coach', 'playersAge'}\n"
     ]
    }
   ],
   "source": [
    "initial = df.columns\n",
    "df = utils.select_features(df, target, excluded_cols)\n",
    "\n",
    "print(\"Removed: \", set(initial) - set(df.columns))"
   ]
  },
  {
   "cell_type": "code",
   "execution_count": 162,
   "id": "56f1dd0d682c9607",
   "metadata": {
    "ExecuteTime": {
     "end_time": "2023-11-23T21:29:31.151565066Z",
     "start_time": "2023-11-23T21:29:31.106534245Z"
    },
    "collapsed": false
   },
   "outputs": [
    {
     "name": "stdout",
     "output_type": "stream",
     "text": [
      "Number of null values:  0\n"
     ]
    }
   ],
   "source": [
    "print(\"Number of null values: \", df.isnull().sum().sum())"
   ]
  },
  {
   "cell_type": "code",
   "execution_count": 163,
   "id": "b7666109",
   "metadata": {},
   "outputs": [
    {
     "data": {
      "text/plain": [
       "Index(['tmID_4', 'o_3pm', 'd_fga', 'd_3pm', 'CBE_Sum', 'o_to', 'ATR',\n",
       "       'firstRound', 'd_3pa', 'tmID_0', 'coachID_4', 'homeW', 'tmID_3',\n",
       "       'confW', 'confID', 'finals', 'o_fga', 'won_coach', 'coachID_1',\n",
       "       'height', 'weight', 'o_ftm', 'coachID_3', 'year', 'post_losses',\n",
       "       'playoff', 'd_to', 'o_3pa', 'GP', 'min', 'post_wins', 'won_team',\n",
       "       'coachID_2', 'tmID_1', 'coachID_0', 'o_blk', 'o_fta', 'd_stl', 'd_fta',\n",
       "       'd_pf', 'rank', 'stint', 'award_player', 'awayW', 'tmID_2', 'o_stl',\n",
       "       'd_ftm', 'semis', 'coachID_5', 'd_blk'],\n",
       "      dtype='object')"
      ]
     },
     "execution_count": 163,
     "metadata": {},
     "output_type": "execute_result"
    }
   ],
   "source": [
    "df.columns"
   ]
  },
  {
   "cell_type": "markdown",
   "id": "d296a6b4d6de4a31",
   "metadata": {
    "collapsed": false
   },
   "source": [
    "## Feature Aggregation"
   ]
  },
  {
   "cell_type": "code",
   "execution_count": 164,
   "id": "890af9258cd29926",
   "metadata": {
    "ExecuteTime": {
     "end_time": "2023-11-23T21:29:31.478680372Z",
     "start_time": "2023-11-23T21:29:31.106704189Z"
    },
    "collapsed": false
   },
   "outputs": [
    {
     "data": {
      "image/png": "[encoded data removed]",
      "text/plain": [
       "<Figure size 640x480 with 1 Axes>"
      ]
     },
     "metadata": {},
     "output_type": "display_data"
    },
    {
     "data": {
      "image/png": "[encoded data removed]",
      "text/plain": [
       "<Figure size 640x480 with 1 Axes>"
      ]
     },
     "metadata": {},
     "output_type": "display_data"
    }
   ],
   "source": [
    "utils.plot_pca(df.drop(excluded_cols, axis=1))"
   ]
  },
  {
   "cell_type": "code",
   "execution_count": 165,
   "id": "2e2e1a7cbba459dd",
   "metadata": {
    "ExecuteTime": {
     "end_time": "2023-11-23T21:29:31.479005790Z",
     "start_time": "2023-11-23T21:29:31.470291059Z"
    },
    "collapsed": false
   },
   "outputs": [
    {
     "name": "stdout",
     "output_type": "stream",
     "text": [
      "[ PC1, PC2, PC3, PC4, PC5, PC6, PC7, PC8, tmID_0, tmID_1, tmID_2, tmID_3, tmID_4, coachID_0, coachID_1, coachID_2, coachID_3, coachID_4, coachID_5, confID, year, firstRound, semis, finals, playoff ]\n"
     ]
    }
   ],
   "source": [
    "n_components = 8\n",
    "old_df = df.copy()\n",
    "df = utils.feature_aggregation_pca(df, n_components, excluded_cols)\n",
    "utils.print_columns(df)"
   ]
  },
  {
   "cell_type": "markdown",
   "id": "c6e4b87fecaa05a2",
   "metadata": {
    "collapsed": false
   },
   "source": [
    "## Checking for Correlation"
   ]
  },
  {
   "cell_type": "code",
   "execution_count": 166,
   "id": "32af373baf158894",
   "metadata": {
    "ExecuteTime": {
     "end_time": "2023-11-23T21:29:31.739709119Z",
     "start_time": "2023-11-23T21:29:31.470482912Z"
    },
    "collapsed": false
   },
   "outputs": [
    {
     "data": {
      "image/png": "[encoded data removed]",
      "text/plain": [
       "<Figure size 640x480 with 2 Axes>"
      ]
     },
     "metadata": {},
     "output_type": "display_data"
    },
    {
     "data": {
      "text/plain": [
       "<Figure size 14400x14400 with 0 Axes>"
      ]
     },
     "metadata": {},
     "output_type": "display_data"
    }
   ],
   "source": [
    "excluded_cols.remove(\"year\")\n",
    "utils.plot_correlation(df.drop(excluded_cols, axis=1))\n"
   ]
  },
  {
   "cell_type": "markdown",
   "id": "a896a653564c162",
   "metadata": {
    "collapsed": false
   },
   "source": [
    "## Checking for null values"
   ]
  },
  {
   "cell_type": "code",
   "execution_count": 167,
   "id": "30d74de5447ce61f",
   "metadata": {
    "ExecuteTime": {
     "end_time": "2023-11-23T21:29:31.742152727Z",
     "start_time": "2023-11-23T21:29:31.738449224Z"
    },
    "collapsed": false
   },
   "outputs": [
    {
     "name": "stdout",
     "output_type": "stream",
     "text": [
      "Number of null values:  0\n"
     ]
    }
   ],
   "source": [
    "print(\"Number of null values: \", df.isnull().sum().sum())"
   ]
  },
  {
   "cell_type": "markdown",
   "id": "cc17df6fcf60c960",
   "metadata": {
    "collapsed": false
   },
   "source": [
    "# Saving the data"
   ]
  },
  {
   "cell_type": "code",
   "execution_count": 168,
   "id": "234fac2b10833e59",
   "metadata": {
    "ExecuteTime": {
     "end_time": "2023-11-23T21:29:31.820078530Z",
     "start_time": "2023-11-23T21:29:31.743722919Z"
    },
    "collapsed": false
   },
   "outputs": [],
   "source": [
    "df.to_csv(\"../data/transformed.csv\", index=False)"
   ]
  }
 ],
 "metadata": {
  "kernelspec": {
   "display_name": "Python 3",
   "language": "python",
   "name": "python3"
  },
  "language_info": {
   "codemirror_mode": {
    "name": "ipython",
    "version": 3
   },
   "file_extension": ".py",
   "mimetype": "text/x-python",
   "name": "python",
   "nbconvert_exporter": "python",
   "pygments_lexer": "ipython3",
   "version": "3.10.10"
  }
 },
 "nbformat": 4,
 "nbformat_minor": 5
}
