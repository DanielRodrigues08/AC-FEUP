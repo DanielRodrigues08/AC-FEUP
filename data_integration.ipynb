{
 "cells": [
  {
   "cell_type": "markdown",
   "metadata": {},
   "source": [
    "# Data Integration"
   ]
  },
  {
   "cell_type": "code",
   "execution_count": 58,
   "metadata": {},
   "outputs": [],
   "source": [
    "import pandas as pd\n",
    "import os\n",
    "\n",
    "dataframes = dict()\n",
    "for dataset_name in os.listdir('data/clean'):\n",
    "    if dataset_name.endswith('.csv'):\n",
    "        dataframes[dataset_name.split(\".\")[0]] = pd.read_csv('data/clean/' + dataset_name) \n",
    "\n",
    "\n",
    "data = pd.merge(dataframes['teams_post'], dataframes['teams'], on=['tmID', 'year'], how='right')\n",
    "data = pd.merge(data, dataframes['coaches'], on=['tmID', 'year'], suffixes=('_team', '_coach'))\n",
    "data = pd.merge(data, dataframes['series_post'], left_on=['tmID', 'year'], right_on=['tmIDWinner', 'year'], suffixes=('_team_post', '_series'), how='left')\n",
    "data = pd.merge(data, dataframes['players_teams'], on=['tmID', 'year'], suffixes=('_team1', '_player1'))\n",
    "data = pd.merge(data, dataframes['players'], left_on='playerID', right_on='bioID')\n",
    "data.drop(\"bioID\", axis=1, inplace=True)\n",
    "data = pd.merge(data, dataframes['awards_players'], on=['playerID', 'year'], how='left')\n",
    "data = pd.merge(data, dataframes['awards_coaches'], on=['coachID', 'year'], suffixes=(\"_player\", \"_coach\"), how='left')\n",
    "\n",
    "data.to_csv('data/integrated.csv', index=False)"
   ]
  }
 ],
 "metadata": {
  "kernelspec": {
   "display_name": "Python 3",
   "language": "python",
   "name": "python3"
  },
  "language_info": {
   "codemirror_mode": {
    "name": "ipython",
    "version": 3
   },
   "file_extension": ".py",
   "mimetype": "text/x-python",
   "name": "python",
   "nbconvert_exporter": "python",
   "pygments_lexer": "ipython3",
   "version": "3.10.12"
  }
 },
 "nbformat": 4,
 "nbformat_minor": 2
}
