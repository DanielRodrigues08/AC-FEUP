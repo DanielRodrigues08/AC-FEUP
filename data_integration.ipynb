{
 "cells": [
  {
   "cell_type": "markdown",
   "metadata": {},
   "source": [
    "# Data Integration"
   ]
  },
  {
   "cell_type": "code",
   "execution_count": null,
   "metadata": {},
   "outputs": [],
   "source": [
    "import pandas as pd\n",
    "import os\n",
    "\n",
    "dataframes = dict()\n",
    "for dataset_name in os.listdir('data/clean'):\n",
    "    if dataset_name.endswith('.csv'):\n",
    "        dataframes[dataset_name.split(\".\")[0]] = pd.read_csv('clean_data/' + dataset_name) \n",
    "\n",
    "data = pd.merge(dataframes['teams_post'], dataframes['teams'], on=['tmID', 'year'], how='right')\n",
    "data = pd.merge(data, dataframes['coaches'], on=['tmID', 'year'], suffixes=('_team', '_coach'))\n",
    "data = pd.merge(data, dataframes['series_post'], left_on=['tmID', 'year'], right_on=['tmIDWinner', 'year'], suffixes=('_team_post', '_series'), how='left')\n",
    "data = pd.merge(data, dataframes['series_post'], left_on=['tmID', 'year'], right_on=['tmIDLoser', 'year'], suffixes=('_team_post', '_series'), how='left')\n",
    "data = pd.merge(data, dataframes['players_teams'], on=['tmID', 'year'], suffixes=('_team', '_player'))\n",
    "data = pd.merge(data, dataframes['players'], left_on='playerID', right_on='bioID')\n",
    "data = pd.merge(data, dataframes['awards_players'], on=['playerID'], how='left')\n",
    "\n",
    "data.to_csv('data/integrated.csv', index=False)"
   ]
  }
 ],
 "metadata": {
  "language_info": {
   "name": "python"
  }
 },
 "nbformat": 4,
 "nbformat_minor": 2
}
